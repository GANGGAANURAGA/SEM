{
 "cells": [
  {
   "cell_type": "markdown",
   "metadata": {},
   "source": [
    "#### Analisis Jalur / Path Analysis -- Gangga Anuraga "
   ]
  },
  {
   "cell_type": "markdown",
   "metadata": {},
   "source": [
    "1. Download Anaconda https://www.anaconda.com/distribution/\n",
    "2. Setelah ter-install buka anaconda dan pilih environments kemudian create nama project misal \"SEM\" dan pilih R\n",
    "3. Kemudian jalankan dengan open jupyter notebook pada environment\n",
    "\n",
    "![image](https://user-images.githubusercontent.com/36166387/79942458-16734980-8491-11ea-8663-06a1288923b2.png)"
   ]
  },
  {
   "cell_type": "markdown",
   "metadata": {},
   "source": [
    "materi path analysis dapat di download di https://drive.google.com/file/d/1z1y9Ky1N_Yc84TxpHYZl5698LBi7PsIu/view"
   ]
  },
  {
   "cell_type": "code",
   "execution_count": 1,
   "metadata": {},
   "outputs": [],
   "source": [
    "# library yang digunakan\n",
    "library(\"sem\")"
   ]
  },
  {
   "cell_type": "code",
   "execution_count": 2,
   "metadata": {},
   "outputs": [
    {
     "data": {
      "text/html": [
       "<table>\n",
       "<caption>A matrix: 4 × 4 of type dbl</caption>\n",
       "<thead>\n",
       "\t<tr><th></th><th scope=col>read</th><th scope=col>write</th><th scope=col>math</th><th scope=col>science</th></tr>\n",
       "</thead>\n",
       "<tbody>\n",
       "\t<tr><th scope=row>read</th><td>1.0000000</td><td>0.0000000</td><td>0.0000000</td><td>0</td></tr>\n",
       "\t<tr><th scope=row>write</th><td>0.5967765</td><td>1.0000000</td><td>0.0000000</td><td>0</td></tr>\n",
       "\t<tr><th scope=row>math</th><td>0.6622801</td><td>0.6174493</td><td>1.0000000</td><td>0</td></tr>\n",
       "\t<tr><th scope=row>science</th><td>0.6301579</td><td>0.5704416</td><td>0.6307332</td><td>1</td></tr>\n",
       "</tbody>\n",
       "</table>\n"
      ],
      "text/latex": [
       "A matrix: 4 × 4 of type dbl\n",
       "\\begin{tabular}{r|llll}\n",
       "  & read & write & math & science\\\\\n",
       "\\hline\n",
       "\tread & 1.0000000 & 0.0000000 & 0.0000000 & 0\\\\\n",
       "\twrite & 0.5967765 & 1.0000000 & 0.0000000 & 0\\\\\n",
       "\tmath & 0.6622801 & 0.6174493 & 1.0000000 & 0\\\\\n",
       "\tscience & 0.6301579 & 0.5704416 & 0.6307332 & 1\\\\\n",
       "\\end{tabular}\n"
      ],
      "text/markdown": [
       "\n",
       "A matrix: 4 × 4 of type dbl\n",
       "\n",
       "| <!--/--> | read | write | math | science |\n",
       "|---|---|---|---|---|\n",
       "| read | 1.0000000 | 0.0000000 | 0.0000000 | 0 |\n",
       "| write | 0.5967765 | 1.0000000 | 0.0000000 | 0 |\n",
       "| math | 0.6622801 | 0.6174493 | 1.0000000 | 0 |\n",
       "| science | 0.6301579 | 0.5704416 | 0.6307332 | 1 |\n",
       "\n"
      ],
      "text/plain": [
       "        read      write     math      science\n",
       "read    1.0000000 0.0000000 0.0000000 0      \n",
       "write   0.5967765 1.0000000 0.0000000 0      \n",
       "math    0.6622801 0.6174493 1.0000000 0      \n",
       "science 0.6301579 0.5704416 0.6307332 1      "
      ]
     },
     "metadata": {},
     "output_type": "display_data"
    }
   ],
   "source": [
    "# matrik korelasi, didapatkan dari korelasi antar variabel terukur\n",
    "R.sci <- readMoments(diag=FALSE, names=c(\"read\",\"write\",\"math\",\"science\"),\n",
    "                     text=\"\n",
    "                     0.5967765 \n",
    "                     0.6622801 0.6174493 \n",
    "                     0.6301579 0.5704416 0.6307332 \n",
    "                     \")\n",
    "R.sci"
   ]
  },
  {
   "cell_type": "code",
   "execution_count": 3,
   "metadata": {},
   "outputs": [
    {
     "name": "stderr",
     "output_type": "stream",
     "text": [
      "NOTE: it is generally simpler to use specifyEquations() or cfa()\n",
      "      see ?specifyEquations\n",
      "\n"
     ]
    },
    {
     "data": {
      "text/plain": [
       "  Path                Parameter\n",
       "1 read -> math        gam31    \n",
       "2 write -> math       gam32    \n",
       "3 read -> science     gam41    \n",
       "4 write -> science    gam42    \n",
       "5 math -> science     beta43   \n",
       "6 math <-> math       phi33    \n",
       "7 science <-> science phi44    "
      ]
     },
     "metadata": {},
     "output_type": "display_data"
    }
   ],
   "source": [
    "# Tentukan Spesifikasi Model\n",
    "mod.sci <- specifyModel(text=\"\n",
    "                        read -> math,gam31\n",
    "                        write -> math,gam32\n",
    "                        read -> science,gam41\n",
    "                        write -> science, gam42\n",
    "                        math -> science, beta43\n",
    "                        math <-> math, phi33\n",
    "                        science <-> science, phi44    \n",
    "                        \")    \n",
    "mod.sci"
   ]
  },
  {
   "cell_type": "code",
   "execution_count": 4,
   "metadata": {},
   "outputs": [],
   "source": [
    "help(specifyModel)"
   ]
  },
  {
   "cell_type": "code",
   "execution_count": 5,
   "metadata": {},
   "outputs": [
    {
     "data": {
      "text/plain": [
       "\n",
       " Total Effects (column on row)\n",
       "             read     write      math\n",
       "math    0.4563133 0.3451323 0.0000000\n",
       "science 0.4499934 0.3018961 0.3018541\n",
       "\n",
       " Direct Effects\n",
       "             read     write      math\n",
       "math    0.4563133 0.3451323 0.0000000\n",
       "science 0.3122534 0.1977165 0.3018541\n",
       "\n",
       " Indirect Effects\n",
       "           read     write math\n",
       "math    0.00000 0.0000000    0\n",
       "science 0.13774 0.1041796    0"
      ]
     },
     "metadata": {},
     "output_type": "display_data"
    },
    {
     "data": {
      "text/plain": [
       "\n",
       " Model Chisquare =  0   Df =  0 Pr(>Chisq) = NA\n",
       " AIC =  14\n",
       " BIC =  0\n",
       "\n",
       " Normalized Residuals\n",
       "     Min.   1st Qu.    Median      Mean   3rd Qu.      Max. \n",
       "0.000e+00 0.000e+00 1.216e-15 9.855e-16 1.360e-15 2.650e-15 \n",
       "\n",
       " R-square for Endogenous Variables\n",
       "   math science \n",
       " 0.5153  0.4999 \n",
       "\n",
       " Parameter Estimates\n",
       "       Estimate  Std Error  z value  Pr(>|z|)                         \n",
       "gam31  0.4563133 0.06150508 7.419115 1.179056e-13 math <--- read      \n",
       "gam32  0.3451323 0.06150508 5.611443 2.006466e-08 math <--- write     \n",
       "gam41  0.3122534 0.07058543 4.423765 9.699548e-06 science <--- read   \n",
       "gam42  0.1977165 0.06723349 2.940745 3.274241e-03 science <--- write  \n",
       "beta43 0.3018541 0.07200294 4.192246 2.762058e-05 science <--- math   \n",
       "phi33  0.4846911 0.04859074 9.974969 1.961633e-23 math <--> math      \n",
       "phi44  0.5000559 0.05013108 9.974969 1.961633e-23 science <--> science\n",
       "\n",
       " Iterations =  0 "
      ]
     },
     "metadata": {},
     "output_type": "display_data"
    }
   ],
   "source": [
    "sem.out <- sem(mod.sci, R.sci, N=200,fixed.x=c(\"read\",\"write\"), standardized=TRUE)\n",
    "effects(sem.out)\n",
    "summary(sem.out)"
   ]
  },
  {
   "cell_type": "code",
   "execution_count": 6,
   "metadata": {},
   "outputs": [
    {
     "name": "stderr",
     "output_type": "stream",
     "text": [
      "Loading required package: usethis\n",
      "\n",
      "Warning message:\n",
      "\"C:/Users/Anuraga/Documents/R-dev does not appear to be a library. Are sure you specified the correct directory?\"\n",
      "Dev mode: ON\n",
      "\n"
     ]
    }
   ],
   "source": [
    "# Diagram Jalur / Path Diagram\n",
    "library(devtools)\n",
    "dev_mode()"
   ]
  },
  {
   "cell_type": "code",
   "execution_count": 7,
   "metadata": {},
   "outputs": [
    {
     "ename": "ERROR",
     "evalue": "Error: package or namespace load failed for 'semPlot' in loadNamespace(j <- i[[1L]], c(lib.loc, .libPaths()), versionCheck = vI[[j]]):\n namespace 'vctrs' 0.2.2 is already loaded, but >= 0.2.4 is required\n",
     "output_type": "error",
     "traceback": [
      "Error: package or namespace load failed for 'semPlot' in loadNamespace(j <- i[[1L]], c(lib.loc, .libPaths()), versionCheck = vI[[j]]):\n namespace 'vctrs' 0.2.2 is already loaded, but >= 0.2.4 is required\nTraceback:\n",
      "1. library(semPlot)",
      "2. tryCatch({\n .     attr(package, \"LibPath\") <- which.lib.loc\n .     ns <- loadNamespace(package, lib.loc)\n .     env <- attachNamespace(ns, pos = pos, deps, exclude, include.only)\n . }, error = function(e) {\n .     P <- if (!is.null(cc <- conditionCall(e))) \n .         paste(\" in\", deparse(cc)[1L])\n .     else \"\"\n .     msg <- gettextf(\"package or namespace load failed for %s%s:\\n %s\", \n .         sQuote(package), P, conditionMessage(e))\n .     if (logical.return) \n .         message(paste(\"Error:\", msg), domain = NA)\n .     else stop(msg, call. = FALSE, domain = NA)\n . })",
      "3. tryCatchList(expr, classes, parentenv, handlers)",
      "4. tryCatchOne(expr, names, parentenv, handlers[[1L]])",
      "5. value[[3L]](cond)",
      "6. stop(msg, call. = FALSE, domain = NA)"
     ]
    }
   ],
   "source": [
    "library(semPlot)\n",
    "semPaths(sem.out,whatLabels=\"est.std\",style=\"lisrel\",residuals=TRUE)"
   ]
  },
  {
   "cell_type": "code",
   "execution_count": null,
   "metadata": {},
   "outputs": [],
   "source": [
    "dev_mode()"
   ]
  },
  {
   "attachments": {},
   "cell_type": "markdown",
   "metadata": {},
   "source": [
    "Pemahaman tentang varibel mediating/mediasi/antara/intervening,beberapa hal interpretasi yang digunakan dalam path analysis :\n",
    "1. Pengaruh langsung\n",
    "2. Pengaruh tak langsung\n",
    "Berikut konsep perhitungan signifikansi pengaruh tak langsung pada path analysis, menurut MacKinnon & Dwyer (1994) and from MacKinnon, Warsi, & Dwyer (1995):\n",
    "\n",
    "#### Sobel test equation : z-value = a*b/SQRT(b^2*sa^2 + a^2*sb^2)\n",
    "#### Aroian test equation : z-value = a*b/SQRT(b^2*sa^2 + a^2*sb^2 + sa^2*sb^2)\n",
    "#### Goodman test equation: z-value = a*b/SQRT(b^2*sa^2 + a^2*sb^2 - sa^2*sb^2)\n",
    "![image](https://user-images.githubusercontent.com/36166387/79942506-3276eb00-8491-11ea-8336-42b060324636.png)"
   ]
  },
  {
   "attachments": {},
   "cell_type": "markdown",
   "metadata": {},
   "source": [
    "Latihan : Berikut disajikan konseptual diagram jalur / diagram path\n",
    "![image](https://user-images.githubusercontent.com/36166387/79942542-43bff780-8491-11ea-9742-d54ce352d2da.png)"
   ]
  },
  {
   "cell_type": "markdown",
   "metadata": {},
   "source": [
    "Kerjakan di R dan berikan interpretasi pembahasan, data dapat di download pada link \n",
    "\n",
    "https://drive.google.com/file/d/1dwSZiBNVLJq2wjVvwkPD1z7nYgqzUBxY/view?usp=sharing"
   ]
  },
  {
   "cell_type": "code",
   "execution_count": null,
   "metadata": {},
   "outputs": [],
   "source": []
  }
 ],
 "metadata": {
  "kernelspec": {
   "display_name": "R",
   "language": "R",
   "name": "ir"
  },
  "language_info": {
   "codemirror_mode": "r",
   "file_extension": ".r",
   "mimetype": "text/x-r-source",
   "name": "R",
   "pygments_lexer": "r",
   "version": "3.6.2"
  }
 },
 "nbformat": 4,
 "nbformat_minor": 4
}
