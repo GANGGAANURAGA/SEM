{
 "cells": [
  {
   "cell_type": "markdown",
   "metadata": {},
   "source": [
    "#### Diagram jalur / Path diagrams (Gangga Anuraga)"
   ]
  },
  {
   "attachments": {},
   "cell_type": "markdown",
   "metadata": {},
   "source": [
    "![image](https://user-images.githubusercontent.com/36166387/79942759-c5178a00-8491-11ea-8815-a01af227b663.png)"
   ]
  },
  {
   "cell_type": "markdown",
   "metadata": {},
   "source": [
    "Hipotesis yang diangkat berdasarkan diagram jalur diatas yaitu :\n",
    "\n",
    "H1 : Vaiabel A (Status Gizi) dipengaruhi oleh variabel B (Lingkungan)\n",
    "\n",
    "H2 : Variabel A (Staus Gizi) dipengaruhi oleh variabel E (Pendidikan)\n",
    "\n",
    "H3 : Variabel A (Status Gizi) dipengaruhi oleh variabel D (Ekonomi)\n",
    "\n",
    "H4 : Variabel B (Lingkungan) dipengaruhi oleh variabel C (Pengetahuan)\n",
    "\n",
    "H5 : Variabel B (Lingkungan) dipengaruhi oleh variabel D (Ekonomi)\n",
    "\n",
    "H6 : Variabel C (Pengetahuan) dipengaruhi oleh variabel E (Pendidikan)\n",
    "\n",
    "H7 : Variabel C (Pengetahuan) dipengaruhi oleh variabel D (Ekonomi)\n",
    "\n",
    "H8 : Variabel E (Pendidikan) dipengaruhi oleh variabel D (Ekonomi)"
   ]
  },
  {
   "cell_type": "code",
   "execution_count": 1,
   "metadata": {},
   "outputs": [],
   "source": [
    "library(\"sem\")"
   ]
  },
  {
   "cell_type": "code",
   "execution_count": 2,
   "metadata": {},
   "outputs": [
    {
     "data": {
      "text/html": [
       "<table>\n",
       "<caption>A data.frame: 6 × 14</caption>\n",
       "<thead>\n",
       "\t<tr><th></th><th scope=col>ï..X1.1</th><th scope=col>X1.2</th><th scope=col>X1.3</th><th scope=col>X1.4</th><th scope=col>Y1.1</th><th scope=col>Y1.2</th><th scope=col>Y1.3</th><th scope=col>A</th><th scope=col>B</th><th scope=col>C</th><th scope=col>D</th><th scope=col>E</th><th scope=col>X2</th><th scope=col>X1</th></tr>\n",
       "\t<tr><th></th><th scope=col>&lt;int&gt;</th><th scope=col>&lt;int&gt;</th><th scope=col>&lt;int&gt;</th><th scope=col>&lt;int&gt;</th><th scope=col>&lt;int&gt;</th><th scope=col>&lt;int&gt;</th><th scope=col>&lt;int&gt;</th><th scope=col>&lt;dbl&gt;</th><th scope=col>&lt;dbl&gt;</th><th scope=col>&lt;dbl&gt;</th><th scope=col>&lt;dbl&gt;</th><th scope=col>&lt;dbl&gt;</th><th scope=col>&lt;dbl&gt;</th><th scope=col>&lt;dbl&gt;</th></tr>\n",
       "</thead>\n",
       "<tbody>\n",
       "\t<tr><th scope=row>1</th><td>4</td><td>4</td><td>5</td><td>4</td><td>4</td><td>4</td><td>4</td><td>4.00000</td><td>4.33333</td><td>3.66667</td><td>4.25</td><td>4.000000</td><td>4</td><td>4.5</td></tr>\n",
       "\t<tr><th scope=row>2</th><td>3</td><td>3</td><td>4</td><td>4</td><td>3</td><td>5</td><td>3</td><td>3.00000</td><td>4.33333</td><td>3.66667</td><td>3.50</td><td>3.666667</td><td>3</td><td>4.0</td></tr>\n",
       "\t<tr><th scope=row>3</th><td>5</td><td>5</td><td>3</td><td>5</td><td>3</td><td>4</td><td>4</td><td>4.00000</td><td>4.33333</td><td>3.66667</td><td>4.50</td><td>3.666667</td><td>5</td><td>4.0</td></tr>\n",
       "\t<tr><th scope=row>4</th><td>3</td><td>3</td><td>3</td><td>3</td><td>3</td><td>4</td><td>3</td><td>2.66667</td><td>3.00000</td><td>2.66667</td><td>3.00</td><td>3.333333</td><td>3</td><td>3.0</td></tr>\n",
       "\t<tr><th scope=row>5</th><td>3</td><td>3</td><td>3</td><td>4</td><td>4</td><td>4</td><td>4</td><td>3.66667</td><td>3.66667</td><td>3.33333</td><td>3.25</td><td>4.000000</td><td>3</td><td>3.5</td></tr>\n",
       "\t<tr><th scope=row>6</th><td>5</td><td>5</td><td>5</td><td>5</td><td>4</td><td>4</td><td>4</td><td>3.66667</td><td>3.66667</td><td>4.66667</td><td>5.00</td><td>4.000000</td><td>5</td><td>5.0</td></tr>\n",
       "</tbody>\n",
       "</table>\n"
      ],
      "text/latex": [
       "A data.frame: 6 × 14\n",
       "\\begin{tabular}{r|llllllllllllll}\n",
       "  & ï..X1.1 & X1.2 & X1.3 & X1.4 & Y1.1 & Y1.2 & Y1.3 & A & B & C & D & E & X2 & X1\\\\\n",
       "  & <int> & <int> & <int> & <int> & <int> & <int> & <int> & <dbl> & <dbl> & <dbl> & <dbl> & <dbl> & <dbl> & <dbl>\\\\\n",
       "\\hline\n",
       "\t1 & 4 & 4 & 5 & 4 & 4 & 4 & 4 & 4.00000 & 4.33333 & 3.66667 & 4.25 & 4.000000 & 4 & 4.5\\\\\n",
       "\t2 & 3 & 3 & 4 & 4 & 3 & 5 & 3 & 3.00000 & 4.33333 & 3.66667 & 3.50 & 3.666667 & 3 & 4.0\\\\\n",
       "\t3 & 5 & 5 & 3 & 5 & 3 & 4 & 4 & 4.00000 & 4.33333 & 3.66667 & 4.50 & 3.666667 & 5 & 4.0\\\\\n",
       "\t4 & 3 & 3 & 3 & 3 & 3 & 4 & 3 & 2.66667 & 3.00000 & 2.66667 & 3.00 & 3.333333 & 3 & 3.0\\\\\n",
       "\t5 & 3 & 3 & 3 & 4 & 4 & 4 & 4 & 3.66667 & 3.66667 & 3.33333 & 3.25 & 4.000000 & 3 & 3.5\\\\\n",
       "\t6 & 5 & 5 & 5 & 5 & 4 & 4 & 4 & 3.66667 & 3.66667 & 4.66667 & 5.00 & 4.000000 & 5 & 5.0\\\\\n",
       "\\end{tabular}\n"
      ],
      "text/markdown": [
       "\n",
       "A data.frame: 6 × 14\n",
       "\n",
       "| <!--/--> | ï..X1.1 &lt;int&gt; | X1.2 &lt;int&gt; | X1.3 &lt;int&gt; | X1.4 &lt;int&gt; | Y1.1 &lt;int&gt; | Y1.2 &lt;int&gt; | Y1.3 &lt;int&gt; | A &lt;dbl&gt; | B &lt;dbl&gt; | C &lt;dbl&gt; | D &lt;dbl&gt; | E &lt;dbl&gt; | X2 &lt;dbl&gt; | X1 &lt;dbl&gt; |\n",
       "|---|---|---|---|---|---|---|---|---|---|---|---|---|---|---|\n",
       "| 1 | 4 | 4 | 5 | 4 | 4 | 4 | 4 | 4.00000 | 4.33333 | 3.66667 | 4.25 | 4.000000 | 4 | 4.5 |\n",
       "| 2 | 3 | 3 | 4 | 4 | 3 | 5 | 3 | 3.00000 | 4.33333 | 3.66667 | 3.50 | 3.666667 | 3 | 4.0 |\n",
       "| 3 | 5 | 5 | 3 | 5 | 3 | 4 | 4 | 4.00000 | 4.33333 | 3.66667 | 4.50 | 3.666667 | 5 | 4.0 |\n",
       "| 4 | 3 | 3 | 3 | 3 | 3 | 4 | 3 | 2.66667 | 3.00000 | 2.66667 | 3.00 | 3.333333 | 3 | 3.0 |\n",
       "| 5 | 3 | 3 | 3 | 4 | 4 | 4 | 4 | 3.66667 | 3.66667 | 3.33333 | 3.25 | 4.000000 | 3 | 3.5 |\n",
       "| 6 | 5 | 5 | 5 | 5 | 4 | 4 | 4 | 3.66667 | 3.66667 | 4.66667 | 5.00 | 4.000000 | 5 | 5.0 |\n",
       "\n"
      ],
      "text/plain": [
       "  ï..X1.1 X1.2 X1.3 X1.4 Y1.1 Y1.2 Y1.3 A       B       C       D    E       \n",
       "1 4       4    5    4    4    4    4    4.00000 4.33333 3.66667 4.25 4.000000\n",
       "2 3       3    4    4    3    5    3    3.00000 4.33333 3.66667 3.50 3.666667\n",
       "3 5       5    3    5    3    4    4    4.00000 4.33333 3.66667 4.50 3.666667\n",
       "4 3       3    3    3    3    4    3    2.66667 3.00000 2.66667 3.00 3.333333\n",
       "5 3       3    3    4    4    4    4    3.66667 3.66667 3.33333 3.25 4.000000\n",
       "6 5       5    5    5    4    4    4    3.66667 3.66667 4.66667 5.00 4.000000\n",
       "  X2 X1 \n",
       "1 4  4.5\n",
       "2 3  4.0\n",
       "3 5  4.0\n",
       "4 3  3.0\n",
       "5 3  3.5\n",
       "6 5  5.0"
      ]
     },
     "metadata": {},
     "output_type": "display_data"
    }
   ],
   "source": [
    "data <- read.csv(\"data_analisis_jalur.csv\")\n",
    "head(data)"
   ]
  },
  {
   "cell_type": "code",
   "execution_count": 3,
   "metadata": {},
   "outputs": [
    {
     "data": {
      "text/html": [
       "<style>\n",
       ".list-inline {list-style: none; margin:0; padding: 0}\n",
       ".list-inline>li {display: inline-block}\n",
       ".list-inline>li:not(:last-child)::after {content: \"\\00b7\"; padding: 0 .5ex}\n",
       "</style>\n",
       "<ol class=list-inline><li>49</li><li>14</li></ol>\n"
      ],
      "text/latex": [
       "\\begin{enumerate*}\n",
       "\\item 49\n",
       "\\item 14\n",
       "\\end{enumerate*}\n"
      ],
      "text/markdown": [
       "1. 49\n",
       "2. 14\n",
       "\n",
       "\n"
      ],
      "text/plain": [
       "[1] 49 14"
      ]
     },
     "metadata": {},
     "output_type": "display_data"
    }
   ],
   "source": [
    "dim(data)"
   ]
  },
  {
   "cell_type": "code",
   "execution_count": 4,
   "metadata": {},
   "outputs": [],
   "source": [
    "library(\"ggplot2\")"
   ]
  },
  {
   "cell_type": "code",
   "execution_count": 5,
   "metadata": {},
   "outputs": [],
   "source": [
    "# install.packages(\"GGally\")"
   ]
  },
  {
   "cell_type": "code",
   "execution_count": 7,
   "metadata": {},
   "outputs": [
    {
     "data": {
      "image/png": "[encoded data removed]",
      "text/plain": [
       "plot without title"
      ]
     },
     "metadata": {
      "image/png": {
       "height": 420,
       "width": 420
      },
      "text/plain": {
       "height": 420,
       "width": 420
      }
     },
     "output_type": "display_data"
    }
   ],
   "source": [
    "update.packages(\"GGally\",dependencies = TRUE)\n",
    "library(\"GGally\")\n",
    "ggcorr(data[, 8:12], low = \"steelblue\", mid = \"white\", high = \"darkred\")"
   ]
  },
  {
   "cell_type": "code",
   "execution_count": 7,
   "metadata": {},
   "outputs": [
    {
     "data": {
      "text/html": [
       "<table>\n",
       "<thead><tr><th></th><th scope=col>A</th><th scope=col>B</th><th scope=col>C</th><th scope=col>D</th><th scope=col>E</th></tr></thead>\n",
       "<tbody>\n",
       "\t<tr><th scope=row>A</th><td>1.000</td><td>0.552</td><td>0.450</td><td>0.708</td><td>0.558</td></tr>\n",
       "\t<tr><th scope=row>B</th><td>0.552</td><td>1.000</td><td>0.503</td><td>0.523</td><td>0.437</td></tr>\n",
       "\t<tr><th scope=row>C</th><td>0.450</td><td>0.503</td><td>1.000</td><td>0.604</td><td>0.626</td></tr>\n",
       "\t<tr><th scope=row>D</th><td>0.708</td><td>0.523</td><td>0.604</td><td>1.000</td><td>0.508</td></tr>\n",
       "\t<tr><th scope=row>E</th><td>0.558</td><td>0.437</td><td>0.626</td><td>0.508</td><td>1.000</td></tr>\n",
       "</tbody>\n",
       "</table>\n"
      ],
      "text/latex": [
       "\\begin{tabular}{r|lllll}\n",
       "  & A & B & C & D & E\\\\\n",
       "\\hline\n",
       "\tA & 1.000 & 0.552 & 0.450 & 0.708 & 0.558\\\\\n",
       "\tB & 0.552 & 1.000 & 0.503 & 0.523 & 0.437\\\\\n",
       "\tC & 0.450 & 0.503 & 1.000 & 0.604 & 0.626\\\\\n",
       "\tD & 0.708 & 0.523 & 0.604 & 1.000 & 0.508\\\\\n",
       "\tE & 0.558 & 0.437 & 0.626 & 0.508 & 1.000\\\\\n",
       "\\end{tabular}\n"
      ],
      "text/markdown": [
       "\n",
       "| <!--/--> | A | B | C | D | E |\n",
       "|---|---|---|---|---|---|\n",
       "| A | 1.000 | 0.552 | 0.450 | 0.708 | 0.558 |\n",
       "| B | 0.552 | 1.000 | 0.503 | 0.523 | 0.437 |\n",
       "| C | 0.450 | 0.503 | 1.000 | 0.604 | 0.626 |\n",
       "| D | 0.708 | 0.523 | 0.604 | 1.000 | 0.508 |\n",
       "| E | 0.558 | 0.437 | 0.626 | 0.508 | 1.000 |\n",
       "\n"
      ],
      "text/plain": [
       "  A     B     C     D     E    \n",
       "A 1.000 0.552 0.450 0.708 0.558\n",
       "B 0.552 1.000 0.503 0.523 0.437\n",
       "C 0.450 0.503 1.000 0.604 0.626\n",
       "D 0.708 0.523 0.604 1.000 0.508\n",
       "E 0.558 0.437 0.626 0.508 1.000"
      ]
     },
     "metadata": {},
     "output_type": "display_data"
    }
   ],
   "source": [
    "options(digits = 3)\n",
    "cor(data[, 8:12],method = \"pearson\")"
   ]
  },
  {
   "cell_type": "markdown",
   "metadata": {},
   "source": [
    "Pada analisis korelasi dapat diketahui bahwa kelima variabel memiliki cukup kuat dan positif"
   ]
  },
  {
   "cell_type": "code",
   "execution_count": 8,
   "metadata": {},
   "outputs": [],
   "source": [
    "#help(cor)"
   ]
  },
  {
   "cell_type": "code",
   "execution_count": 9,
   "metadata": {},
   "outputs": [
    {
     "data": {
      "text/html": [
       "<table>\n",
       "<thead><tr><th></th><th scope=col>A</th><th scope=col>B</th><th scope=col>C</th><th scope=col>D</th><th scope=col>E</th></tr></thead>\n",
       "<tbody>\n",
       "\t<tr><th scope=row>A</th><td>1.000</td><td>0.000</td><td>0.000</td><td>0.000</td><td>0    </td></tr>\n",
       "\t<tr><th scope=row>B</th><td>0.552</td><td>1.000</td><td>0.000</td><td>0.000</td><td>0    </td></tr>\n",
       "\t<tr><th scope=row>C</th><td>0.450</td><td>0.503</td><td>1.000</td><td>0.000</td><td>0    </td></tr>\n",
       "\t<tr><th scope=row>D</th><td>0.708</td><td>0.523</td><td>0.604</td><td>1.000</td><td>0    </td></tr>\n",
       "\t<tr><th scope=row>E</th><td>0.558</td><td>0.437</td><td>0.626</td><td>0.508</td><td>1    </td></tr>\n",
       "</tbody>\n",
       "</table>\n"
      ],
      "text/latex": [
       "\\begin{tabular}{r|lllll}\n",
       "  & A & B & C & D & E\\\\\n",
       "\\hline\n",
       "\tA & 1.000 & 0.000 & 0.000 & 0.000 & 0    \\\\\n",
       "\tB & 0.552 & 1.000 & 0.000 & 0.000 & 0    \\\\\n",
       "\tC & 0.450 & 0.503 & 1.000 & 0.000 & 0    \\\\\n",
       "\tD & 0.708 & 0.523 & 0.604 & 1.000 & 0    \\\\\n",
       "\tE & 0.558 & 0.437 & 0.626 & 0.508 & 1    \\\\\n",
       "\\end{tabular}\n"
      ],
      "text/markdown": [
       "\n",
       "| <!--/--> | A | B | C | D | E |\n",
       "|---|---|---|---|---|---|\n",
       "| A | 1.000 | 0.000 | 0.000 | 0.000 | 0     |\n",
       "| B | 0.552 | 1.000 | 0.000 | 0.000 | 0     |\n",
       "| C | 0.450 | 0.503 | 1.000 | 0.000 | 0     |\n",
       "| D | 0.708 | 0.523 | 0.604 | 1.000 | 0     |\n",
       "| E | 0.558 | 0.437 | 0.626 | 0.508 | 1     |\n",
       "\n"
      ],
      "text/plain": [
       "  A     B     C     D     E\n",
       "A 1.000 0.000 0.000 0.000 0\n",
       "B 0.552 1.000 0.000 0.000 0\n",
       "C 0.450 0.503 1.000 0.000 0\n",
       "D 0.708 0.523 0.604 1.000 0\n",
       "E 0.558 0.437 0.626 0.508 1"
      ]
     },
     "metadata": {},
     "output_type": "display_data"
    }
   ],
   "source": [
    "datakorelasi <- readMoments(diag = FALSE, names=c(\"A\",\"B\",\"C\",\"D\",\"E\"),text = \"\n",
    "                        0.552 \n",
    "                        0.450 0.503 \n",
    "                        0.708 0.523 0.604 \n",
    "                        0.558 0.437 0.626 0.508\")\n",
    "datakorelasi"
   ]
  },
  {
   "cell_type": "code",
   "execution_count": 10,
   "metadata": {},
   "outputs": [
    {
     "name": "stderr",
     "output_type": "stream",
     "text": [
      "NOTE: it is generally simpler to use specifyEquations() or cfa()\n",
      "      see ?specifyEquations\n"
     ]
    }
   ],
   "source": [
    "modelpath <- specifyModel(text = \"\n",
    "                      D->A,gam11 \n",
    "                      D->B,gam21 \n",
    "                      D->C,gam31 \n",
    "                      D->E,gam41 \n",
    "                      B->A,beta12 \n",
    "                      C->B,beta23 \n",
    "                      E->A,beta14 \n",
    "                      E->C,beta34 \n",
    "                      A<->A,phi11 \n",
    "                      B<->B,phi22 \n",
    "                      C<->C,phi33 \n",
    "                      E<->E,phi44\")"
   ]
  },
  {
   "cell_type": "code",
   "execution_count": 30,
   "metadata": {},
   "outputs": [
    {
     "data": {
      "text/plain": [
       "\n",
       " Total Effects (column on row)\n",
       "      B      C     D     E\n",
       "A 0.198 0.0583 0.708 0.247\n",
       "B 0.000 0.2946 0.523 0.127\n",
       "C 0.000 0.0000 0.604 0.430\n",
       "E 0.000 0.0000 0.508 0.000\n",
       "\n",
       " Direct Effects\n",
       "      B     C     D     E\n",
       "A 0.198 0.000 0.492 0.222\n",
       "B 0.000 0.295 0.345 0.000\n",
       "C 0.000 0.000 0.385 0.430\n",
       "E 0.000 0.000 0.508 0.000\n",
       "\n",
       " Indirect Effects\n",
       "  B      C     D      E\n",
       "A 0 0.0583 0.216 0.0251\n",
       "B 0 0.0000 0.178 0.1267\n",
       "C 0 0.0000 0.219 0.0000\n",
       "E 0 0.0000 0.000 0.0000"
      ]
     },
     "metadata": {},
     "output_type": "display_data"
    },
    {
     "data": {
      "text/plain": [
       "\n",
       " Model Chisquare =  2.52   Df =  2 Pr(>Chisq) = 0.284\n",
       " AIC =  26.5\n",
       " BIC =  -5.27\n",
       "\n",
       " Normalized Residuals\n",
       "   Min. 1st Qu.  Median    Mean 3rd Qu.    Max. \n",
       " -0.523   0.000   0.000   0.016   0.033   0.504 \n",
       "\n",
       " R-square for Endogenous Variables\n",
       "    A     B     C     E \n",
       "0.578 0.329 0.502 0.258 \n",
       "\n",
       " Parameter Estimates\n",
       "       Estimate Std Error z value Pr(>|z|)         \n",
       "gam11  0.492    0.1197    4.11    3.96e-05 A <--- D\n",
       "gam21  0.345    0.1484    2.33    2.00e-02 B <--- D\n",
       "gam31  0.385    0.1182    3.26    1.11e-03 C <--- D\n",
       "gam41  0.508    0.1243    4.09    4.39e-05 E <--- D\n",
       "beta12 0.198    0.1105    1.79    7.34e-02 A <--- B\n",
       "beta23 0.295    0.1484    1.99    4.71e-02 B <--- C\n",
       "beta14 0.222    0.1093    2.03    4.27e-02 A <--- E\n",
       "beta34 0.430    0.1182    3.64    2.74e-04 C <--- E\n",
       "phi11  0.419    0.0855    4.90    9.63e-07 A <--> A\n",
       "phi22  0.671    0.1370    4.90    9.63e-07 B <--> B\n",
       "phi33  0.498    0.1016    4.90    9.63e-07 C <--> C\n",
       "phi44  0.742    0.1514    4.90    9.63e-07 E <--> E\n",
       "\n",
       " Iterations =  0 "
      ]
     },
     "metadata": {},
     "output_type": "display_data"
    }
   ],
   "source": [
    "path.out <- sem(modelpath, datakorelasi, N=49,fixed.x = c(\"D\"))\n",
    "effects(path.out)\n",
    "summary(path.out)"
   ]
  },
  {
   "cell_type": "code",
   "execution_count": 33,
   "metadata": {},
   "outputs": [
    {
     "name": "stderr",
     "output_type": "stream",
     "text": [
      "Dev mode: ON\n"
     ]
    }
   ],
   "source": [
    "# Diagram Jalur / Path Diagram\n",
    "library(devtools)\n",
    "dev_mode()"
   ]
  },
  {
   "cell_type": "code",
   "execution_count": 34,
   "metadata": {},
   "outputs": [
    {
     "name": "stderr",
     "output_type": "stream",
     "text": [
      "Registered S3 methods overwritten by 'huge':\n",
      "  method    from   \n",
      "  plot.sim  BDgraph\n",
      "  print.sim BDgraph\n"
     ]
    },
    {
     "data": {
      "image/png": "[encoded data removed]",
      "text/plain": [
       "plot without title"
      ]
     },
     "metadata": {},
     "output_type": "display_data"
    }
   ],
   "source": [
    "library(semPlot)\n",
    "semPaths(path.out,whatLabels=\"est.std\",style=\"lisrel\",residuals=TRUE)"
   ]
  },
  {
   "cell_type": "code",
   "execution_count": 35,
   "metadata": {},
   "outputs": [],
   "source": [
    "# names(path.out)"
   ]
  },
  {
   "cell_type": "code",
   "execution_count": 36,
   "metadata": {},
   "outputs": [],
   "source": [
    "# help(sem)"
   ]
  },
  {
   "cell_type": "markdown",
   "metadata": {},
   "source": [
    "## Pembahasan : \n",
    "#### 1.Pengaruh Langsung\n",
    "\n",
    "\n"
   ]
  },
  {
   "attachments": {},
   "cell_type": "markdown",
   "metadata": {},
   "source": [
    "Variabel D (Ekonomi), Variabel E (Pendidikan) berpengaruh signifikan terhadap Variabel A (Status Gizi), Variabel B (Lingkungan) tidak berpengaruh signifikan terhadap Vaiabel A (Status Gizi). Variabel C (Pengetahuan) dan Variabel D (Ekonomi) berpengaruh signifikan terhadap terhadap variabel B (Lingkungan). Variabel D (Ekonomi) dan Variabel E (Pendidikan) berpengaruh signifikan terhadap variabel C (Pengetahuan). Variabel D (Ekonomi) berpengaruh signifikan terhadap Variabel E (Pendidikan). (Z_value dapat dibandingkan dengan 1,96 dengan alpha 5%, atau P_value dibandingkan dengan alpha 5%)\n",
    "\n",
    "Penulisan Model --> \n",
    "\n",
    "Model Estimasi Persamaan Variabel A : 0.492D + 0.198B +  0.222E (R-square = 0.578)\n",
    "\n",
    "Model Estimasi Persamaan Variabel B : 0.345D + 0.295C (R-square = 0.329)\n",
    "\n",
    "Model Estimasi Persamaan Variabel C : 0.385D + 0.430E (R-square = 0.502)\n",
    "\n",
    "Model Estimasi Persamaan Variabel E : 0.508D (R-square = 0.258)\n",
    "\n",
    "#### R-square menginterpretasikan kebaikan model secara parsial. Banyak model matematis dalam suatu path diagram tergantung dari jumlah variabel yang ditunjuk oleh anak panah (path diagram dibangun dari konseptual teori)\n",
    "\n",
    "#### Overal Goodness Of Fit : menunjukan kebaikan model secara serentak/struktural ( model sesuai atau model tidak sesuai, dan secara hipotesis yang diharapkan adalah gagal tolak H0). Jika P_value atau nilai probabilitas > alpha 0,05 maka dikatakan model sesuai (tidak ada beda antara observasi dengan prediksi) secara serentak/struktural.\n",
    "![image](https://user-images.githubusercontent.com/36166387/79942899-ed9f8400-8491-11ea-9333-51e6da2a6cbf.png)\n"
   ]
  },
  {
   "cell_type": "markdown",
   "metadata": {},
   "source": [
    "#### 2.Pengaruh Tidak Langsung\n"
   ]
  },
  {
   "attachments": {},
   "cell_type": "markdown",
   "metadata": {},
   "source": [
    "![image](https://user-images.githubusercontent.com/36166387/79943003-06a83500-8492-11ea-9c39-4149d842550f.png)"
   ]
  },
  {
   "attachments": {},
   "cell_type": "markdown",
   "metadata": {},
   "source": [
    "Contoh perhitungan manual :\n",
    "1. D --> E --> C : 0,508 x 0,43 = 0,218\n",
    "2. D --> C --> B : 0,604 x 0,295 = 0,178\n",
    "3. D --> B --> A + D --> E --> A : 0,523 x 0,198 + 0,508 x 0,222 = 0,216\n",
    "4. E --> C --> B : 0,43 x 0,295 = 0,1268\n",
    "5. E --> B --> A : 0,1268 x 0,198 = 0,0251\n",
    "6. C --> B --> A : 0,295 x 0,198 = 0.0584\n",
    "\n",
    "Signifikansi Pengaruh tidak langsung :\n",
    "![image](https://user-images.githubusercontent.com/36166387/79943062-29d2e480-8492-11ea-91a7-d5e1c31eff43.png)"
   ]
  },
  {
   "attachments": {},
   "cell_type": "markdown",
   "metadata": {},
   "source": [
    "![image](https://user-images.githubusercontent.com/36166387/79943112-4838e000-8492-11ea-8c3a-ec2f3c9534de.png)"
   ]
  },
  {
   "cell_type": "markdown",
   "metadata": {},
   "source": [
    "contoh :\n",
    "D --> E --> C : E sebagai mediator, \n",
    "a = 0.508, sa = 0.1243\n",
    "b = 0.430, sb = 0.1182\n",
    "\n",
    "Berdasarkan informasi diatas, nilai Z_value dengan formulasi Sobel dapat dihitung dan tingkat signifikansi dapat dibandingkan dengan titik kritis 1,96."
   ]
  },
  {
   "cell_type": "markdown",
   "metadata": {},
   "source": [
    "#### URL jurnal untuk kasus multiple mediating/mediator/mediasi perhitungan tingkat signifikansi ada artikel dibawah :\n",
    "url = http://quantpsy.org/pubs/preacher_hayes_2008b.pdf"
   ]
  },
  {
   "cell_type": "code",
   "execution_count": 37,
   "metadata": {},
   "outputs": [
    {
     "data": {
      "text/html": [
       "<table>\n",
       "<thead><tr><th scope=col>A</th><th scope=col>B</th><th scope=col>C</th><th scope=col>D</th><th scope=col>E</th></tr></thead>\n",
       "<tbody>\n",
       "\t<tr><td>4.00</td><td>4.33</td><td>3.67</td><td>4.25</td><td>4.00</td></tr>\n",
       "\t<tr><td>3.00</td><td>4.33</td><td>3.67</td><td>3.50</td><td>3.67</td></tr>\n",
       "\t<tr><td>4.00</td><td>4.33</td><td>3.67</td><td>4.50</td><td>3.67</td></tr>\n",
       "\t<tr><td>2.67</td><td>3.00</td><td>2.67</td><td>3.00</td><td>3.33</td></tr>\n",
       "\t<tr><td>3.67</td><td>3.67</td><td>3.33</td><td>3.25</td><td>4.00</td></tr>\n",
       "\t<tr><td>3.67</td><td>3.67</td><td>4.67</td><td>5.00</td><td>4.00</td></tr>\n",
       "</tbody>\n",
       "</table>\n"
      ],
      "text/latex": [
       "\\begin{tabular}{r|lllll}\n",
       " A & B & C & D & E\\\\\n",
       "\\hline\n",
       "\t 4.00 & 4.33 & 3.67 & 4.25 & 4.00\\\\\n",
       "\t 3.00 & 4.33 & 3.67 & 3.50 & 3.67\\\\\n",
       "\t 4.00 & 4.33 & 3.67 & 4.50 & 3.67\\\\\n",
       "\t 2.67 & 3.00 & 2.67 & 3.00 & 3.33\\\\\n",
       "\t 3.67 & 3.67 & 3.33 & 3.25 & 4.00\\\\\n",
       "\t 3.67 & 3.67 & 4.67 & 5.00 & 4.00\\\\\n",
       "\\end{tabular}\n"
      ],
      "text/markdown": [
       "\n",
       "| A | B | C | D | E |\n",
       "|---|---|---|---|---|\n",
       "| 4.00 | 4.33 | 3.67 | 4.25 | 4.00 |\n",
       "| 3.00 | 4.33 | 3.67 | 3.50 | 3.67 |\n",
       "| 4.00 | 4.33 | 3.67 | 4.50 | 3.67 |\n",
       "| 2.67 | 3.00 | 2.67 | 3.00 | 3.33 |\n",
       "| 3.67 | 3.67 | 3.33 | 3.25 | 4.00 |\n",
       "| 3.67 | 3.67 | 4.67 | 5.00 | 4.00 |\n",
       "\n"
      ],
      "text/plain": [
       "  A    B    C    D    E   \n",
       "1 4.00 4.33 3.67 4.25 4.00\n",
       "2 3.00 4.33 3.67 3.50 3.67\n",
       "3 4.00 4.33 3.67 4.50 3.67\n",
       "4 2.67 3.00 2.67 3.00 3.33\n",
       "5 3.67 3.67 3.33 3.25 4.00\n",
       "6 3.67 3.67 4.67 5.00 4.00"
      ]
     },
     "metadata": {},
     "output_type": "display_data"
    }
   ],
   "source": [
    "Data = data[, 8:12]\n",
    "Data = data.frame(Data)\n",
    "head(Data)"
   ]
  },
  {
   "cell_type": "code",
   "execution_count": 38,
   "metadata": {},
   "outputs": [],
   "source": [
    "library(\"MVN\")"
   ]
  },
  {
   "cell_type": "code",
   "execution_count": 39,
   "metadata": {},
   "outputs": [],
   "source": [
    "# help(mvn)"
   ]
  },
  {
   "cell_type": "code",
   "execution_count": 40,
   "metadata": {},
   "outputs": [
    {
     "data": {
      "image/png": "[encoded data removed]",
      "text/plain": [
       "Plot with title \"Chi-Square Q-Q Plot\""
      ]
     },
     "metadata": {},
     "output_type": "display_data"
    },
    {
     "data": {
      "image/png": "[encoded data removed]",
      "text/plain": [
       "Plot with title \"Chi-Square Q-Q Plot\""
      ]
     },
     "metadata": {},
     "output_type": "display_data"
    }
   ],
   "source": [
    "#normal multivariate\n",
    "normalmulti <- mvn(Data, mvnTest = \"mardia\", \n",
    "cov = TRUE, multivariatePlot = \"qq\", \n",
    "multivariateOutlierMethod = \"quan\",\n",
    "showOutliers = TRUE, showNewData = TRUE)"
   ]
  },
  {
   "cell_type": "code",
   "execution_count": 41,
   "metadata": {},
   "outputs": [
    {
     "data": {
      "text/html": [
       "<table>\n",
       "<thead><tr><th></th><th scope=col>A</th><th scope=col>B</th><th scope=col>C</th><th scope=col>D</th><th scope=col>E</th></tr></thead>\n",
       "<tbody>\n",
       "\t<tr><th scope=row>1</th><td>4.00</td><td>4.33</td><td>3.67</td><td>4.25</td><td>4.00</td></tr>\n",
       "\t<tr><th scope=row>10</th><td>4.00</td><td>4.33</td><td>4.67</td><td>4.00</td><td>4.33</td></tr>\n",
       "\t<tr><th scope=row>11</th><td>3.67</td><td>3.67</td><td>3.67</td><td>3.50</td><td>3.67</td></tr>\n",
       "\t<tr><th scope=row>12</th><td>3.67</td><td>4.00</td><td>4.33</td><td>4.25</td><td>4.33</td></tr>\n",
       "\t<tr><th scope=row>13</th><td>3.67</td><td>4.00</td><td>4.67</td><td>4.75</td><td>3.33</td></tr>\n",
       "\t<tr><th scope=row>14</th><td>4.00</td><td>4.33</td><td>3.67</td><td>4.25</td><td>3.67</td></tr>\n",
       "</tbody>\n",
       "</table>\n"
      ],
      "text/latex": [
       "\\begin{tabular}{r|lllll}\n",
       "  & A & B & C & D & E\\\\\n",
       "\\hline\n",
       "\t1 & 4.00 & 4.33 & 3.67 & 4.25 & 4.00\\\\\n",
       "\t10 & 4.00 & 4.33 & 4.67 & 4.00 & 4.33\\\\\n",
       "\t11 & 3.67 & 3.67 & 3.67 & 3.50 & 3.67\\\\\n",
       "\t12 & 3.67 & 4.00 & 4.33 & 4.25 & 4.33\\\\\n",
       "\t13 & 3.67 & 4.00 & 4.67 & 4.75 & 3.33\\\\\n",
       "\t14 & 4.00 & 4.33 & 3.67 & 4.25 & 3.67\\\\\n",
       "\\end{tabular}\n"
      ],
      "text/markdown": [
       "\n",
       "| <!--/--> | A | B | C | D | E |\n",
       "|---|---|---|---|---|---|\n",
       "| 1 | 4.00 | 4.33 | 3.67 | 4.25 | 4.00 |\n",
       "| 10 | 4.00 | 4.33 | 4.67 | 4.00 | 4.33 |\n",
       "| 11 | 3.67 | 3.67 | 3.67 | 3.50 | 3.67 |\n",
       "| 12 | 3.67 | 4.00 | 4.33 | 4.25 | 4.33 |\n",
       "| 13 | 3.67 | 4.00 | 4.67 | 4.75 | 3.33 |\n",
       "| 14 | 4.00 | 4.33 | 3.67 | 4.25 | 3.67 |\n",
       "\n"
      ],
      "text/plain": [
       "   A    B    C    D    E   \n",
       "1  4.00 4.33 3.67 4.25 4.00\n",
       "10 4.00 4.33 4.67 4.00 4.33\n",
       "11 3.67 3.67 3.67 3.50 3.67\n",
       "12 3.67 4.00 4.33 4.25 4.33\n",
       "13 3.67 4.00 4.67 4.75 3.33\n",
       "14 4.00 4.33 3.67 4.25 3.67"
      ]
     },
     "metadata": {},
     "output_type": "display_data"
    }
   ],
   "source": [
    "# data tanpa outlier\n",
    "Data.1 <- normalmulti$newData\n",
    "head(Data.1)"
   ]
  },
  {
   "cell_type": "code",
   "execution_count": 42,
   "metadata": {},
   "outputs": [
    {
     "data": {
      "text/html": [
       "<dl>\n",
       "\t<dt>$multivariateNormality</dt>\n",
       "\t\t<dd><table>\n",
       "<thead><tr><th scope=col>Test</th><th scope=col>Statistic</th><th scope=col>p value</th><th scope=col>Result</th></tr></thead>\n",
       "<tbody>\n",
       "\t<tr><td>Mardia Skewness     </td><td>78.6758273628276    </td><td>3.32444144842308e-05</td><td>NO                  </td></tr>\n",
       "\t<tr><td>Mardia Kurtosis     </td><td>2.36960319523168    </td><td>0.0178071849728165  </td><td>NO                  </td></tr>\n",
       "\t<tr><td>MVN                 </td><td>NA                  </td><td>NA                  </td><td>NO                  </td></tr>\n",
       "</tbody>\n",
       "</table>\n",
       "</dd>\n",
       "\t<dt>$univariateNormality</dt>\n",
       "\t\t<dd><table>\n",
       "<thead><tr><th scope=col>Test</th><th scope=col>Variable</th><th scope=col>Statistic</th><th scope=col>p value</th><th scope=col>Normality</th></tr></thead>\n",
       "<tbody>\n",
       "\t<tr><td>Shapiro-Wilk</td><td>    A       </td><td>    0.872   </td><td>   0.0001   </td><td>   NO       </td></tr>\n",
       "\t<tr><td>Shapiro-Wilk</td><td>    B       </td><td>    0.899   </td><td>   0.0005   </td><td>   NO       </td></tr>\n",
       "\t<tr><td>Shapiro-Wilk</td><td>    C       </td><td>    0.880   </td><td>   0.0001   </td><td>   NO       </td></tr>\n",
       "\t<tr><td>Shapiro-Wilk</td><td>    D       </td><td>    0.919   </td><td>   0.0025   </td><td>   NO       </td></tr>\n",
       "\t<tr><td>Shapiro-Wilk</td><td>    E       </td><td>    0.881   </td><td>   0.0001   </td><td>   NO       </td></tr>\n",
       "</tbody>\n",
       "</table>\n",
       "</dd>\n",
       "\t<dt>$Descriptives</dt>\n",
       "\t\t<dd><table>\n",
       "<thead><tr><th></th><th scope=col>n</th><th scope=col>Mean</th><th scope=col>Std.Dev</th><th scope=col>Median</th><th scope=col>Min</th><th scope=col>Max</th><th scope=col>25th</th><th scope=col>75th</th><th scope=col>Skew</th><th scope=col>Kurtosis</th></tr></thead>\n",
       "<tbody>\n",
       "\t<tr><th scope=row>A</th><td>49    </td><td>3.84  </td><td>0.486 </td><td>3.67  </td><td>2.00  </td><td>4.67  </td><td>3.67  </td><td>4.00  </td><td>-1.024</td><td> 2.912</td></tr>\n",
       "\t<tr><th scope=row>B</th><td>49    </td><td>3.90  </td><td>0.566 </td><td>4.00  </td><td>2.33  </td><td>4.67  </td><td>3.67  </td><td>4.33  </td><td>-0.952</td><td> 0.625</td></tr>\n",
       "\t<tr><th scope=row>C</th><td>49    </td><td>3.93  </td><td>0.593 </td><td>3.67  </td><td>2.67  </td><td>4.67  </td><td>3.67  </td><td>4.33  </td><td>-0.437</td><td>-0.521</td></tr>\n",
       "\t<tr><th scope=row>D</th><td>49    </td><td>4.00  </td><td>0.610 </td><td>4.00  </td><td>1.75  </td><td>5.00  </td><td>3.75  </td><td>4.25  </td><td>-1.120</td><td> 2.138</td></tr>\n",
       "\t<tr><th scope=row>E</th><td>49    </td><td>4.03  </td><td>0.661 </td><td>4.00  </td><td>1.33  </td><td>5.00  </td><td>3.67  </td><td>4.33  </td><td>-1.240</td><td> 3.525</td></tr>\n",
       "</tbody>\n",
       "</table>\n",
       "</dd>\n",
       "\t<dt>$multivariateOutliers</dt>\n",
       "\t\t<dd><table>\n",
       "<thead><tr><th></th><th scope=col>Observation</th><th scope=col>Mahalanobis Distance</th><th scope=col>Outlier</th></tr></thead>\n",
       "<tbody>\n",
       "\t<tr><th scope=row>22</th><td>22  </td><td>35.5</td><td>TRUE</td></tr>\n",
       "\t<tr><th scope=row>24</th><td>24  </td><td>23.7</td><td>TRUE</td></tr>\n",
       "\t<tr><th scope=row>4</th><td>4   </td><td>19.4</td><td>TRUE</td></tr>\n",
       "\t<tr><th scope=row>40</th><td>40  </td><td>17.4</td><td>TRUE</td></tr>\n",
       "\t<tr><th scope=row>25</th><td>25  </td><td>15.6</td><td>TRUE</td></tr>\n",
       "</tbody>\n",
       "</table>\n",
       "</dd>\n",
       "\t<dt>$newData</dt>\n",
       "\t\t<dd><table>\n",
       "<thead><tr><th></th><th scope=col>A</th><th scope=col>B</th><th scope=col>C</th><th scope=col>D</th><th scope=col>E</th></tr></thead>\n",
       "<tbody>\n",
       "\t<tr><th scope=row>1</th><td>4.00</td><td>4.33</td><td>3.67</td><td>4.25</td><td>4.00</td></tr>\n",
       "\t<tr><th scope=row>10</th><td>4.00</td><td>4.33</td><td>4.67</td><td>4.00</td><td>4.33</td></tr>\n",
       "\t<tr><th scope=row>11</th><td>3.67</td><td>3.67</td><td>3.67</td><td>3.50</td><td>3.67</td></tr>\n",
       "\t<tr><th scope=row>12</th><td>3.67</td><td>4.00</td><td>4.33</td><td>4.25</td><td>4.33</td></tr>\n",
       "\t<tr><th scope=row>13</th><td>3.67</td><td>4.00</td><td>4.67</td><td>4.75</td><td>3.33</td></tr>\n",
       "\t<tr><th scope=row>14</th><td>4.00</td><td>4.33</td><td>3.67</td><td>4.25</td><td>3.67</td></tr>\n",
       "\t<tr><th scope=row>15</th><td>3.67</td><td>3.67</td><td>4.67</td><td>4.25</td><td>4.33</td></tr>\n",
       "\t<tr><th scope=row>16</th><td>4.33</td><td>4.00</td><td>4.67</td><td>4.75</td><td>4.33</td></tr>\n",
       "\t<tr><th scope=row>17</th><td>4.33</td><td>3.67</td><td>3.67</td><td>4.25</td><td>4.33</td></tr>\n",
       "\t<tr><th scope=row>18</th><td>3.67</td><td>4.00</td><td>3.67</td><td>4.00</td><td>4.33</td></tr>\n",
       "\t<tr><th scope=row>19</th><td>4.00</td><td>4.00</td><td>3.67</td><td>4.50</td><td>4.67</td></tr>\n",
       "\t<tr><th scope=row>2</th><td>3.00</td><td>4.33</td><td>3.67</td><td>3.50</td><td>3.67</td></tr>\n",
       "\t<tr><th scope=row>20</th><td>3.67</td><td>4.00</td><td>4.67</td><td>3.75</td><td>5.00</td></tr>\n",
       "\t<tr><th scope=row>21</th><td>3.67</td><td>4.67</td><td>4.00</td><td>4.50</td><td>4.00</td></tr>\n",
       "\t<tr><th scope=row>23</th><td>3.33</td><td>3.33</td><td>3.67</td><td>3.25</td><td>3.33</td></tr>\n",
       "\t<tr><th scope=row>26</th><td>3.67</td><td>3.67</td><td>3.33</td><td>3.75</td><td>3.33</td></tr>\n",
       "\t<tr><th scope=row>27</th><td>4.67</td><td>4.67</td><td>3.67</td><td>4.75</td><td>3.67</td></tr>\n",
       "\t<tr><th scope=row>28</th><td>3.33</td><td>3.33</td><td>3.67</td><td>3.25</td><td>3.33</td></tr>\n",
       "\t<tr><th scope=row>29</th><td>3.67</td><td>4.33</td><td>4.33</td><td>4.25</td><td>4.67</td></tr>\n",
       "\t<tr><th scope=row>3</th><td>4.00</td><td>4.33</td><td>3.67</td><td>4.50</td><td>3.67</td></tr>\n",
       "\t<tr><th scope=row>30</th><td>4.00</td><td>4.00</td><td>3.67</td><td>4.00</td><td>4.33</td></tr>\n",
       "\t<tr><th scope=row>31</th><td>3.33</td><td>3.00</td><td>2.67</td><td>2.75</td><td>3.00</td></tr>\n",
       "\t<tr><th scope=row>32</th><td>4.67</td><td>4.67</td><td>4.00</td><td>4.25</td><td>4.33</td></tr>\n",
       "\t<tr><th scope=row>33</th><td>4.00</td><td>4.33</td><td>4.33</td><td>4.00</td><td>5.00</td></tr>\n",
       "\t<tr><th scope=row>34</th><td>3.67</td><td>4.00</td><td>3.67</td><td>3.75</td><td>3.67</td></tr>\n",
       "\t<tr><th scope=row>35</th><td>4.00</td><td>4.33</td><td>4.00</td><td>3.50</td><td>3.67</td></tr>\n",
       "\t<tr><th scope=row>36</th><td>4.33</td><td>4.67</td><td>4.67</td><td>4.00</td><td>4.33</td></tr>\n",
       "\t<tr><th scope=row>37</th><td>3.67</td><td>4.33</td><td>4.33</td><td>4.25</td><td>4.67</td></tr>\n",
       "\t<tr><th scope=row>38</th><td>4.33</td><td>3.67</td><td>3.67</td><td>4.50</td><td>4.33</td></tr>\n",
       "\t<tr><th scope=row>39</th><td>4.00</td><td>4.33</td><td>3.67</td><td>4.25</td><td>3.67</td></tr>\n",
       "\t<tr><th scope=row>41</th><td>3.67</td><td>3.33</td><td>3.67</td><td>4.00</td><td>4.33</td></tr>\n",
       "\t<tr><th scope=row>42</th><td>3.67</td><td>3.67</td><td>4.67</td><td>4.25</td><td>4.67</td></tr>\n",
       "\t<tr><th scope=row>43</th><td>4.67</td><td>4.33</td><td>4.00</td><td>4.75</td><td>3.67</td></tr>\n",
       "\t<tr><th scope=row>44</th><td>4.00</td><td>4.33</td><td>3.67</td><td>3.75</td><td>4.67</td></tr>\n",
       "\t<tr><th scope=row>45</th><td>4.00</td><td>4.67</td><td>4.00</td><td>3.75</td><td>5.00</td></tr>\n",
       "\t<tr><th scope=row>46</th><td>4.00</td><td>4.00</td><td>4.33</td><td>4.50</td><td>4.67</td></tr>\n",
       "\t<tr><th scope=row>47</th><td>4.33</td><td>4.00</td><td>4.33</td><td>5.00</td><td>3.67</td></tr>\n",
       "\t<tr><th scope=row>48</th><td>4.00</td><td>4.33</td><td>3.67</td><td>4.00</td><td>3.67</td></tr>\n",
       "\t<tr><th scope=row>49</th><td>4.00</td><td>4.00</td><td>4.67</td><td>3.75</td><td>4.33</td></tr>\n",
       "\t<tr><th scope=row>5</th><td>3.67</td><td>3.67</td><td>3.33</td><td>3.25</td><td>4.00</td></tr>\n",
       "\t<tr><th scope=row>6</th><td>3.67</td><td>3.67</td><td>4.67</td><td>5.00</td><td>4.00</td></tr>\n",
       "\t<tr><th scope=row>7</th><td>3.67</td><td>3.67</td><td>4.67</td><td>4.25</td><td>4.67</td></tr>\n",
       "\t<tr><th scope=row>8</th><td>4.33</td><td>3.67</td><td>4.67</td><td>4.50</td><td>5.00</td></tr>\n",
       "\t<tr><th scope=row>9</th><td>3.67</td><td>3.33</td><td>4.33</td><td>4.00</td><td>3.67</td></tr>\n",
       "</tbody>\n",
       "</table>\n",
       "</dd>\n",
       "</dl>\n"
      ],
      "text/latex": [
       "\\begin{description}\n",
       "\\item[\\$multivariateNormality] \\begin{tabular}{r|llll}\n",
       " Test & Statistic & p value & Result\\\\\n",
       "\\hline\n",
       "\t Mardia Skewness      & 78.6758273628276     & 3.32444144842308e-05 & NO                  \\\\\n",
       "\t Mardia Kurtosis      & 2.36960319523168     & 0.0178071849728165   & NO                  \\\\\n",
       "\t MVN                  & NA                   & NA                   & NO                  \\\\\n",
       "\\end{tabular}\n",
       "\n",
       "\\item[\\$univariateNormality] \\begin{tabular}{r|lllll}\n",
       " Test & Variable & Statistic & p value & Normality\\\\\n",
       "\\hline\n",
       "\t Shapiro-Wilk &     A        &     0.872    &    0.0001    &    NO       \\\\\n",
       "\t Shapiro-Wilk &     B        &     0.899    &    0.0005    &    NO       \\\\\n",
       "\t Shapiro-Wilk &     C        &     0.880    &    0.0001    &    NO       \\\\\n",
       "\t Shapiro-Wilk &     D        &     0.919    &    0.0025    &    NO       \\\\\n",
       "\t Shapiro-Wilk &     E        &     0.881    &    0.0001    &    NO       \\\\\n",
       "\\end{tabular}\n",
       "\n",
       "\\item[\\$Descriptives] \\begin{tabular}{r|llllllllll}\n",
       "  & n & Mean & Std.Dev & Median & Min & Max & 25th & 75th & Skew & Kurtosis\\\\\n",
       "\\hline\n",
       "\tA & 49     & 3.84   & 0.486  & 3.67   & 2.00   & 4.67   & 3.67   & 4.00   & -1.024 &  2.912\\\\\n",
       "\tB & 49     & 3.90   & 0.566  & 4.00   & 2.33   & 4.67   & 3.67   & 4.33   & -0.952 &  0.625\\\\\n",
       "\tC & 49     & 3.93   & 0.593  & 3.67   & 2.67   & 4.67   & 3.67   & 4.33   & -0.437 & -0.521\\\\\n",
       "\tD & 49     & 4.00   & 0.610  & 4.00   & 1.75   & 5.00   & 3.75   & 4.25   & -1.120 &  2.138\\\\\n",
       "\tE & 49     & 4.03   & 0.661  & 4.00   & 1.33   & 5.00   & 3.67   & 4.33   & -1.240 &  3.525\\\\\n",
       "\\end{tabular}\n",
       "\n",
       "\\item[\\$multivariateOutliers] \\begin{tabular}{r|lll}\n",
       "  & Observation & Mahalanobis Distance & Outlier\\\\\n",
       "\\hline\n",
       "\t22 & 22   & 35.5 & TRUE\\\\\n",
       "\t24 & 24   & 23.7 & TRUE\\\\\n",
       "\t4 & 4    & 19.4 & TRUE\\\\\n",
       "\t40 & 40   & 17.4 & TRUE\\\\\n",
       "\t25 & 25   & 15.6 & TRUE\\\\\n",
       "\\end{tabular}\n",
       "\n",
       "\\item[\\$newData] \\begin{tabular}{r|lllll}\n",
       "  & A & B & C & D & E\\\\\n",
       "\\hline\n",
       "\t1 & 4.00 & 4.33 & 3.67 & 4.25 & 4.00\\\\\n",
       "\t10 & 4.00 & 4.33 & 4.67 & 4.00 & 4.33\\\\\n",
       "\t11 & 3.67 & 3.67 & 3.67 & 3.50 & 3.67\\\\\n",
       "\t12 & 3.67 & 4.00 & 4.33 & 4.25 & 4.33\\\\\n",
       "\t13 & 3.67 & 4.00 & 4.67 & 4.75 & 3.33\\\\\n",
       "\t14 & 4.00 & 4.33 & 3.67 & 4.25 & 3.67\\\\\n",
       "\t15 & 3.67 & 3.67 & 4.67 & 4.25 & 4.33\\\\\n",
       "\t16 & 4.33 & 4.00 & 4.67 & 4.75 & 4.33\\\\\n",
       "\t17 & 4.33 & 3.67 & 3.67 & 4.25 & 4.33\\\\\n",
       "\t18 & 3.67 & 4.00 & 3.67 & 4.00 & 4.33\\\\\n",
       "\t19 & 4.00 & 4.00 & 3.67 & 4.50 & 4.67\\\\\n",
       "\t2 & 3.00 & 4.33 & 3.67 & 3.50 & 3.67\\\\\n",
       "\t20 & 3.67 & 4.00 & 4.67 & 3.75 & 5.00\\\\\n",
       "\t21 & 3.67 & 4.67 & 4.00 & 4.50 & 4.00\\\\\n",
       "\t23 & 3.33 & 3.33 & 3.67 & 3.25 & 3.33\\\\\n",
       "\t26 & 3.67 & 3.67 & 3.33 & 3.75 & 3.33\\\\\n",
       "\t27 & 4.67 & 4.67 & 3.67 & 4.75 & 3.67\\\\\n",
       "\t28 & 3.33 & 3.33 & 3.67 & 3.25 & 3.33\\\\\n",
       "\t29 & 3.67 & 4.33 & 4.33 & 4.25 & 4.67\\\\\n",
       "\t3 & 4.00 & 4.33 & 3.67 & 4.50 & 3.67\\\\\n",
       "\t30 & 4.00 & 4.00 & 3.67 & 4.00 & 4.33\\\\\n",
       "\t31 & 3.33 & 3.00 & 2.67 & 2.75 & 3.00\\\\\n",
       "\t32 & 4.67 & 4.67 & 4.00 & 4.25 & 4.33\\\\\n",
       "\t33 & 4.00 & 4.33 & 4.33 & 4.00 & 5.00\\\\\n",
       "\t34 & 3.67 & 4.00 & 3.67 & 3.75 & 3.67\\\\\n",
       "\t35 & 4.00 & 4.33 & 4.00 & 3.50 & 3.67\\\\\n",
       "\t36 & 4.33 & 4.67 & 4.67 & 4.00 & 4.33\\\\\n",
       "\t37 & 3.67 & 4.33 & 4.33 & 4.25 & 4.67\\\\\n",
       "\t38 & 4.33 & 3.67 & 3.67 & 4.50 & 4.33\\\\\n",
       "\t39 & 4.00 & 4.33 & 3.67 & 4.25 & 3.67\\\\\n",
       "\t41 & 3.67 & 3.33 & 3.67 & 4.00 & 4.33\\\\\n",
       "\t42 & 3.67 & 3.67 & 4.67 & 4.25 & 4.67\\\\\n",
       "\t43 & 4.67 & 4.33 & 4.00 & 4.75 & 3.67\\\\\n",
       "\t44 & 4.00 & 4.33 & 3.67 & 3.75 & 4.67\\\\\n",
       "\t45 & 4.00 & 4.67 & 4.00 & 3.75 & 5.00\\\\\n",
       "\t46 & 4.00 & 4.00 & 4.33 & 4.50 & 4.67\\\\\n",
       "\t47 & 4.33 & 4.00 & 4.33 & 5.00 & 3.67\\\\\n",
       "\t48 & 4.00 & 4.33 & 3.67 & 4.00 & 3.67\\\\\n",
       "\t49 & 4.00 & 4.00 & 4.67 & 3.75 & 4.33\\\\\n",
       "\t5 & 3.67 & 3.67 & 3.33 & 3.25 & 4.00\\\\\n",
       "\t6 & 3.67 & 3.67 & 4.67 & 5.00 & 4.00\\\\\n",
       "\t7 & 3.67 & 3.67 & 4.67 & 4.25 & 4.67\\\\\n",
       "\t8 & 4.33 & 3.67 & 4.67 & 4.50 & 5.00\\\\\n",
       "\t9 & 3.67 & 3.33 & 4.33 & 4.00 & 3.67\\\\\n",
       "\\end{tabular}\n",
       "\n",
       "\\end{description}\n"
      ],
      "text/markdown": [
       "$multivariateNormality\n",
       ":   \n",
       "| Test | Statistic | p value | Result |\n",
       "|---|---|---|---|\n",
       "| Mardia Skewness      | 78.6758273628276     | 3.32444144842308e-05 | NO                   |\n",
       "| Mardia Kurtosis      | 2.36960319523168     | 0.0178071849728165   | NO                   |\n",
       "| MVN                  | NA                   | NA                   | NO                   |\n",
       "\n",
       "\n",
       "$univariateNormality\n",
       ":   \n",
       "| Test | Variable | Statistic | p value | Normality |\n",
       "|---|---|---|---|---|\n",
       "| Shapiro-Wilk |     A        |     0.872    |    0.0001    |    NO        |\n",
       "| Shapiro-Wilk |     B        |     0.899    |    0.0005    |    NO        |\n",
       "| Shapiro-Wilk |     C        |     0.880    |    0.0001    |    NO        |\n",
       "| Shapiro-Wilk |     D        |     0.919    |    0.0025    |    NO        |\n",
       "| Shapiro-Wilk |     E        |     0.881    |    0.0001    |    NO        |\n",
       "\n",
       "\n",
       "$Descriptives\n",
       ":   \n",
       "| <!--/--> | n | Mean | Std.Dev | Median | Min | Max | 25th | 75th | Skew | Kurtosis |\n",
       "|---|---|---|---|---|---|---|---|---|---|---|\n",
       "| A | 49     | 3.84   | 0.486  | 3.67   | 2.00   | 4.67   | 3.67   | 4.00   | -1.024 |  2.912 |\n",
       "| B | 49     | 3.90   | 0.566  | 4.00   | 2.33   | 4.67   | 3.67   | 4.33   | -0.952 |  0.625 |\n",
       "| C | 49     | 3.93   | 0.593  | 3.67   | 2.67   | 4.67   | 3.67   | 4.33   | -0.437 | -0.521 |\n",
       "| D | 49     | 4.00   | 0.610  | 4.00   | 1.75   | 5.00   | 3.75   | 4.25   | -1.120 |  2.138 |\n",
       "| E | 49     | 4.03   | 0.661  | 4.00   | 1.33   | 5.00   | 3.67   | 4.33   | -1.240 |  3.525 |\n",
       "\n",
       "\n",
       "$multivariateOutliers\n",
       ":   \n",
       "| <!--/--> | Observation | Mahalanobis Distance | Outlier |\n",
       "|---|---|---|---|\n",
       "| 22 | 22   | 35.5 | TRUE |\n",
       "| 24 | 24   | 23.7 | TRUE |\n",
       "| 4 | 4    | 19.4 | TRUE |\n",
       "| 40 | 40   | 17.4 | TRUE |\n",
       "| 25 | 25   | 15.6 | TRUE |\n",
       "\n",
       "\n",
       "$newData\n",
       ":   \n",
       "| <!--/--> | A | B | C | D | E |\n",
       "|---|---|---|---|---|---|\n",
       "| 1 | 4.00 | 4.33 | 3.67 | 4.25 | 4.00 |\n",
       "| 10 | 4.00 | 4.33 | 4.67 | 4.00 | 4.33 |\n",
       "| 11 | 3.67 | 3.67 | 3.67 | 3.50 | 3.67 |\n",
       "| 12 | 3.67 | 4.00 | 4.33 | 4.25 | 4.33 |\n",
       "| 13 | 3.67 | 4.00 | 4.67 | 4.75 | 3.33 |\n",
       "| 14 | 4.00 | 4.33 | 3.67 | 4.25 | 3.67 |\n",
       "| 15 | 3.67 | 3.67 | 4.67 | 4.25 | 4.33 |\n",
       "| 16 | 4.33 | 4.00 | 4.67 | 4.75 | 4.33 |\n",
       "| 17 | 4.33 | 3.67 | 3.67 | 4.25 | 4.33 |\n",
       "| 18 | 3.67 | 4.00 | 3.67 | 4.00 | 4.33 |\n",
       "| 19 | 4.00 | 4.00 | 3.67 | 4.50 | 4.67 |\n",
       "| 2 | 3.00 | 4.33 | 3.67 | 3.50 | 3.67 |\n",
       "| 20 | 3.67 | 4.00 | 4.67 | 3.75 | 5.00 |\n",
       "| 21 | 3.67 | 4.67 | 4.00 | 4.50 | 4.00 |\n",
       "| 23 | 3.33 | 3.33 | 3.67 | 3.25 | 3.33 |\n",
       "| 26 | 3.67 | 3.67 | 3.33 | 3.75 | 3.33 |\n",
       "| 27 | 4.67 | 4.67 | 3.67 | 4.75 | 3.67 |\n",
       "| 28 | 3.33 | 3.33 | 3.67 | 3.25 | 3.33 |\n",
       "| 29 | 3.67 | 4.33 | 4.33 | 4.25 | 4.67 |\n",
       "| 3 | 4.00 | 4.33 | 3.67 | 4.50 | 3.67 |\n",
       "| 30 | 4.00 | 4.00 | 3.67 | 4.00 | 4.33 |\n",
       "| 31 | 3.33 | 3.00 | 2.67 | 2.75 | 3.00 |\n",
       "| 32 | 4.67 | 4.67 | 4.00 | 4.25 | 4.33 |\n",
       "| 33 | 4.00 | 4.33 | 4.33 | 4.00 | 5.00 |\n",
       "| 34 | 3.67 | 4.00 | 3.67 | 3.75 | 3.67 |\n",
       "| 35 | 4.00 | 4.33 | 4.00 | 3.50 | 3.67 |\n",
       "| 36 | 4.33 | 4.67 | 4.67 | 4.00 | 4.33 |\n",
       "| 37 | 3.67 | 4.33 | 4.33 | 4.25 | 4.67 |\n",
       "| 38 | 4.33 | 3.67 | 3.67 | 4.50 | 4.33 |\n",
       "| 39 | 4.00 | 4.33 | 3.67 | 4.25 | 3.67 |\n",
       "| 41 | 3.67 | 3.33 | 3.67 | 4.00 | 4.33 |\n",
       "| 42 | 3.67 | 3.67 | 4.67 | 4.25 | 4.67 |\n",
       "| 43 | 4.67 | 4.33 | 4.00 | 4.75 | 3.67 |\n",
       "| 44 | 4.00 | 4.33 | 3.67 | 3.75 | 4.67 |\n",
       "| 45 | 4.00 | 4.67 | 4.00 | 3.75 | 5.00 |\n",
       "| 46 | 4.00 | 4.00 | 4.33 | 4.50 | 4.67 |\n",
       "| 47 | 4.33 | 4.00 | 4.33 | 5.00 | 3.67 |\n",
       "| 48 | 4.00 | 4.33 | 3.67 | 4.00 | 3.67 |\n",
       "| 49 | 4.00 | 4.00 | 4.67 | 3.75 | 4.33 |\n",
       "| 5 | 3.67 | 3.67 | 3.33 | 3.25 | 4.00 |\n",
       "| 6 | 3.67 | 3.67 | 4.67 | 5.00 | 4.00 |\n",
       "| 7 | 3.67 | 3.67 | 4.67 | 4.25 | 4.67 |\n",
       "| 8 | 4.33 | 3.67 | 4.67 | 4.50 | 5.00 |\n",
       "| 9 | 3.67 | 3.33 | 4.33 | 4.00 | 3.67 |\n",
       "\n",
       "\n",
       "\n",
       "\n"
      ],
      "text/plain": [
       "$multivariateNormality\n",
       "             Test        Statistic              p value Result\n",
       "1 Mardia Skewness 78.6758273628276 3.32444144842308e-05     NO\n",
       "2 Mardia Kurtosis 2.36960319523168   0.0178071849728165     NO\n",
       "3             MVN             <NA>                 <NA>     NO\n",
       "\n",
       "$univariateNormality\n",
       "          Test  Variable Statistic   p value Normality\n",
       "1 Shapiro-Wilk     A         0.872    0.0001    NO    \n",
       "2 Shapiro-Wilk     B         0.899    0.0005    NO    \n",
       "3 Shapiro-Wilk     C         0.880    0.0001    NO    \n",
       "4 Shapiro-Wilk     D         0.919    0.0025    NO    \n",
       "5 Shapiro-Wilk     E         0.881    0.0001    NO    \n",
       "\n",
       "$Descriptives\n",
       "   n Mean Std.Dev Median  Min  Max 25th 75th   Skew Kurtosis\n",
       "A 49 3.84   0.486   3.67 2.00 4.67 3.67 4.00 -1.024    2.912\n",
       "B 49 3.90   0.566   4.00 2.33 4.67 3.67 4.33 -0.952    0.625\n",
       "C 49 3.93   0.593   3.67 2.67 4.67 3.67 4.33 -0.437   -0.521\n",
       "D 49 4.00   0.610   4.00 1.75 5.00 3.75 4.25 -1.120    2.138\n",
       "E 49 4.03   0.661   4.00 1.33 5.00 3.67 4.33 -1.240    3.525\n",
       "\n",
       "$multivariateOutliers\n",
       "   Observation Mahalanobis Distance Outlier\n",
       "22          22                 35.5    TRUE\n",
       "24          24                 23.7    TRUE\n",
       "4            4                 19.4    TRUE\n",
       "40          40                 17.4    TRUE\n",
       "25          25                 15.6    TRUE\n",
       "\n",
       "$newData\n",
       "      A    B    C    D    E\n",
       "1  4.00 4.33 3.67 4.25 4.00\n",
       "10 4.00 4.33 4.67 4.00 4.33\n",
       "11 3.67 3.67 3.67 3.50 3.67\n",
       "12 3.67 4.00 4.33 4.25 4.33\n",
       "13 3.67 4.00 4.67 4.75 3.33\n",
       "14 4.00 4.33 3.67 4.25 3.67\n",
       "15 3.67 3.67 4.67 4.25 4.33\n",
       "16 4.33 4.00 4.67 4.75 4.33\n",
       "17 4.33 3.67 3.67 4.25 4.33\n",
       "18 3.67 4.00 3.67 4.00 4.33\n",
       "19 4.00 4.00 3.67 4.50 4.67\n",
       "2  3.00 4.33 3.67 3.50 3.67\n",
       "20 3.67 4.00 4.67 3.75 5.00\n",
       "21 3.67 4.67 4.00 4.50 4.00\n",
       "23 3.33 3.33 3.67 3.25 3.33\n",
       "26 3.67 3.67 3.33 3.75 3.33\n",
       "27 4.67 4.67 3.67 4.75 3.67\n",
       "28 3.33 3.33 3.67 3.25 3.33\n",
       "29 3.67 4.33 4.33 4.25 4.67\n",
       "3  4.00 4.33 3.67 4.50 3.67\n",
       "30 4.00 4.00 3.67 4.00 4.33\n",
       "31 3.33 3.00 2.67 2.75 3.00\n",
       "32 4.67 4.67 4.00 4.25 4.33\n",
       "33 4.00 4.33 4.33 4.00 5.00\n",
       "34 3.67 4.00 3.67 3.75 3.67\n",
       "35 4.00 4.33 4.00 3.50 3.67\n",
       "36 4.33 4.67 4.67 4.00 4.33\n",
       "37 3.67 4.33 4.33 4.25 4.67\n",
       "38 4.33 3.67 3.67 4.50 4.33\n",
       "39 4.00 4.33 3.67 4.25 3.67\n",
       "41 3.67 3.33 3.67 4.00 4.33\n",
       "42 3.67 3.67 4.67 4.25 4.67\n",
       "43 4.67 4.33 4.00 4.75 3.67\n",
       "44 4.00 4.33 3.67 3.75 4.67\n",
       "45 4.00 4.67 4.00 3.75 5.00\n",
       "46 4.00 4.00 4.33 4.50 4.67\n",
       "47 4.33 4.00 4.33 5.00 3.67\n",
       "48 4.00 4.33 3.67 4.00 3.67\n",
       "49 4.00 4.00 4.67 3.75 4.33\n",
       "5  3.67 3.67 3.33 3.25 4.00\n",
       "6  3.67 3.67 4.67 5.00 4.00\n",
       "7  3.67 3.67 4.67 4.25 4.67\n",
       "8  4.33 3.67 4.67 4.50 5.00\n",
       "9  3.67 3.33 4.33 4.00 3.67\n"
      ]
     },
     "metadata": {},
     "output_type": "display_data"
    }
   ],
   "source": [
    "normalmulti"
   ]
  },
  {
   "attachments": {},
   "cell_type": "markdown",
   "metadata": {},
   "source": [
    "#### Diatas adalah contoh untuk mengidentifikasi pengujian asumsi normal multivariat, dalam penelitian diharapkan data berdistribusi normal multivariat. Kesimpulan untuk data diatas tidak berdistribusi normal\n",
    "![image](https://user-images.githubusercontent.com/36166387/79943155-60106400-8492-11ea-8585-9490a5e40b1b.png)"
   ]
  }
 ],
 "metadata": {
  "kernelspec": {
   "display_name": "R",
   "language": "R",
   "name": "ir"
  },
  "language_info": {
   "codemirror_mode": "r",
   "file_extension": ".r",
   "mimetype": "text/x-r-source",
   "name": "R",
   "pygments_lexer": "r",
   "version": "3.6.2"
  }
 },
 "nbformat": 4,
 "nbformat_minor": 4
}
