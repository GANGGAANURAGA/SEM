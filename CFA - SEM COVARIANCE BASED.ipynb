{
 "cells": [
  {
   "cell_type": "markdown",
   "metadata": {},
   "source": [
    "### CFA - SEM COVARIANCE BASED - (Gangga Anuraga)"
   ]
  },
  {
   "cell_type": "markdown",
   "metadata": {},
   "source": [
    "Model struktural merupakan hubungan antara variabel laten independen (eksogen) dengan variabel laten dependen (endogen). Menurut Joreskog dan Sorbom dalam Schumacker dan Lomax (2004) model persamaan struktural adalah sebagai berikut:\n",
    "\n",
    "$\\eta$ =  **Β** $\\eta$ + $\\Gamma$ $\\xi$ + $\\zeta$ (2.1)\n",
    "\n",
    "Dimana $\\eta$ (eta) adalah vektor variabel random dependen endogen (latent endogenous) dengan ukuran m x 1, $\\xi$ (xi) adalah vektor variabel random independen eksogen (latent exogenous) dengan ukuran n x 1, **Β** adalah matrik koefisien yang menunjukkan pengaruh variabel laten endogen terhadap variabel lainnya dengan ukuran m x m dan $\\Gamma$ koefisien matrik yang menunjukkan hubungan dari $\\xi$ terhadap $\\eta$ dengan ukuran m x n, sedangkan $\\zeta$ (zeta) adalah vektor random error dengan ukuran m x 1, dengan nilai harapan sama dengan nol. Misal jika terdapat dua persamaan :\n",
    "\n",
    "$\\eta_1$= $\\beta_{12}$ $\\eta_2$+ $\\gamma_{11}$ $\\xi_1$+ $\\zeta_1$\n",
    "\n",
    "$\\eta_2$= $\\beta_{21}$ $\\eta_1$+ $\\gamma_{22}$ $\\xi_2$+ $\\zeta_2$\n",
    "\n",
    "sehingga dalam bentuk matrik dapat dituliskan sebagai berikut :\n",
    "\n",
    "$\\begin{bmatrix} \\eta_1 \\\\ \\eta_2 \\end{bmatrix}$ = $\\begin{bmatrix} 0 & \\beta_{12} \\\\ \\beta_{21} & 0 \\end{bmatrix}$ $\\begin{bmatrix} \\eta_1 \\\\ \\eta_2 \\end{bmatrix}$ + $\\begin{bmatrix} \\gamma_{11} & 0 \\\\ 0 & \\gamma_{22} \\end{bmatrix}$ $\\begin{bmatrix} \\xi_1 \\\\ \\xi_2 \\end{bmatrix}$ + $\\begin{bmatrix} \\zeta_1 \\\\ \\zeta_2 \\end{bmatrix}$\n",
    "\n",
    "Persamaan (2.1) dapat dituliskan dalam bentuk sebagai berikut :\n",
    "\n",
    "**(Ι-Β)** $\\eta$ = $\\Gamma$ $\\xi$ + $\\zeta$\t\n",
    "\n",
    "$\\eta$ = (Ι-Β)^(-1) $\\Gamma$ $\\xi$ + $\\zeta$\t\n",
    "\n",
    "Asumsi dari persamaan model struktural variabel laten : E($\\eta$) = 0, E($\\xi$) = 0, E($\\zeta$) = 0 dan $\\zeta$ tidak berkorelasi dengan $\\xi$ dan (Ι-Β)^(-1) adalah matrik nonsingular. "
   ]
  },
  {
   "cell_type": "markdown",
   "metadata": {},
   "source": [
    "Confirmatory Factor Analysis (CFA) terbagi menjadi dua kondisi yaitu 1) First Order Confirmatory Factor, kondisi dimana setiap konstruk langsung diukur oleh indikator-indikatornya. 2) High Order Confirmatory Factor, kondisi dimana konstruk secara tidak langsung tidak dapat diukur atau memiliki beberapa dimensi konstruk yang diukur oleh indikator-indikatornya. Model pengukuran (CFA) dapat dituliskan sebagai berikut (Joreskog dan Sorbom dalam Schumacker dan Lomax 2004):\n",
    "\n",
    "$y=  \\Lambda_y \\eta + \\epsilon$          (2.2)\n",
    "\n",
    "$x= \\Lambda_x \\xi + \\delta$              (2.3)\n",
    "\n",
    "Dengan y berukuran (p x 1) dan x berukuran (q x 1) merupakan vektor dari variabel yang diobservasi. Dan $\\Lambda_y$ dengan ukuran (p x m), $\\Lambda_x$ dengan ukuran (q x n) merupakan koefisien matrik yang menunjukkan hubungan dari y ke $\\eta$ (m x 1) dan x ke $\\xi$ (n x 1), $\\epsilon$ merupakan vektor dengan ukuran (p x 1) dan $\\delta$ dengan ukuran (q x 1) adalah error dari pengukuran y dan x. Misal jika terdapat persamaan (2.4) sebagai berikut :\n",
    "\n",
    "$y_1 = \\lambda_{y11}  \\eta_1 + \\epsilon_1$\n",
    "\n",
    "$y_2= \\lambda_{y21}   \\eta_1 + \\epsilon_2$\n",
    "\n",
    "$y_3= \\lambda_{y32}   \\eta_2 + \\epsilon_3$\n",
    "\n",
    "$y_4= \\lambda_{y42}   \\eta_2 + \\epsilon_4$\n",
    "\n",
    "maka persamaan diatas merepresentasikan 2 variabel laten endogen yaitu $\\eta_1$ dan $\\eta_2$, dimana masing-masing direpresentasikann oleh indikator masing-masing. Indikator $y_1$, $y_2$, $y_3$, $y_4$. Berikut juga ditampilkan persamaan (2.5) model pengukuran dengan 1 variabel laten eksogen. \n",
    "\n",
    "$x_1= \\lambda_{x11} \\xi_1 + \\delta_1$\n",
    "\n",
    "$x_2= \\lambda_{x21} \\xi_1 + \\delta_2$\n",
    "\n",
    "dalam bentuk matrik dapat dituliskan sebagai berikut :\n",
    "\n",
    "$\\begin{bmatrix} y_1 \\\\ y_2 \\\\ y_3 \\\\ y_4 \\end{bmatrix}$ = $\\begin{bmatrix} \\lambda_{y11} & 0 \\\\ \\lambda_{y21} & 0 \\\\ 0 & \\lambda_{y32} \\\\ 0 & \\lambda_{y42} \\end{bmatrix}$ $\\begin{bmatrix} \\eta_1 \\\\ \\eta_2 \\end{bmatrix}$ + $\\begin{bmatrix} \\epsilon_1 \\\\ \\epsilon_2 \\\\ \\epsilon_3 \\\\ \\epsilon_4 \\end{bmatrix}$\n",
    "\n",
    "dan\n",
    "\n",
    "$\\begin{bmatrix} x_1 \\\\ x_2 \\end{bmatrix}$ = $\\begin{bmatrix} \\lambda_{x11} \\\\ \\lambda_{x21} \\end{bmatrix}$ $\\begin{bmatrix} \\xi_{11} \\end{bmatrix}$ + $\\begin{bmatrix} \\delta_1 \\\\ \\delta_2 \\end{bmatrix}$\n",
    "\n",
    "Merujuk pada persamaan (2.2) dan (2.3) maka matrik kovarian dalam SEM $\\sum(\\theta)$ adalah sebagai berikut (Schumacker dan Lomax, 2004):\n",
    "\n",
    "$\\sum(\\theta)$ = $\\begin{bmatrix} \\sum_{yy} & \\sum_{yx} \\\\ \\sum_{xy} & \\sum_{xx} \\end{bmatrix}$\n",
    "\n",
    "dimana $\\sum(\\theta)$ matrik kovarians sebagai fungsi dari $\\theta$, $\\theta$ adalah vektor yang memuat parameter model yaitu **Β**, $\\Gamma,\\Lambda_y,\\Lambda_x, \\Phi, \\Psi, \\Theta_\\epsilon, \\Theta_\\delta$.\n",
    "\n",
    "Estimasi parameter dalam CFA maupun SEM secara umum dapat diselesaikan dengan meminimalkan fungsi maksimum likelihood dibawah ini :\n",
    "\n",
    "$F_{ML}$ = ln$\\begin{vmatrix} S \\end{vmatrix}$ - ln$\\begin{vmatrix} \\sum(\\theta) \\end{vmatrix}$ + trace[$\\begin{pmatrix} S \\end{pmatrix}$ $\\begin{pmatrix}( \\sum(\\theta))^{-1} \\end{pmatrix}$] - p\n",
    "\n",
    "$\\begin{vmatrix} S \\end{vmatrix}$ merupakan matrik varian kovarians dari sampel observasi, $\\begin{vmatrix} \\sum(\\theta) \\end{vmatrix}$ merupakan matrik varian kovarian prediksi dan p adalah jumlah variabel manifest / indikator yang digunakan dalam pemodelan CFA / SEM.\n",
    "\n",
    "$\\sum_{yy}$ = E(yy') (lihat y = persamaan 2.2)\n",
    "\n",
    "$\\sum_{yx}$ = E(yx') (lihat y = persamaan 2.2 dan x = persamaan 2.3)\n",
    "\n",
    "$\\sum_{xx}$ = E(xx') (lihat x = persamaan 2.3)"
   ]
  },
  {
   "cell_type": "code",
   "execution_count": 5,
   "metadata": {},
   "outputs": [
    {
     "name": "stderr",
     "output_type": "stream",
     "text": [
      "Warning message:\n",
      "\"package 'lavaan' was built under R version 3.6.3\"\n",
      "This is lavaan 0.6-5\n",
      "\n",
      "lavaan is BETA software! Please report any bugs.\n",
      "\n"
     ]
    }
   ],
   "source": [
    "# contoh first order CFA\n",
    "library(\"lavaan\")"
   ]
  },
  {
   "cell_type": "code",
   "execution_count": 6,
   "metadata": {},
   "outputs": [],
   "source": [
    "update.packages(\"https://CRAN.R-project.org/package=lavaan\")"
   ]
  },
  {
   "cell_type": "code",
   "execution_count": 7,
   "metadata": {},
   "outputs": [],
   "source": [
    "library(\"lavaan\")\n",
    "# Confirmatory Factor Analysis untuk Mengukur Unidimensional Indikator Loyalitas Nasabah"
   ]
  },
  {
   "cell_type": "code",
   "execution_count": 8,
   "metadata": {},
   "outputs": [
    {
     "data": {
      "text/html": [
       "<table>\n",
       "<caption>A data.frame: 6 × 10</caption>\n",
       "<thead>\n",
       "\t<tr><th></th><th scope=col>x1</th><th scope=col>x2</th><th scope=col>x3</th><th scope=col>x4</th><th scope=col>x5</th><th scope=col>x6</th><th scope=col>x7</th><th scope=col>x8</th><th scope=col>x9</th><th scope=col>x10</th></tr>\n",
       "\t<tr><th></th><th scope=col>&lt;int&gt;</th><th scope=col>&lt;int&gt;</th><th scope=col>&lt;int&gt;</th><th scope=col>&lt;int&gt;</th><th scope=col>&lt;int&gt;</th><th scope=col>&lt;int&gt;</th><th scope=col>&lt;int&gt;</th><th scope=col>&lt;int&gt;</th><th scope=col>&lt;int&gt;</th><th scope=col>&lt;int&gt;</th></tr>\n",
       "</thead>\n",
       "<tbody>\n",
       "\t<tr><th scope=row>1</th><td>6</td><td>6</td><td>6</td><td>5</td><td>6</td><td>6</td><td>6</td><td>6</td><td>5</td><td>6</td></tr>\n",
       "\t<tr><th scope=row>2</th><td>7</td><td>6</td><td>6</td><td>6</td><td>4</td><td>4</td><td>4</td><td>5</td><td>4</td><td>5</td></tr>\n",
       "\t<tr><th scope=row>3</th><td>4</td><td>6</td><td>5</td><td>5</td><td>5</td><td>5</td><td>5</td><td>4</td><td>5</td><td>6</td></tr>\n",
       "\t<tr><th scope=row>4</th><td>6</td><td>5</td><td>5</td><td>6</td><td>4</td><td>4</td><td>4</td><td>4</td><td>4</td><td>5</td></tr>\n",
       "\t<tr><th scope=row>5</th><td>3</td><td>5</td><td>4</td><td>5</td><td>5</td><td>3</td><td>3</td><td>3</td><td>2</td><td>3</td></tr>\n",
       "\t<tr><th scope=row>6</th><td>6</td><td>6</td><td>6</td><td>6</td><td>5</td><td>5</td><td>5</td><td>6</td><td>6</td><td>6</td></tr>\n",
       "</tbody>\n",
       "</table>\n"
      ],
      "text/latex": [
       "A data.frame: 6 × 10\n",
       "\\begin{tabular}{r|llllllllll}\n",
       "  & x1 & x2 & x3 & x4 & x5 & x6 & x7 & x8 & x9 & x10\\\\\n",
       "  & <int> & <int> & <int> & <int> & <int> & <int> & <int> & <int> & <int> & <int>\\\\\n",
       "\\hline\n",
       "\t1 & 6 & 6 & 6 & 5 & 6 & 6 & 6 & 6 & 5 & 6\\\\\n",
       "\t2 & 7 & 6 & 6 & 6 & 4 & 4 & 4 & 5 & 4 & 5\\\\\n",
       "\t3 & 4 & 6 & 5 & 5 & 5 & 5 & 5 & 4 & 5 & 6\\\\\n",
       "\t4 & 6 & 5 & 5 & 6 & 4 & 4 & 4 & 4 & 4 & 5\\\\\n",
       "\t5 & 3 & 5 & 4 & 5 & 5 & 3 & 3 & 3 & 2 & 3\\\\\n",
       "\t6 & 6 & 6 & 6 & 6 & 5 & 5 & 5 & 6 & 6 & 6\\\\\n",
       "\\end{tabular}\n"
      ],
      "text/markdown": [
       "\n",
       "A data.frame: 6 × 10\n",
       "\n",
       "| <!--/--> | x1 &lt;int&gt; | x2 &lt;int&gt; | x3 &lt;int&gt; | x4 &lt;int&gt; | x5 &lt;int&gt; | x6 &lt;int&gt; | x7 &lt;int&gt; | x8 &lt;int&gt; | x9 &lt;int&gt; | x10 &lt;int&gt; |\n",
       "|---|---|---|---|---|---|---|---|---|---|---|\n",
       "| 1 | 6 | 6 | 6 | 5 | 6 | 6 | 6 | 6 | 5 | 6 |\n",
       "| 2 | 7 | 6 | 6 | 6 | 4 | 4 | 4 | 5 | 4 | 5 |\n",
       "| 3 | 4 | 6 | 5 | 5 | 5 | 5 | 5 | 4 | 5 | 6 |\n",
       "| 4 | 6 | 5 | 5 | 6 | 4 | 4 | 4 | 4 | 4 | 5 |\n",
       "| 5 | 3 | 5 | 4 | 5 | 5 | 3 | 3 | 3 | 2 | 3 |\n",
       "| 6 | 6 | 6 | 6 | 6 | 5 | 5 | 5 | 6 | 6 | 6 |\n",
       "\n"
      ],
      "text/plain": [
       "  x1 x2 x3 x4 x5 x6 x7 x8 x9 x10\n",
       "1 6  6  6  5  6  6  6  6  5  6  \n",
       "2 7  6  6  6  4  4  4  5  4  5  \n",
       "3 4  6  5  5  5  5  5  4  5  6  \n",
       "4 6  5  5  6  4  4  4  4  4  5  \n",
       "5 3  5  4  5  5  3  3  3  2  3  \n",
       "6 6  6  6  6  5  5  5  6  6  6  "
      ]
     },
     "metadata": {},
     "output_type": "display_data"
    },
    {
     "data": {
      "text/html": [
       "<style>\n",
       ".list-inline {list-style: none; margin:0; padding: 0}\n",
       ".list-inline>li {display: inline-block}\n",
       ".list-inline>li:not(:last-child)::after {content: \"\\00b7\"; padding: 0 .5ex}\n",
       "</style>\n",
       "<ol class=list-inline><li>'x1'</li><li>'x2'</li><li>'x3'</li><li>'x4'</li><li>'x5'</li><li>'x6'</li><li>'x7'</li><li>'x8'</li><li>'x9'</li><li>'x10'</li></ol>\n"
      ],
      "text/latex": [
       "\\begin{enumerate*}\n",
       "\\item 'x1'\n",
       "\\item 'x2'\n",
       "\\item 'x3'\n",
       "\\item 'x4'\n",
       "\\item 'x5'\n",
       "\\item 'x6'\n",
       "\\item 'x7'\n",
       "\\item 'x8'\n",
       "\\item 'x9'\n",
       "\\item 'x10'\n",
       "\\end{enumerate*}\n"
      ],
      "text/markdown": [
       "1. 'x1'\n",
       "2. 'x2'\n",
       "3. 'x3'\n",
       "4. 'x4'\n",
       "5. 'x5'\n",
       "6. 'x6'\n",
       "7. 'x7'\n",
       "8. 'x8'\n",
       "9. 'x9'\n",
       "10. 'x10'\n",
       "\n",
       "\n"
      ],
      "text/plain": [
       " [1] \"x1\"  \"x2\"  \"x3\"  \"x4\"  \"x5\"  \"x6\"  \"x7\"  \"x8\"  \"x9\"  \"x10\""
      ]
     },
     "metadata": {},
     "output_type": "display_data"
    }
   ],
   "source": [
    "data.CFA = read.delim(\"cfa.txt\")\n",
    "data.CFA = data.CFA[,1:10]\n",
    "head(data.CFA)\n",
    "names(data.CFA)"
   ]
  },
  {
   "cell_type": "code",
   "execution_count": 9,
   "metadata": {},
   "outputs": [
    {
     "data": {
      "text/html": [
       "<style>\n",
       ".list-inline {list-style: none; margin:0; padding: 0}\n",
       ".list-inline>li {display: inline-block}\n",
       ".list-inline>li:not(:last-child)::after {content: \"\\00b7\"; padding: 0 .5ex}\n",
       "</style>\n",
       "<ol class=list-inline><li>119</li><li>10</li></ol>\n"
      ],
      "text/latex": [
       "\\begin{enumerate*}\n",
       "\\item 119\n",
       "\\item 10\n",
       "\\end{enumerate*}\n"
      ],
      "text/markdown": [
       "1. 119\n",
       "2. 10\n",
       "\n",
       "\n"
      ],
      "text/plain": [
       "[1] 119  10"
      ]
     },
     "metadata": {},
     "output_type": "display_data"
    }
   ],
   "source": [
    "dim(data.CFA)"
   ]
  },
  {
   "cell_type": "markdown",
   "metadata": {},
   "source": [
    "H1\t:Reliabilitas (X1)  berkontribusi terhadap kualitas layanan\n",
    "\n",
    "H2\t:Empaty (X2) berkontribusi terhadap kualitas layanan\n",
    "\n",
    "H3\t:Efisiensi (X3) berkontribusi terhadap kualitas layanan\n",
    "\n",
    "H4\t:Akses keuangan (X4) berkontribusi terhadap kualitas layanan\n",
    "\n",
    "H5\t:Kecepatan penanganan komplain (X5) berkontribusi terhadap penanganan terhadap komplain\n",
    "\n",
    "H6\t:Penyelesaian masalah secara memuaskan (X6)  berkontribusi terhadap penanganan terhadap komplain\n",
    "\n",
    "H7\t:Kemudahan prosedur pengajuan komplain (X7) berkontribusi terhadap penanganan terhadap komplain\n",
    "\n",
    "H8\t:Kemapanan (X8) berkontribusi terhadap Citra\n",
    "\n",
    "H9\t:Citra layanan (X9) berkontribusi terhadap Citra\n",
    "\n",
    "H10\t:Reputasi positif (X10) berkontribusi terhadap Citra\n",
    "![image](https://user-images.githubusercontent.com/36166387/79943318-cb5a3600-8492-11ea-8267-37946759cf75.png)"
   ]
  },
  {
   "cell_type": "code",
   "execution_count": 10,
   "metadata": {},
   "outputs": [
    {
     "name": "stdout",
     "output_type": "stream",
     "text": [
      "lavaan 0.6-5 ended normally after 39 iterations\n",
      "\n",
      "  Estimator                                         ML\n",
      "  Optimization method                           NLMINB\n",
      "  Number of free parameters                         21\n",
      "                                                      \n",
      "  Number of observations                           119\n",
      "                                                      \n",
      "Model Test User Model:\n",
      "                                                      \n",
      "  Test statistic                                27.755\n",
      "  Degrees of freedom                                24\n",
      "  P-value (Chi-square)                           0.270\n",
      "\n",
      "Model Test Baseline Model:\n",
      "\n",
      "  Test statistic                              1092.893\n",
      "  Degrees of freedom                                36\n",
      "  P-value                                        0.000\n",
      "\n",
      "User Model versus Baseline Model:\n",
      "\n",
      "  Comparative Fit Index (CFI)                    0.996\n",
      "  Tucker-Lewis Index (TLI)                       0.995\n",
      "\n",
      "Loglikelihood and Information Criteria:\n",
      "\n",
      "  Loglikelihood user model (H0)              -1477.078\n",
      "  Loglikelihood unrestricted model (H1)      -1463.200\n",
      "                                                      \n",
      "  Akaike (AIC)                                2996.156\n",
      "  Bayesian (BIC)                              3054.517\n",
      "  Sample-size adjusted Bayesian (BIC)         2988.128\n",
      "\n",
      "Root Mean Square Error of Approximation:\n",
      "\n",
      "  RMSEA                                          0.036\n",
      "  90 Percent confidence interval - lower         0.000\n",
      "  90 Percent confidence interval - upper         0.086\n",
      "  P-value RMSEA <= 0.05                          0.621\n",
      "\n",
      "Standardized Root Mean Square Residual:\n",
      "\n",
      "  SRMR                                           0.025\n",
      "\n",
      "Parameter Estimates:\n",
      "\n",
      "  Information                                 Expected\n",
      "  Information saturated (h1) model          Structured\n",
      "  Standard errors                             Standard\n",
      "\n",
      "Latent Variables:\n",
      "                         Estimate  Std.Err  z-value  P(>|z|)   Std.lv  Std.all\n",
      "  Kualitas_layanan =~                                                         \n",
      "    x1                      1.000                               1.308    0.768\n",
      "    x2                      1.020    0.089   11.434    0.000    1.334    0.930\n",
      "    x3                      1.076    0.094   11.425    0.000    1.407    0.929\n",
      "    x4                      1.053    0.100   10.558    0.000    1.377    0.874\n",
      "  Penanganan_komplain =~                                                      \n",
      "    x5                      1.000                               1.348    0.891\n",
      "    x6                      1.003    0.073   13.719    0.000    1.352    0.892\n",
      "  citra =~                                                                    \n",
      "    x8                      1.000                               1.560    0.929\n",
      "    x9                      0.932    0.065   14.371    0.000    1.454    0.862\n",
      "    x10                     0.908    0.061   14.823    0.000    1.417    0.873\n",
      "\n",
      "Covariances:\n",
      "                         Estimate  Std.Err  z-value  P(>|z|)   Std.lv  Std.all\n",
      "  Kualitas_layanan ~~                                                         \n",
      "    Penangnn_kmpln          1.566    0.263    5.958    0.000    0.888    0.888\n",
      "    citra                   1.765    0.294    6.009    0.000    0.865    0.865\n",
      "  Penanganan_komplain ~~                                                      \n",
      "    citra                   1.867    0.286    6.518    0.000    0.888    0.888\n",
      "\n",
      "Variances:\n",
      "                   Estimate  Std.Err  z-value  P(>|z|)   Std.lv  Std.all\n",
      "   .x1                1.192    0.166    7.174    0.000    1.192    0.411\n",
      "   .x2                0.278    0.053    5.209    0.000    0.278    0.135\n",
      "   .x3                0.312    0.060    5.230    0.000    0.312    0.136\n",
      "   .x4                0.587    0.091    6.478    0.000    0.587    0.237\n",
      "   .x5                0.473    0.094    5.029    0.000    0.473    0.206\n",
      "   .x6                0.467    0.094    4.976    0.000    0.467    0.203\n",
      "   .x8                0.387    0.086    4.483    0.000    0.387    0.137\n",
      "   .x9                0.729    0.117    6.228    0.000    0.729    0.257\n",
      "   .x10               0.624    0.103    6.055    0.000    0.624    0.237\n",
      "    Kualitas_laynn    1.710    0.348    4.908    0.000    1.000    1.000\n",
      "    Penangnn_kmpln    1.818    0.299    6.076    0.000    1.000    1.000\n",
      "    citra             2.433    0.369    6.595    0.000    1.000    1.000\n",
      "\n",
      "R-Square:\n",
      "                   Estimate\n",
      "    x1                0.589\n",
      "    x2                0.865\n",
      "    x3                0.864\n",
      "    x4                0.763\n",
      "    x5                0.794\n",
      "    x6                0.797\n",
      "    x8                0.863\n",
      "    x9                0.743\n",
      "    x10               0.763\n",
      "\n",
      "Modification Indices:\n",
      "\n",
      "                   lhs op rhs    mi    epc sepc.lv sepc.all sepc.nox\n",
      "25    Kualitas_layanan =~  x5 3.730  0.623   0.815    0.538    0.538\n",
      "26    Kualitas_layanan =~  x6 3.730 -0.625  -0.817   -0.539   -0.539\n",
      "27    Kualitas_layanan =~  x8 0.016 -0.023  -0.031   -0.018   -0.018\n",
      "28    Kualitas_layanan =~  x9 0.379  0.113   0.148    0.088    0.088\n",
      "29    Kualitas_layanan =~ x10 0.225 -0.084  -0.109   -0.067   -0.067\n",
      "30 Penanganan_komplain =~  x1 1.691  0.298   0.402    0.236    0.236\n",
      "31 Penanganan_komplain =~  x2 0.028  0.025   0.033    0.023    0.023\n",
      "32 Penanganan_komplain =~  x3 0.945 -0.153  -0.206   -0.136   -0.136\n",
      "33 Penanganan_komplain =~  x4 0.001 -0.005  -0.006   -0.004   -0.004\n",
      "34 Penanganan_komplain =~  x8 0.791  0.205   0.276    0.165    0.165\n",
      "35 Penanganan_komplain =~  x9 0.536 -0.163  -0.220   -0.130   -0.130\n",
      "36 Penanganan_komplain =~ x10 0.035 -0.040  -0.054   -0.033   -0.033\n",
      "37               citra =~  x1 6.478  0.422   0.659    0.387    0.387\n",
      "38               citra =~  x2 0.039 -0.021  -0.033   -0.023   -0.023\n",
      "39               citra =~  x3 3.559 -0.211  -0.330   -0.218   -0.218\n",
      "40               citra =~  x4 0.321  0.072   0.112    0.071    0.071\n",
      "41               citra =~  x5 3.731 -0.520  -0.810   -0.535   -0.535\n",
      "42               citra =~  x6 3.731  0.521   0.813    0.536    0.536\n",
      "43                  x1 ~~  x2 1.880 -0.097  -0.097   -0.168   -0.168\n",
      "44                  x1 ~~  x3 0.262 -0.038  -0.038   -0.063   -0.063\n",
      "45                  x1 ~~  x4 0.041  0.018   0.018    0.021    0.021\n",
      "46                  x1 ~~  x5 0.513 -0.061  -0.061   -0.081   -0.081\n",
      "47                  x1 ~~  x6 0.274  0.044   0.044    0.060    0.060\n",
      "48                  x1 ~~  x8 2.780  0.136   0.136    0.201    0.201\n",
      "49                  x1 ~~  x9 2.196  0.144   0.144    0.155    0.155\n",
      "50                  x1 ~~ x10 0.740 -0.078  -0.078   -0.091   -0.091\n",
      "51                  x2 ~~  x3 2.761  0.096   0.096    0.327    0.327\n",
      "52                  x2 ~~  x4 0.414 -0.038  -0.038   -0.093   -0.093\n",
      "53                  x2 ~~  x5 0.225  0.023   0.023    0.064    0.064\n",
      "54                  x2 ~~  x6 0.022 -0.007  -0.007   -0.020   -0.020\n",
      "55                  x2 ~~  x8 0.123  0.016   0.016    0.049    0.049\n",
      "56                  x2 ~~  x9 0.365  0.033   0.033    0.073    0.073\n",
      "57                  x2 ~~ x10 1.780 -0.068  -0.068   -0.164   -0.164\n",
      "58                  x3 ~~  x4 0.078  0.017   0.017    0.040    0.040\n",
      "59                  x3 ~~  x5 1.619  0.066   0.066    0.171    0.171\n",
      "60                  x3 ~~  x6 1.284 -0.058  -0.058   -0.153   -0.153\n",
      "61                  x3 ~~  x8 0.858 -0.045  -0.045   -0.131   -0.131\n",
      "62                  x3 ~~  x9 0.045 -0.012  -0.012   -0.026   -0.026\n",
      "63                  x3 ~~ x10 0.140 -0.020  -0.020   -0.046   -0.046\n",
      "64                  x4 ~~  x5 0.014 -0.007  -0.007   -0.014   -0.014\n",
      "65                  x4 ~~  x6 0.105 -0.020  -0.020   -0.039   -0.039\n",
      "66                  x4 ~~  x8 0.918 -0.058  -0.058   -0.121   -0.121\n",
      "67                  x4 ~~  x9 0.174 -0.030  -0.030   -0.046   -0.046\n",
      "68                  x4 ~~ x10 5.413  0.156   0.156    0.258    0.258\n",
      "70                  x5 ~~  x8 0.369 -0.038  -0.038   -0.089   -0.089\n",
      "71                  x5 ~~  x9 3.567 -0.136  -0.136   -0.232   -0.232\n",
      "72                  x5 ~~ x10 0.824  0.062   0.062    0.113    0.113\n",
      "73                  x6 ~~  x8 2.376  0.097   0.097    0.228    0.228\n",
      "74                  x6 ~~  x9 0.378  0.044   0.044    0.076    0.076\n",
      "75                  x6 ~~ x10 0.631 -0.054  -0.054   -0.100   -0.100\n",
      "76                  x8 ~~  x9 0.137 -0.036  -0.036   -0.068   -0.068\n",
      "77                  x8 ~~ x10 0.023 -0.015  -0.015   -0.030   -0.030\n",
      "78                  x9 ~~ x10 0.280  0.048   0.048    0.070    0.070\n"
     ]
    }
   ],
   "source": [
    "# Silakan pelajari dan pahami library lavaan di link berikut :\n",
    "url = 'http://lavaan.ugent.be/tutorial/index.html'\n",
    "# Pada Kasus CFA/Measurement Model/Model Pengukuran, terdapat beberapa konsep dasar penting dalam hal interpretasi adalah\n",
    "# 1. Validitas (misal : apakah benar valid dan signifikan bahwa kualitas layanan direpresentasikan reliabilitas (x1) dll)\n",
    "# 2. Reliabilitas (menunjukan kehandalan suatu konstruk/laten/unobservable variable dari indikator-indikator pembentuknya)\n",
    "# 3. Overal Goodness Of Fit\n",
    "# 4. Asumsi Normal Multivariat\n",
    "# Mendeskripsikan spesifikasi model\n",
    "Model.CFA = 'Kualitas_layanan =~ x1 + x2 + x3 + x4 \n",
    "        Penanganan_komplain =~ x5 + x6 + x6  \n",
    "        citra =~ x8 + x9 + x10'\n",
    "# fit the model\n",
    "fit.CFA = lavaan(Model.CFA, data=data.CFA, auto.var=TRUE, auto.fix.first=TRUE, auto.cov.lv.x=TRUE)\n",
    "summary(fit.CFA, standardized=TRUE, fit.measures=TRUE, rsq=TRUE, modindices=TRUE)"
   ]
  },
  {
   "cell_type": "markdown",
   "metadata": {},
   "source": [
    "Hipotesis :\n",
    "\n",
    "H0 : $\\lambda_{jk}$ = 0\n",
    "\n",
    "H1 : $\\lambda_{jk}$ ≠ 0\n",
    "\n",
    "Statistik Uji :\tt = $\\lambda_{jk}$ / se($\\lambda_{jk}$) \n",
    "\n",
    "hasil diatas menunjukkan bahwa estimasi nilai loading (lihat output : Std.all) pada masing-masing variabel laten adalah valid karena memiliki nilai loading faktor terstandarisasi (Std.all) diatas 0,5, dan dikatakan signifikan karena nilai P(>|z|) masing-masing indikator < alpha = 0,05 ."
   ]
  },
  {
   "cell_type": "code",
   "execution_count": 2,
   "metadata": {},
   "outputs": [
    {
     "name": "stderr",
     "output_type": "stream",
     "text": [
      "Downloading GitHub repo r-lib/usethis@master\n",
      "\n"
     ]
    },
    {
     "name": "stdout",
     "output_type": "stream",
     "text": [
      "cli       (2.0.1 -> 2.0.2) [CRAN]\n",
      "fs        (1.3.1 -> 1.4.1) [CRAN]\n",
      "glue      (1.3.2 -> 1.4.0) [CRAN]\n",
      "rematch2  (NA    -> 2.1.1) [CRAN]\n",
      "rlang     (0.4.3 -> 0.4.5) [CRAN]\n",
      "yaml      (2.2.0 -> 2.2.1) [CRAN]\n",
      "jsonlite  (1.6   -> 1.6.1) [CRAN]\n",
      "tibble    (2.1.3 -> 3.0.0) [CRAN]\n",
      "backports (1.1.5 -> 1.1.6) [CRAN]\n",
      "mime      (0.8   -> 0.9  ) [CRAN]\n",
      "lifecycle (0.1.0 -> 0.2.0) [CRAN]\n",
      "vctrs     (0.2.2 -> 0.2.4) [CRAN]\n"
     ]
    },
    {
     "name": "stderr",
     "output_type": "stream",
     "text": [
      "Installing 12 packages: cli, fs, glue, rematch2, rlang, yaml, jsonlite, tibble, backports, mime, lifecycle, vctrs\n",
      "\n",
      "Installing packages into 'C:/Users/Anuraga/Documents/R-dev'\n",
      "(as 'lib' is unspecified)\n",
      "\n"
     ]
    },
    {
     "name": "stdout",
     "output_type": "stream",
     "text": [
      "\n",
      "  There are binary versions available but the source versions are later:\n",
      "          binary source needs_compilation\n",
      "fs         1.4.0  1.4.1              TRUE\n",
      "glue       1.3.2  1.4.0              TRUE\n",
      "backports  1.1.5  1.1.6              TRUE\n",
      "\n",
      "package 'cli' successfully unpacked and MD5 sums checked\n",
      "package 'rematch2' successfully unpacked and MD5 sums checked\n",
      "package 'rlang' successfully unpacked and MD5 sums checked\n",
      "package 'yaml' successfully unpacked and MD5 sums checked\n",
      "package 'jsonlite' successfully unpacked and MD5 sums checked\n",
      "package 'tibble' successfully unpacked and MD5 sums checked\n",
      "package 'mime' successfully unpacked and MD5 sums checked\n",
      "package 'lifecycle' successfully unpacked and MD5 sums checked\n",
      "package 'vctrs' successfully unpacked and MD5 sums checked\n",
      "\n",
      "The downloaded binary packages are in\n",
      "\tC:\\Users\\Anuraga\\AppData\\Local\\Temp\\Rtmpw1sZSj\\downloaded_packages\n"
     ]
    },
    {
     "name": "stderr",
     "output_type": "stream",
     "text": [
      "installing the source packages 'fs', 'glue', 'backports'\n",
      "\n",
      "\n"
     ]
    },
    {
     "name": "stdout",
     "output_type": "stream",
     "text": [
      "\u001b[32mv\u001b[39m  \u001b[90mchecking for file 'C:\\Users\\Anuraga\\AppData\\Local\\Temp\\Rtmpw1sZSj\\remotes32bc71b553c1\\r-lib-usethis-1eb8efc/DESCRIPTION'\u001b[39m\u001b[36m\u001b[39m\n",
      "\u001b[90m-\u001b[39m\u001b[90m  \u001b[39m\u001b[90mpreparing 'usethis':\u001b[39m\u001b[36m\u001b[36m (1.5s)\u001b[36m\u001b[39m\n",
      "\u001b[32mv\u001b[39m  \u001b[90mchecking DESCRIPTION meta-information\u001b[39m\u001b[36m\u001b[39m\n",
      "\u001b[90m-\u001b[39m\u001b[90m  \u001b[39m\u001b[90mchecking for LF line-endings in source and make files and shell scripts\u001b[39m\u001b[36m\u001b[36m (583ms)\u001b[36m\u001b[39m\n",
      "\u001b[90m-\u001b[39m\u001b[90m  \u001b[39m\u001b[90mchecking for empty or unneeded directories\u001b[39m\u001b[36m\u001b[39m\n",
      "   Removed empty directory 'usethis/vignettes'\n",
      "\u001b[90m-\u001b[39m\u001b[90m  \u001b[39m\u001b[90mbuilding 'usethis_1.5.1.9000.tar.gz'\u001b[39m\u001b[36m\u001b[39m\n",
      "   \n",
      "\r"
     ]
    },
    {
     "name": "stderr",
     "output_type": "stream",
     "text": [
      "Installing package into 'C:/Users/Anuraga/Documents/R-dev'\n",
      "(as 'lib' is unspecified)\n",
      "\n"
     ]
    }
   ],
   "source": [
    "devtools::install_github(\"r-lib/usethis\")"
   ]
  },
  {
   "cell_type": "code",
   "execution_count": 3,
   "metadata": {},
   "outputs": [
    {
     "name": "stderr",
     "output_type": "stream",
     "text": [
      "Dev mode: OFF\n",
      "\n"
     ]
    }
   ],
   "source": [
    "# Diagram Jalur / Path Diagram\n",
    "library(\"devtools\")\n",
    "dev_mode()"
   ]
  },
  {
   "cell_type": "code",
   "execution_count": 11,
   "metadata": {},
   "outputs": [
    {
     "data": {
      "image/png": "[encoded data removed]",
      "text/plain": [
       "plot without title"
      ]
     },
     "metadata": {
      "image/png": {
       "height": 420,
       "width": 420
      },
      "text/plain": {
       "height": 420,
       "width": 420
      }
     },
     "output_type": "display_data"
    }
   ],
   "source": [
    "library(semPlot)\n",
    "semPaths(fit.CFA,whatLabels=\"est.std\",style=\"lisrel\",residuals=TRUE)"
   ]
  },
  {
   "cell_type": "code",
   "execution_count": 12,
   "metadata": {},
   "outputs": [],
   "source": [
    "#reliabilitas\n",
    "library(\"semTools\")\n",
    "update.packages(\"lavaan\")\n",
    "update.packages(\"semTools\")"
   ]
  },
  {
   "cell_type": "code",
   "execution_count": 15,
   "metadata": {},
   "outputs": [
    {
     "data": {
      "text/html": [
       "<table>\n",
       "<thead><tr><th></th><th scope=col>Kualitas_layanan</th><th scope=col>Penanganan_komplain</th><th scope=col>citra</th><th scope=col>total</th></tr></thead>\n",
       "<tbody>\n",
       "\t<tr><th scope=row>alpha</th><td>0.9239878</td><td>0.8858197</td><td>0.9183225</td><td>0.9568118</td></tr>\n",
       "\t<tr><th scope=row>omega</th><td>0.9255043</td><td>0.8858217</td><td>0.9185362</td><td>0.9663943</td></tr>\n",
       "\t<tr><th scope=row>omega2</th><td>0.9255043</td><td>0.8858217</td><td>0.9185362</td><td>0.9663943</td></tr>\n",
       "\t<tr><th scope=row>omega3</th><td>0.9283889</td><td>0.8858216</td><td>0.9176535</td><td>0.9600492</td></tr>\n",
       "\t<tr><th scope=row>avevar</th><td>0.7565941</td><td>0.7950451</td><td>0.7901272</td><td>0.7766892</td></tr>\n",
       "</tbody>\n",
       "</table>\n"
      ],
      "text/latex": [
       "\\begin{tabular}{r|llll}\n",
       "  & Kualitas\\_layanan & Penanganan\\_komplain & citra & total\\\\\n",
       "\\hline\n",
       "\talpha & 0.9239878 & 0.8858197 & 0.9183225 & 0.9568118\\\\\n",
       "\tomega & 0.9255043 & 0.8858217 & 0.9185362 & 0.9663943\\\\\n",
       "\tomega2 & 0.9255043 & 0.8858217 & 0.9185362 & 0.9663943\\\\\n",
       "\tomega3 & 0.9283889 & 0.8858216 & 0.9176535 & 0.9600492\\\\\n",
       "\tavevar & 0.7565941 & 0.7950451 & 0.7901272 & 0.7766892\\\\\n",
       "\\end{tabular}\n"
      ],
      "text/markdown": [
       "\n",
       "| <!--/--> | Kualitas_layanan | Penanganan_komplain | citra | total |\n",
       "|---|---|---|---|---|\n",
       "| alpha | 0.9239878 | 0.8858197 | 0.9183225 | 0.9568118 |\n",
       "| omega | 0.9255043 | 0.8858217 | 0.9185362 | 0.9663943 |\n",
       "| omega2 | 0.9255043 | 0.8858217 | 0.9185362 | 0.9663943 |\n",
       "| omega3 | 0.9283889 | 0.8858216 | 0.9176535 | 0.9600492 |\n",
       "| avevar | 0.7565941 | 0.7950451 | 0.7901272 | 0.7766892 |\n",
       "\n"
      ],
      "text/plain": [
       "       Kualitas_layanan Penanganan_komplain citra     total    \n",
       "alpha  0.9239878        0.8858197           0.9183225 0.9568118\n",
       "omega  0.9255043        0.8858217           0.9185362 0.9663943\n",
       "omega2 0.9255043        0.8858217           0.9185362 0.9663943\n",
       "omega3 0.9283889        0.8858216           0.9176535 0.9600492\n",
       "avevar 0.7565941        0.7950451           0.7901272 0.7766892"
      ]
     },
     "metadata": {},
     "output_type": "display_data"
    }
   ],
   "source": [
    "reliability(fit.CFA) "
   ]
  },
  {
   "cell_type": "markdown",
   "metadata": {},
   "source": [
    "help(reliability) \n",
    "jurnal terkait reliabilitas pada packages semTools dapat dibaca pada link dibawah ini\n",
    "url_reliability = \"https://cran.r-project.org/web/packages/semTools/semTools.pdf\"\n",
    "terdapat beberapa literatur terkait cut off reliability >= 0,6 dapat dikatakan reliabel, menurut chin : dikatakan reliabel jika >= 0,7."
   ]
  },
  {
   "cell_type": "markdown",
   "metadata": {},
   "source": [
    "Pengujian Goodness of fit atau kebaikan model berdasarkan nilai CFI diketahui sebesar 0,996 dan\n",
    "TLI sebesar 0.995 sehingga dapat dikatakan bahwa model baik karena lebih dari nilai cut off 0,95. Pada output R anda juga dapat menggunakan kriteria RMSEA atau Probabilitas\n",
    "![image](https://user-images.githubusercontent.com/36166387/79943359-e167f680-8492-11ea-9ae1-b6b56b93233a.png)"
   ]
  },
  {
   "cell_type": "code",
   "execution_count": 22,
   "metadata": {},
   "outputs": [],
   "source": [
    "update.packages(\"https://CRAN.R-project.org/package=MVN\")"
   ]
  },
  {
   "cell_type": "code",
   "execution_count": 23,
   "metadata": {},
   "outputs": [],
   "source": [
    "library(\"MVN\")"
   ]
  },
  {
   "cell_type": "code",
   "execution_count": 24,
   "metadata": {},
   "outputs": [
    {
     "data": {
      "text/html": [
       "<table>\n",
       "<thead><tr><th scope=col>x1</th><th scope=col>x2</th><th scope=col>x3</th><th scope=col>x4</th><th scope=col>x5</th><th scope=col>x6</th><th scope=col>x7</th><th scope=col>x8</th><th scope=col>x9</th><th scope=col>x10</th></tr></thead>\n",
       "<tbody>\n",
       "\t<tr><td>6</td><td>6</td><td>6</td><td>5</td><td>6</td><td>6</td><td>6</td><td>6</td><td>5</td><td>6</td></tr>\n",
       "\t<tr><td>7</td><td>6</td><td>6</td><td>6</td><td>4</td><td>4</td><td>4</td><td>5</td><td>4</td><td>5</td></tr>\n",
       "\t<tr><td>4</td><td>6</td><td>5</td><td>5</td><td>5</td><td>5</td><td>5</td><td>4</td><td>5</td><td>6</td></tr>\n",
       "\t<tr><td>6</td><td>5</td><td>5</td><td>6</td><td>4</td><td>4</td><td>4</td><td>4</td><td>4</td><td>5</td></tr>\n",
       "\t<tr><td>3</td><td>5</td><td>4</td><td>5</td><td>5</td><td>3</td><td>3</td><td>3</td><td>2</td><td>3</td></tr>\n",
       "\t<tr><td>6</td><td>6</td><td>6</td><td>6</td><td>5</td><td>5</td><td>5</td><td>6</td><td>6</td><td>6</td></tr>\n",
       "</tbody>\n",
       "</table>\n"
      ],
      "text/latex": [
       "\\begin{tabular}{r|llllllllll}\n",
       " x1 & x2 & x3 & x4 & x5 & x6 & x7 & x8 & x9 & x10\\\\\n",
       "\\hline\n",
       "\t 6 & 6 & 6 & 5 & 6 & 6 & 6 & 6 & 5 & 6\\\\\n",
       "\t 7 & 6 & 6 & 6 & 4 & 4 & 4 & 5 & 4 & 5\\\\\n",
       "\t 4 & 6 & 5 & 5 & 5 & 5 & 5 & 4 & 5 & 6\\\\\n",
       "\t 6 & 5 & 5 & 6 & 4 & 4 & 4 & 4 & 4 & 5\\\\\n",
       "\t 3 & 5 & 4 & 5 & 5 & 3 & 3 & 3 & 2 & 3\\\\\n",
       "\t 6 & 6 & 6 & 6 & 5 & 5 & 5 & 6 & 6 & 6\\\\\n",
       "\\end{tabular}\n"
      ],
      "text/markdown": [
       "\n",
       "| x1 | x2 | x3 | x4 | x5 | x6 | x7 | x8 | x9 | x10 |\n",
       "|---|---|---|---|---|---|---|---|---|---|\n",
       "| 6 | 6 | 6 | 5 | 6 | 6 | 6 | 6 | 5 | 6 |\n",
       "| 7 | 6 | 6 | 6 | 4 | 4 | 4 | 5 | 4 | 5 |\n",
       "| 4 | 6 | 5 | 5 | 5 | 5 | 5 | 4 | 5 | 6 |\n",
       "| 6 | 5 | 5 | 6 | 4 | 4 | 4 | 4 | 4 | 5 |\n",
       "| 3 | 5 | 4 | 5 | 5 | 3 | 3 | 3 | 2 | 3 |\n",
       "| 6 | 6 | 6 | 6 | 5 | 5 | 5 | 6 | 6 | 6 |\n",
       "\n"
      ],
      "text/plain": [
       "  x1 x2 x3 x4 x5 x6 x7 x8 x9 x10\n",
       "1 6  6  6  5  6  6  6  6  5  6  \n",
       "2 7  6  6  6  4  4  4  5  4  5  \n",
       "3 4  6  5  5  5  5  5  4  5  6  \n",
       "4 6  5  5  6  4  4  4  4  4  5  \n",
       "5 3  5  4  5  5  3  3  3  2  3  \n",
       "6 6  6  6  6  5  5  5  6  6  6  "
      ]
     },
     "metadata": {},
     "output_type": "display_data"
    }
   ],
   "source": [
    "#normal multivariate\n",
    "data.CFA = data.frame(data.CFA[,1:10])\n",
    "head(data.CFA)"
   ]
  },
  {
   "cell_type": "code",
   "execution_count": 28,
   "metadata": {},
   "outputs": [
    {
     "data": {
      "text/html": [
       "<dl>\n",
       "\t<dt>$multivariateNormality</dt>\n",
       "\t\t<dd><table>\n",
       "<thead><tr><th scope=col>Test</th><th scope=col>Statistic</th><th scope=col>p value</th><th scope=col>Result</th></tr></thead>\n",
       "<tbody>\n",
       "\t<tr><td>Mardia Skewness     </td><td>313.408233975817    </td><td>3.52261343098014e-05</td><td>NO                  </td></tr>\n",
       "\t<tr><td>Mardia Kurtosis     </td><td>2.90890928383008    </td><td>0.00362692085494132 </td><td>NO                  </td></tr>\n",
       "\t<tr><td>MVN                 </td><td>NA                  </td><td>NA                  </td><td>NO                  </td></tr>\n",
       "</tbody>\n",
       "</table>\n",
       "</dd>\n",
       "\t<dt>$univariateNormality</dt>\n",
       "\t\t<dd><table>\n",
       "<thead><tr><th scope=col>Test</th><th scope=col>Variable</th><th scope=col>Statistic</th><th scope=col>p value</th><th scope=col>Normality</th></tr></thead>\n",
       "<tbody>\n",
       "\t<tr><td>Shapiro-Wilk                                        </td><td><span style=white-space:pre-wrap>   x1    </span>   </td><td><span style=white-space:pre-wrap>   0.9231</span>   </td><td><span style=white-space:pre-wrap> &lt;0.001  </span></td><td><span style=white-space:pre-wrap>   NO    </span>   </td></tr>\n",
       "\t<tr><td>Shapiro-Wilk                                        </td><td><span style=white-space:pre-wrap>   x2    </span>   </td><td><span style=white-space:pre-wrap>   0.9037</span>   </td><td><span style=white-space:pre-wrap> &lt;0.001  </span></td><td><span style=white-space:pre-wrap>   NO    </span>   </td></tr>\n",
       "\t<tr><td>Shapiro-Wilk                                        </td><td><span style=white-space:pre-wrap>   x3    </span>   </td><td><span style=white-space:pre-wrap>   0.9329</span>   </td><td><span style=white-space:pre-wrap> &lt;0.001  </span></td><td><span style=white-space:pre-wrap>   NO    </span>   </td></tr>\n",
       "\t<tr><td>Shapiro-Wilk                                        </td><td><span style=white-space:pre-wrap>   x4    </span>   </td><td><span style=white-space:pre-wrap>   0.9198</span>   </td><td><span style=white-space:pre-wrap> &lt;0.001  </span></td><td><span style=white-space:pre-wrap>   NO    </span>   </td></tr>\n",
       "\t<tr><td>Shapiro-Wilk                                        </td><td><span style=white-space:pre-wrap>   x5    </span>   </td><td><span style=white-space:pre-wrap>   0.9194</span>   </td><td><span style=white-space:pre-wrap> &lt;0.001  </span></td><td><span style=white-space:pre-wrap>   NO    </span>   </td></tr>\n",
       "\t<tr><td>Shapiro-Wilk                                        </td><td><span style=white-space:pre-wrap>   x6    </span>   </td><td><span style=white-space:pre-wrap>   0.9239</span>   </td><td><span style=white-space:pre-wrap> &lt;0.001  </span></td><td><span style=white-space:pre-wrap>   NO    </span>   </td></tr>\n",
       "\t<tr><td>Shapiro-Wilk                                        </td><td><span style=white-space:pre-wrap>   x7    </span>   </td><td><span style=white-space:pre-wrap>   0.9210</span>   </td><td><span style=white-space:pre-wrap> &lt;0.001  </span></td><td><span style=white-space:pre-wrap>   NO    </span>   </td></tr>\n",
       "\t<tr><td>Shapiro-Wilk                                        </td><td><span style=white-space:pre-wrap>   x8    </span>   </td><td><span style=white-space:pre-wrap>   0.9304</span>   </td><td><span style=white-space:pre-wrap> &lt;0.001  </span></td><td><span style=white-space:pre-wrap>   NO    </span>   </td></tr>\n",
       "\t<tr><td>Shapiro-Wilk                                        </td><td><span style=white-space:pre-wrap>   x9    </span>   </td><td><span style=white-space:pre-wrap>   0.9338</span>   </td><td><span style=white-space:pre-wrap> &lt;0.001  </span></td><td><span style=white-space:pre-wrap>   NO    </span>   </td></tr>\n",
       "\t<tr><td>Shapiro-Wilk                                        </td><td><span style=white-space:pre-wrap>   x10   </span>   </td><td><span style=white-space:pre-wrap>   0.9221</span>   </td><td><span style=white-space:pre-wrap> &lt;0.001  </span></td><td><span style=white-space:pre-wrap>   NO    </span>   </td></tr>\n",
       "</tbody>\n",
       "</table>\n",
       "</dd>\n",
       "\t<dt>$Descriptives</dt>\n",
       "\t\t<dd><table>\n",
       "<thead><tr><th></th><th scope=col>n</th><th scope=col>Mean</th><th scope=col>Std.Dev</th><th scope=col>Median</th><th scope=col>Min</th><th scope=col>Max</th><th scope=col>25th</th><th scope=col>75th</th><th scope=col>Skew</th><th scope=col>Kurtosis</th></tr></thead>\n",
       "<tbody>\n",
       "\t<tr><th scope=row>x1</th><td>119       </td><td>4.554622  </td><td>1.710870  </td><td>5         </td><td>1         </td><td>7         </td><td>3.0       </td><td>6         </td><td>-0.1627576</td><td>-1.1674096</td></tr>\n",
       "\t<tr><th scope=row>x2</th><td>119       </td><td>4.739496  </td><td>1.440705  </td><td>5         </td><td>2         </td><td>7         </td><td>4.0       </td><td>6         </td><td>-0.3694907</td><td>-0.9798036</td></tr>\n",
       "\t<tr><th scope=row>x3</th><td>119       </td><td>4.705882  </td><td>1.520219  </td><td>5         </td><td>1         </td><td>7         </td><td>4.0       </td><td>6         </td><td>-0.2615478</td><td>-0.8855300</td></tr>\n",
       "\t<tr><th scope=row>x4</th><td>119       </td><td>4.638655  </td><td>1.582377  </td><td>5         </td><td>1         </td><td>7         </td><td>3.0       </td><td>6         </td><td>-0.4434717</td><td>-0.7920939</td></tr>\n",
       "\t<tr><th scope=row>x5</th><td>119       </td><td>4.663866  </td><td>1.519798  </td><td>5         </td><td>1         </td><td>7         </td><td>3.0       </td><td>6         </td><td>-0.3749610</td><td>-0.9065121</td></tr>\n",
       "\t<tr><th scope=row>x6</th><td>119       </td><td>4.798319  </td><td>1.521484  </td><td>5         </td><td>1         </td><td>7         </td><td>4.0       </td><td>6         </td><td>-0.3334305</td><td>-0.9074811</td></tr>\n",
       "\t<tr><th scope=row>x7</th><td>119       </td><td>4.722689  </td><td>1.550967  </td><td>5         </td><td>1         </td><td>7         </td><td>3.5       </td><td>6         </td><td>-0.4286750</td><td>-0.8067804</td></tr>\n",
       "\t<tr><th scope=row>x8</th><td>119       </td><td>4.462185  </td><td>1.686386  </td><td>5         </td><td>1         </td><td>7         </td><td>3.0       </td><td>6         </td><td>-0.2033397</td><td>-1.0466313</td></tr>\n",
       "\t<tr><th scope=row>x9</th><td>119       </td><td>4.386555  </td><td>1.693003  </td><td>4         </td><td>1         </td><td>7         </td><td>3.0       </td><td>6         </td><td>-0.1750662</td><td>-1.0213243</td></tr>\n",
       "\t<tr><th scope=row>x10</th><td>119       </td><td>4.352941  </td><td>1.629122  </td><td>5         </td><td>1         </td><td>7         </td><td>3.0       </td><td>6         </td><td>-0.2814830</td><td>-1.0571467</td></tr>\n",
       "</tbody>\n",
       "</table>\n",
       "</dd>\n",
       "</dl>\n"
      ],
      "text/latex": [
       "\\begin{description}\n",
       "\\item[\\$multivariateNormality] \\begin{tabular}{r|llll}\n",
       " Test & Statistic & p value & Result\\\\\n",
       "\\hline\n",
       "\t Mardia Skewness      & 313.408233975817     & 3.52261343098014e-05 & NO                  \\\\\n",
       "\t Mardia Kurtosis      & 2.90890928383008     & 0.00362692085494132  & NO                  \\\\\n",
       "\t MVN                  & NA                   & NA                   & NO                  \\\\\n",
       "\\end{tabular}\n",
       "\n",
       "\\item[\\$univariateNormality] \\begin{tabular}{r|lllll}\n",
       " Test & Variable & Statistic & p value & Normality\\\\\n",
       "\\hline\n",
       "\t Shapiro-Wilk &    x1        &    0.9231    &  <0.001      &    NO       \\\\\n",
       "\t Shapiro-Wilk &    x2        &    0.9037    &  <0.001      &    NO       \\\\\n",
       "\t Shapiro-Wilk &    x3        &    0.9329    &  <0.001      &    NO       \\\\\n",
       "\t Shapiro-Wilk &    x4        &    0.9198    &  <0.001      &    NO       \\\\\n",
       "\t Shapiro-Wilk &    x5        &    0.9194    &  <0.001      &    NO       \\\\\n",
       "\t Shapiro-Wilk &    x6        &    0.9239    &  <0.001      &    NO       \\\\\n",
       "\t Shapiro-Wilk &    x7        &    0.9210    &  <0.001      &    NO       \\\\\n",
       "\t Shapiro-Wilk &    x8        &    0.9304    &  <0.001      &    NO       \\\\\n",
       "\t Shapiro-Wilk &    x9        &    0.9338    &  <0.001      &    NO       \\\\\n",
       "\t Shapiro-Wilk &    x10       &    0.9221    &  <0.001      &    NO       \\\\\n",
       "\\end{tabular}\n",
       "\n",
       "\\item[\\$Descriptives] \\begin{tabular}{r|llllllllll}\n",
       "  & n & Mean & Std.Dev & Median & Min & Max & 25th & 75th & Skew & Kurtosis\\\\\n",
       "\\hline\n",
       "\tx1 & 119        & 4.554622   & 1.710870   & 5          & 1          & 7          & 3.0        & 6          & -0.1627576 & -1.1674096\\\\\n",
       "\tx2 & 119        & 4.739496   & 1.440705   & 5          & 2          & 7          & 4.0        & 6          & -0.3694907 & -0.9798036\\\\\n",
       "\tx3 & 119        & 4.705882   & 1.520219   & 5          & 1          & 7          & 4.0        & 6          & -0.2615478 & -0.8855300\\\\\n",
       "\tx4 & 119        & 4.638655   & 1.582377   & 5          & 1          & 7          & 3.0        & 6          & -0.4434717 & -0.7920939\\\\\n",
       "\tx5 & 119        & 4.663866   & 1.519798   & 5          & 1          & 7          & 3.0        & 6          & -0.3749610 & -0.9065121\\\\\n",
       "\tx6 & 119        & 4.798319   & 1.521484   & 5          & 1          & 7          & 4.0        & 6          & -0.3334305 & -0.9074811\\\\\n",
       "\tx7 & 119        & 4.722689   & 1.550967   & 5          & 1          & 7          & 3.5        & 6          & -0.4286750 & -0.8067804\\\\\n",
       "\tx8 & 119        & 4.462185   & 1.686386   & 5          & 1          & 7          & 3.0        & 6          & -0.2033397 & -1.0466313\\\\\n",
       "\tx9 & 119        & 4.386555   & 1.693003   & 4          & 1          & 7          & 3.0        & 6          & -0.1750662 & -1.0213243\\\\\n",
       "\tx10 & 119        & 4.352941   & 1.629122   & 5          & 1          & 7          & 3.0        & 6          & -0.2814830 & -1.0571467\\\\\n",
       "\\end{tabular}\n",
       "\n",
       "\\end{description}\n"
      ],
      "text/markdown": [
       "$multivariateNormality\n",
       ":   \n",
       "| Test | Statistic | p value | Result |\n",
       "|---|---|---|---|\n",
       "| Mardia Skewness      | 313.408233975817     | 3.52261343098014e-05 | NO                   |\n",
       "| Mardia Kurtosis      | 2.90890928383008     | 0.00362692085494132  | NO                   |\n",
       "| MVN                  | NA                   | NA                   | NO                   |\n",
       "\n",
       "\n",
       "$univariateNormality\n",
       ":   \n",
       "| Test | Variable | Statistic | p value | Normality |\n",
       "|---|---|---|---|---|\n",
       "| Shapiro-Wilk |    x1        |    0.9231    |  <0.001      |    NO        |\n",
       "| Shapiro-Wilk |    x2        |    0.9037    |  <0.001      |    NO        |\n",
       "| Shapiro-Wilk |    x3        |    0.9329    |  <0.001      |    NO        |\n",
       "| Shapiro-Wilk |    x4        |    0.9198    |  <0.001      |    NO        |\n",
       "| Shapiro-Wilk |    x5        |    0.9194    |  <0.001      |    NO        |\n",
       "| Shapiro-Wilk |    x6        |    0.9239    |  <0.001      |    NO        |\n",
       "| Shapiro-Wilk |    x7        |    0.9210    |  <0.001      |    NO        |\n",
       "| Shapiro-Wilk |    x8        |    0.9304    |  <0.001      |    NO        |\n",
       "| Shapiro-Wilk |    x9        |    0.9338    |  <0.001      |    NO        |\n",
       "| Shapiro-Wilk |    x10       |    0.9221    |  <0.001      |    NO        |\n",
       "\n",
       "\n",
       "$Descriptives\n",
       ":   \n",
       "| <!--/--> | n | Mean | Std.Dev | Median | Min | Max | 25th | 75th | Skew | Kurtosis |\n",
       "|---|---|---|---|---|---|---|---|---|---|---|\n",
       "| x1 | 119        | 4.554622   | 1.710870   | 5          | 1          | 7          | 3.0        | 6          | -0.1627576 | -1.1674096 |\n",
       "| x2 | 119        | 4.739496   | 1.440705   | 5          | 2          | 7          | 4.0        | 6          | -0.3694907 | -0.9798036 |\n",
       "| x3 | 119        | 4.705882   | 1.520219   | 5          | 1          | 7          | 4.0        | 6          | -0.2615478 | -0.8855300 |\n",
       "| x4 | 119        | 4.638655   | 1.582377   | 5          | 1          | 7          | 3.0        | 6          | -0.4434717 | -0.7920939 |\n",
       "| x5 | 119        | 4.663866   | 1.519798   | 5          | 1          | 7          | 3.0        | 6          | -0.3749610 | -0.9065121 |\n",
       "| x6 | 119        | 4.798319   | 1.521484   | 5          | 1          | 7          | 4.0        | 6          | -0.3334305 | -0.9074811 |\n",
       "| x7 | 119        | 4.722689   | 1.550967   | 5          | 1          | 7          | 3.5        | 6          | -0.4286750 | -0.8067804 |\n",
       "| x8 | 119        | 4.462185   | 1.686386   | 5          | 1          | 7          | 3.0        | 6          | -0.2033397 | -1.0466313 |\n",
       "| x9 | 119        | 4.386555   | 1.693003   | 4          | 1          | 7          | 3.0        | 6          | -0.1750662 | -1.0213243 |\n",
       "| x10 | 119        | 4.352941   | 1.629122   | 5          | 1          | 7          | 3.0        | 6          | -0.2814830 | -1.0571467 |\n",
       "\n",
       "\n",
       "\n",
       "\n"
      ],
      "text/plain": [
       "$multivariateNormality\n",
       "             Test        Statistic              p value Result\n",
       "1 Mardia Skewness 313.408233975817 3.52261343098014e-05     NO\n",
       "2 Mardia Kurtosis 2.90890928383008  0.00362692085494132     NO\n",
       "3             MVN             <NA>                 <NA>     NO\n",
       "\n",
       "$univariateNormality\n",
       "           Test  Variable Statistic   p value Normality\n",
       "1  Shapiro-Wilk    x1        0.9231  <0.001      NO    \n",
       "2  Shapiro-Wilk    x2        0.9037  <0.001      NO    \n",
       "3  Shapiro-Wilk    x3        0.9329  <0.001      NO    \n",
       "4  Shapiro-Wilk    x4        0.9198  <0.001      NO    \n",
       "5  Shapiro-Wilk    x5        0.9194  <0.001      NO    \n",
       "6  Shapiro-Wilk    x6        0.9239  <0.001      NO    \n",
       "7  Shapiro-Wilk    x7        0.9210  <0.001      NO    \n",
       "8  Shapiro-Wilk    x8        0.9304  <0.001      NO    \n",
       "9  Shapiro-Wilk    x9        0.9338  <0.001      NO    \n",
       "10 Shapiro-Wilk    x10       0.9221  <0.001      NO    \n",
       "\n",
       "$Descriptives\n",
       "      n     Mean  Std.Dev Median Min Max 25th 75th       Skew   Kurtosis\n",
       "x1  119 4.554622 1.710870      5   1   7  3.0    6 -0.1627576 -1.1674096\n",
       "x2  119 4.739496 1.440705      5   2   7  4.0    6 -0.3694907 -0.9798036\n",
       "x3  119 4.705882 1.520219      5   1   7  4.0    6 -0.2615478 -0.8855300\n",
       "x4  119 4.638655 1.582377      5   1   7  3.0    6 -0.4434717 -0.7920939\n",
       "x5  119 4.663866 1.519798      5   1   7  3.0    6 -0.3749610 -0.9065121\n",
       "x6  119 4.798319 1.521484      5   1   7  4.0    6 -0.3334305 -0.9074811\n",
       "x7  119 4.722689 1.550967      5   1   7  3.5    6 -0.4286750 -0.8067804\n",
       "x8  119 4.462185 1.686386      5   1   7  3.0    6 -0.2033397 -1.0466313\n",
       "x9  119 4.386555 1.693003      4   1   7  3.0    6 -0.1750662 -1.0213243\n",
       "x10 119 4.352941 1.629122      5   1   7  3.0    6 -0.2814830 -1.0571467\n"
      ]
     },
     "metadata": {},
     "output_type": "display_data"
    }
   ],
   "source": [
    "# jurnal terkait normal multivaraite dapat dibaca pada link dibawah ini\n",
    "url_normalmultivariate = \"https://cran.r-project.org/web/packages/MVN/vignettes/MVN.pdf\"\n",
    "# Mardia’s MVN test\n",
    "result1 <- mvn(data = data.CFA, mvnTest = \"mardia\")\n",
    "result1"
   ]
  },
  {
   "cell_type": "code",
   "execution_count": 34,
   "metadata": {},
   "outputs": [
    {
     "name": "stderr",
     "output_type": "stream",
     "text": [
      "Warning message in covMcd(data, alpha = alpha):\n",
      "\"The covariance matrix has become singular during\n",
      "the iterations of the MCD algorithm.\n",
      "There are 119 observations (in the entire dataset of 119 obs.) lying on\n",
      "the hyperplane with equation a_1*(x_i1 - m_1) + ... + a_p*(x_ip - m_p)\n",
      "= 0 with (m_1, ..., m_p) the mean of these observations and\n",
      "coefficients a_i from the vector a <- c(0, 0.7071068, -0.7071068, 0, 0,\n",
      "0, 0, 0, 0, 0)\""
     ]
    },
    {
     "data": {
      "image/png": "[encoded data removed]",
      "text/plain": [
       "Plot with title \"Chi-Square Q-Q Plot\""
      ]
     },
     "metadata": {},
     "output_type": "display_data"
    },
    {
     "data": {
      "image/png": "[encoded data removed]",
      "text/plain": [
       "Plot with title \"Chi-Square Q-Q Plot\""
      ]
     },
     "metadata": {},
     "output_type": "display_data"
    }
   ],
   "source": [
    "normalmulti <- mvn(data.CFA, mvnTest = \"mardia\", cov = TRUE, multivariatePlot = \"qq\", multivariateOutlierMethod = \"quan\", \n",
    "                   showOutliers = TRUE, showNewData = TRUE)"
   ]
  },
  {
   "cell_type": "code",
   "execution_count": 37,
   "metadata": {},
   "outputs": [
    {
     "data": {
      "text/html": [
       "<dl>\n",
       "\t<dt>$multivariateNormality</dt>\n",
       "\t\t<dd><table>\n",
       "<thead><tr><th scope=col>Test</th><th scope=col>HZ</th><th scope=col>p value</th><th scope=col>MVN</th></tr></thead>\n",
       "<tbody>\n",
       "\t<tr><td>Henze-Zirkler</td><td>1.190675     </td><td>0            </td><td>NO           </td></tr>\n",
       "</tbody>\n",
       "</table>\n",
       "</dd>\n",
       "\t<dt>$univariateNormality</dt>\n",
       "\t\t<dd><table>\n",
       "<thead><tr><th scope=col>Test</th><th scope=col>Variable</th><th scope=col>Statistic</th><th scope=col>p value</th><th scope=col>Normality</th></tr></thead>\n",
       "<tbody>\n",
       "\t<tr><td>Shapiro-Wilk                                        </td><td><span style=white-space:pre-wrap>   x1    </span>   </td><td><span style=white-space:pre-wrap>   0.9231</span>   </td><td><span style=white-space:pre-wrap> &lt;0.001  </span></td><td><span style=white-space:pre-wrap>   NO    </span>   </td></tr>\n",
       "\t<tr><td>Shapiro-Wilk                                        </td><td><span style=white-space:pre-wrap>   x2    </span>   </td><td><span style=white-space:pre-wrap>   0.9037</span>   </td><td><span style=white-space:pre-wrap> &lt;0.001  </span></td><td><span style=white-space:pre-wrap>   NO    </span>   </td></tr>\n",
       "\t<tr><td>Shapiro-Wilk                                        </td><td><span style=white-space:pre-wrap>   x3    </span>   </td><td><span style=white-space:pre-wrap>   0.9329</span>   </td><td><span style=white-space:pre-wrap> &lt;0.001  </span></td><td><span style=white-space:pre-wrap>   NO    </span>   </td></tr>\n",
       "\t<tr><td>Shapiro-Wilk                                        </td><td><span style=white-space:pre-wrap>   x4    </span>   </td><td><span style=white-space:pre-wrap>   0.9198</span>   </td><td><span style=white-space:pre-wrap> &lt;0.001  </span></td><td><span style=white-space:pre-wrap>   NO    </span>   </td></tr>\n",
       "\t<tr><td>Shapiro-Wilk                                        </td><td><span style=white-space:pre-wrap>   x5    </span>   </td><td><span style=white-space:pre-wrap>   0.9194</span>   </td><td><span style=white-space:pre-wrap> &lt;0.001  </span></td><td><span style=white-space:pre-wrap>   NO    </span>   </td></tr>\n",
       "\t<tr><td>Shapiro-Wilk                                        </td><td><span style=white-space:pre-wrap>   x6    </span>   </td><td><span style=white-space:pre-wrap>   0.9239</span>   </td><td><span style=white-space:pre-wrap> &lt;0.001  </span></td><td><span style=white-space:pre-wrap>   NO    </span>   </td></tr>\n",
       "\t<tr><td>Shapiro-Wilk                                        </td><td><span style=white-space:pre-wrap>   x7    </span>   </td><td><span style=white-space:pre-wrap>   0.9210</span>   </td><td><span style=white-space:pre-wrap> &lt;0.001  </span></td><td><span style=white-space:pre-wrap>   NO    </span>   </td></tr>\n",
       "\t<tr><td>Shapiro-Wilk                                        </td><td><span style=white-space:pre-wrap>   x8    </span>   </td><td><span style=white-space:pre-wrap>   0.9304</span>   </td><td><span style=white-space:pre-wrap> &lt;0.001  </span></td><td><span style=white-space:pre-wrap>   NO    </span>   </td></tr>\n",
       "\t<tr><td>Shapiro-Wilk                                        </td><td><span style=white-space:pre-wrap>   x9    </span>   </td><td><span style=white-space:pre-wrap>   0.9338</span>   </td><td><span style=white-space:pre-wrap> &lt;0.001  </span></td><td><span style=white-space:pre-wrap>   NO    </span>   </td></tr>\n",
       "\t<tr><td>Shapiro-Wilk                                        </td><td><span style=white-space:pre-wrap>   x10   </span>   </td><td><span style=white-space:pre-wrap>   0.9221</span>   </td><td><span style=white-space:pre-wrap> &lt;0.001  </span></td><td><span style=white-space:pre-wrap>   NO    </span>   </td></tr>\n",
       "</tbody>\n",
       "</table>\n",
       "</dd>\n",
       "\t<dt>$Descriptives</dt>\n",
       "\t\t<dd><table>\n",
       "<thead><tr><th></th><th scope=col>n</th><th scope=col>Mean</th><th scope=col>Std.Dev</th><th scope=col>Median</th><th scope=col>Min</th><th scope=col>Max</th><th scope=col>25th</th><th scope=col>75th</th><th scope=col>Skew</th><th scope=col>Kurtosis</th></tr></thead>\n",
       "<tbody>\n",
       "\t<tr><th scope=row>x1</th><td>119       </td><td>4.554622  </td><td>1.710870  </td><td>5         </td><td>1         </td><td>7         </td><td>3.0       </td><td>6         </td><td>-0.1627576</td><td>-1.1674096</td></tr>\n",
       "\t<tr><th scope=row>x2</th><td>119       </td><td>4.739496  </td><td>1.440705  </td><td>5         </td><td>2         </td><td>7         </td><td>4.0       </td><td>6         </td><td>-0.3694907</td><td>-0.9798036</td></tr>\n",
       "\t<tr><th scope=row>x3</th><td>119       </td><td>4.705882  </td><td>1.520219  </td><td>5         </td><td>1         </td><td>7         </td><td>4.0       </td><td>6         </td><td>-0.2615478</td><td>-0.8855300</td></tr>\n",
       "\t<tr><th scope=row>x4</th><td>119       </td><td>4.638655  </td><td>1.582377  </td><td>5         </td><td>1         </td><td>7         </td><td>3.0       </td><td>6         </td><td>-0.4434717</td><td>-0.7920939</td></tr>\n",
       "\t<tr><th scope=row>x5</th><td>119       </td><td>4.663866  </td><td>1.519798  </td><td>5         </td><td>1         </td><td>7         </td><td>3.0       </td><td>6         </td><td>-0.3749610</td><td>-0.9065121</td></tr>\n",
       "\t<tr><th scope=row>x6</th><td>119       </td><td>4.798319  </td><td>1.521484  </td><td>5         </td><td>1         </td><td>7         </td><td>4.0       </td><td>6         </td><td>-0.3334305</td><td>-0.9074811</td></tr>\n",
       "\t<tr><th scope=row>x7</th><td>119       </td><td>4.722689  </td><td>1.550967  </td><td>5         </td><td>1         </td><td>7         </td><td>3.5       </td><td>6         </td><td>-0.4286750</td><td>-0.8067804</td></tr>\n",
       "\t<tr><th scope=row>x8</th><td>119       </td><td>4.462185  </td><td>1.686386  </td><td>5         </td><td>1         </td><td>7         </td><td>3.0       </td><td>6         </td><td>-0.2033397</td><td>-1.0466313</td></tr>\n",
       "\t<tr><th scope=row>x9</th><td>119       </td><td>4.386555  </td><td>1.693003  </td><td>4         </td><td>1         </td><td>7         </td><td>3.0       </td><td>6         </td><td>-0.1750662</td><td>-1.0213243</td></tr>\n",
       "\t<tr><th scope=row>x10</th><td>119       </td><td>4.352941  </td><td>1.629122  </td><td>5         </td><td>1         </td><td>7         </td><td>3.0       </td><td>6         </td><td>-0.2814830</td><td>-1.0571467</td></tr>\n",
       "</tbody>\n",
       "</table>\n",
       "</dd>\n",
       "</dl>\n"
      ],
      "text/latex": [
       "\\begin{description}\n",
       "\\item[\\$multivariateNormality] \\begin{tabular}{r|llll}\n",
       " Test & HZ & p value & MVN\\\\\n",
       "\\hline\n",
       "\t Henze-Zirkler & 1.190675      & 0             & NO           \\\\\n",
       "\\end{tabular}\n",
       "\n",
       "\\item[\\$univariateNormality] \\begin{tabular}{r|lllll}\n",
       " Test & Variable & Statistic & p value & Normality\\\\\n",
       "\\hline\n",
       "\t Shapiro-Wilk &    x1        &    0.9231    &  <0.001      &    NO       \\\\\n",
       "\t Shapiro-Wilk &    x2        &    0.9037    &  <0.001      &    NO       \\\\\n",
       "\t Shapiro-Wilk &    x3        &    0.9329    &  <0.001      &    NO       \\\\\n",
       "\t Shapiro-Wilk &    x4        &    0.9198    &  <0.001      &    NO       \\\\\n",
       "\t Shapiro-Wilk &    x5        &    0.9194    &  <0.001      &    NO       \\\\\n",
       "\t Shapiro-Wilk &    x6        &    0.9239    &  <0.001      &    NO       \\\\\n",
       "\t Shapiro-Wilk &    x7        &    0.9210    &  <0.001      &    NO       \\\\\n",
       "\t Shapiro-Wilk &    x8        &    0.9304    &  <0.001      &    NO       \\\\\n",
       "\t Shapiro-Wilk &    x9        &    0.9338    &  <0.001      &    NO       \\\\\n",
       "\t Shapiro-Wilk &    x10       &    0.9221    &  <0.001      &    NO       \\\\\n",
       "\\end{tabular}\n",
       "\n",
       "\\item[\\$Descriptives] \\begin{tabular}{r|llllllllll}\n",
       "  & n & Mean & Std.Dev & Median & Min & Max & 25th & 75th & Skew & Kurtosis\\\\\n",
       "\\hline\n",
       "\tx1 & 119        & 4.554622   & 1.710870   & 5          & 1          & 7          & 3.0        & 6          & -0.1627576 & -1.1674096\\\\\n",
       "\tx2 & 119        & 4.739496   & 1.440705   & 5          & 2          & 7          & 4.0        & 6          & -0.3694907 & -0.9798036\\\\\n",
       "\tx3 & 119        & 4.705882   & 1.520219   & 5          & 1          & 7          & 4.0        & 6          & -0.2615478 & -0.8855300\\\\\n",
       "\tx4 & 119        & 4.638655   & 1.582377   & 5          & 1          & 7          & 3.0        & 6          & -0.4434717 & -0.7920939\\\\\n",
       "\tx5 & 119        & 4.663866   & 1.519798   & 5          & 1          & 7          & 3.0        & 6          & -0.3749610 & -0.9065121\\\\\n",
       "\tx6 & 119        & 4.798319   & 1.521484   & 5          & 1          & 7          & 4.0        & 6          & -0.3334305 & -0.9074811\\\\\n",
       "\tx7 & 119        & 4.722689   & 1.550967   & 5          & 1          & 7          & 3.5        & 6          & -0.4286750 & -0.8067804\\\\\n",
       "\tx8 & 119        & 4.462185   & 1.686386   & 5          & 1          & 7          & 3.0        & 6          & -0.2033397 & -1.0466313\\\\\n",
       "\tx9 & 119        & 4.386555   & 1.693003   & 4          & 1          & 7          & 3.0        & 6          & -0.1750662 & -1.0213243\\\\\n",
       "\tx10 & 119        & 4.352941   & 1.629122   & 5          & 1          & 7          & 3.0        & 6          & -0.2814830 & -1.0571467\\\\\n",
       "\\end{tabular}\n",
       "\n",
       "\\end{description}\n"
      ],
      "text/markdown": [
       "$multivariateNormality\n",
       ":   \n",
       "| Test | HZ | p value | MVN |\n",
       "|---|---|---|---|\n",
       "| Henze-Zirkler | 1.190675      | 0             | NO            |\n",
       "\n",
       "\n",
       "$univariateNormality\n",
       ":   \n",
       "| Test | Variable | Statistic | p value | Normality |\n",
       "|---|---|---|---|---|\n",
       "| Shapiro-Wilk |    x1        |    0.9231    |  <0.001      |    NO        |\n",
       "| Shapiro-Wilk |    x2        |    0.9037    |  <0.001      |    NO        |\n",
       "| Shapiro-Wilk |    x3        |    0.9329    |  <0.001      |    NO        |\n",
       "| Shapiro-Wilk |    x4        |    0.9198    |  <0.001      |    NO        |\n",
       "| Shapiro-Wilk |    x5        |    0.9194    |  <0.001      |    NO        |\n",
       "| Shapiro-Wilk |    x6        |    0.9239    |  <0.001      |    NO        |\n",
       "| Shapiro-Wilk |    x7        |    0.9210    |  <0.001      |    NO        |\n",
       "| Shapiro-Wilk |    x8        |    0.9304    |  <0.001      |    NO        |\n",
       "| Shapiro-Wilk |    x9        |    0.9338    |  <0.001      |    NO        |\n",
       "| Shapiro-Wilk |    x10       |    0.9221    |  <0.001      |    NO        |\n",
       "\n",
       "\n",
       "$Descriptives\n",
       ":   \n",
       "| <!--/--> | n | Mean | Std.Dev | Median | Min | Max | 25th | 75th | Skew | Kurtosis |\n",
       "|---|---|---|---|---|---|---|---|---|---|---|\n",
       "| x1 | 119        | 4.554622   | 1.710870   | 5          | 1          | 7          | 3.0        | 6          | -0.1627576 | -1.1674096 |\n",
       "| x2 | 119        | 4.739496   | 1.440705   | 5          | 2          | 7          | 4.0        | 6          | -0.3694907 | -0.9798036 |\n",
       "| x3 | 119        | 4.705882   | 1.520219   | 5          | 1          | 7          | 4.0        | 6          | -0.2615478 | -0.8855300 |\n",
       "| x4 | 119        | 4.638655   | 1.582377   | 5          | 1          | 7          | 3.0        | 6          | -0.4434717 | -0.7920939 |\n",
       "| x5 | 119        | 4.663866   | 1.519798   | 5          | 1          | 7          | 3.0        | 6          | -0.3749610 | -0.9065121 |\n",
       "| x6 | 119        | 4.798319   | 1.521484   | 5          | 1          | 7          | 4.0        | 6          | -0.3334305 | -0.9074811 |\n",
       "| x7 | 119        | 4.722689   | 1.550967   | 5          | 1          | 7          | 3.5        | 6          | -0.4286750 | -0.8067804 |\n",
       "| x8 | 119        | 4.462185   | 1.686386   | 5          | 1          | 7          | 3.0        | 6          | -0.2033397 | -1.0466313 |\n",
       "| x9 | 119        | 4.386555   | 1.693003   | 4          | 1          | 7          | 3.0        | 6          | -0.1750662 | -1.0213243 |\n",
       "| x10 | 119        | 4.352941   | 1.629122   | 5          | 1          | 7          | 3.0        | 6          | -0.2814830 | -1.0571467 |\n",
       "\n",
       "\n",
       "\n",
       "\n"
      ],
      "text/plain": [
       "$multivariateNormality\n",
       "           Test       HZ p value MVN\n",
       "1 Henze-Zirkler 1.190675       0  NO\n",
       "\n",
       "$univariateNormality\n",
       "           Test  Variable Statistic   p value Normality\n",
       "1  Shapiro-Wilk    x1        0.9231  <0.001      NO    \n",
       "2  Shapiro-Wilk    x2        0.9037  <0.001      NO    \n",
       "3  Shapiro-Wilk    x3        0.9329  <0.001      NO    \n",
       "4  Shapiro-Wilk    x4        0.9198  <0.001      NO    \n",
       "5  Shapiro-Wilk    x5        0.9194  <0.001      NO    \n",
       "6  Shapiro-Wilk    x6        0.9239  <0.001      NO    \n",
       "7  Shapiro-Wilk    x7        0.9210  <0.001      NO    \n",
       "8  Shapiro-Wilk    x8        0.9304  <0.001      NO    \n",
       "9  Shapiro-Wilk    x9        0.9338  <0.001      NO    \n",
       "10 Shapiro-Wilk    x10       0.9221  <0.001      NO    \n",
       "\n",
       "$Descriptives\n",
       "      n     Mean  Std.Dev Median Min Max 25th 75th       Skew   Kurtosis\n",
       "x1  119 4.554622 1.710870      5   1   7  3.0    6 -0.1627576 -1.1674096\n",
       "x2  119 4.739496 1.440705      5   2   7  4.0    6 -0.3694907 -0.9798036\n",
       "x3  119 4.705882 1.520219      5   1   7  4.0    6 -0.2615478 -0.8855300\n",
       "x4  119 4.638655 1.582377      5   1   7  3.0    6 -0.4434717 -0.7920939\n",
       "x5  119 4.663866 1.519798      5   1   7  3.0    6 -0.3749610 -0.9065121\n",
       "x6  119 4.798319 1.521484      5   1   7  4.0    6 -0.3334305 -0.9074811\n",
       "x7  119 4.722689 1.550967      5   1   7  3.5    6 -0.4286750 -0.8067804\n",
       "x8  119 4.462185 1.686386      5   1   7  3.0    6 -0.2033397 -1.0466313\n",
       "x9  119 4.386555 1.693003      4   1   7  3.0    6 -0.1750662 -1.0213243\n",
       "x10 119 4.352941 1.629122      5   1   7  3.0    6 -0.2814830 -1.0571467\n"
      ]
     },
     "metadata": {},
     "output_type": "display_data"
    }
   ],
   "source": [
    "result2 = mvn(data = data.CFA, mvnTest = \"hz\")\n",
    "result2"
   ]
  },
  {
   "cell_type": "code",
   "execution_count": 38,
   "metadata": {},
   "outputs": [
    {
     "data": {
      "text/html": [
       "<dl>\n",
       "\t<dt>$multivariateNormality</dt>\n",
       "\t\t<dd><table>\n",
       "<thead><tr><th scope=col>Test</th><th scope=col>Statistic</th><th scope=col>p value</th><th scope=col>Result</th></tr></thead>\n",
       "<tbody>\n",
       "\t<tr><td>Mardia Skewness     </td><td>313.408233975817    </td><td>3.52261343098014e-05</td><td>NO                  </td></tr>\n",
       "\t<tr><td>Mardia Kurtosis     </td><td>2.90890928383008    </td><td>0.00362692085494132 </td><td>NO                  </td></tr>\n",
       "\t<tr><td>MVN                 </td><td>NA                  </td><td>NA                  </td><td>NO                  </td></tr>\n",
       "</tbody>\n",
       "</table>\n",
       "</dd>\n",
       "\t<dt>$univariateNormality</dt>\n",
       "\t\t<dd><table>\n",
       "<thead><tr><th scope=col>Test</th><th scope=col>Variable</th><th scope=col>Statistic</th><th scope=col>p value</th><th scope=col>Normality</th></tr></thead>\n",
       "<tbody>\n",
       "\t<tr><td>Shapiro-Wilk                                        </td><td><span style=white-space:pre-wrap>   x1    </span>   </td><td><span style=white-space:pre-wrap>   0.9231</span>   </td><td><span style=white-space:pre-wrap> &lt;0.001  </span></td><td><span style=white-space:pre-wrap>   NO    </span>   </td></tr>\n",
       "\t<tr><td>Shapiro-Wilk                                        </td><td><span style=white-space:pre-wrap>   x2    </span>   </td><td><span style=white-space:pre-wrap>   0.9037</span>   </td><td><span style=white-space:pre-wrap> &lt;0.001  </span></td><td><span style=white-space:pre-wrap>   NO    </span>   </td></tr>\n",
       "\t<tr><td>Shapiro-Wilk                                        </td><td><span style=white-space:pre-wrap>   x3    </span>   </td><td><span style=white-space:pre-wrap>   0.9329</span>   </td><td><span style=white-space:pre-wrap> &lt;0.001  </span></td><td><span style=white-space:pre-wrap>   NO    </span>   </td></tr>\n",
       "\t<tr><td>Shapiro-Wilk                                        </td><td><span style=white-space:pre-wrap>   x4    </span>   </td><td><span style=white-space:pre-wrap>   0.9198</span>   </td><td><span style=white-space:pre-wrap> &lt;0.001  </span></td><td><span style=white-space:pre-wrap>   NO    </span>   </td></tr>\n",
       "\t<tr><td>Shapiro-Wilk                                        </td><td><span style=white-space:pre-wrap>   x5    </span>   </td><td><span style=white-space:pre-wrap>   0.9194</span>   </td><td><span style=white-space:pre-wrap> &lt;0.001  </span></td><td><span style=white-space:pre-wrap>   NO    </span>   </td></tr>\n",
       "\t<tr><td>Shapiro-Wilk                                        </td><td><span style=white-space:pre-wrap>   x6    </span>   </td><td><span style=white-space:pre-wrap>   0.9239</span>   </td><td><span style=white-space:pre-wrap> &lt;0.001  </span></td><td><span style=white-space:pre-wrap>   NO    </span>   </td></tr>\n",
       "\t<tr><td>Shapiro-Wilk                                        </td><td><span style=white-space:pre-wrap>   x7    </span>   </td><td><span style=white-space:pre-wrap>   0.9210</span>   </td><td><span style=white-space:pre-wrap> &lt;0.001  </span></td><td><span style=white-space:pre-wrap>   NO    </span>   </td></tr>\n",
       "\t<tr><td>Shapiro-Wilk                                        </td><td><span style=white-space:pre-wrap>   x8    </span>   </td><td><span style=white-space:pre-wrap>   0.9304</span>   </td><td><span style=white-space:pre-wrap> &lt;0.001  </span></td><td><span style=white-space:pre-wrap>   NO    </span>   </td></tr>\n",
       "\t<tr><td>Shapiro-Wilk                                        </td><td><span style=white-space:pre-wrap>   x9    </span>   </td><td><span style=white-space:pre-wrap>   0.9338</span>   </td><td><span style=white-space:pre-wrap> &lt;0.001  </span></td><td><span style=white-space:pre-wrap>   NO    </span>   </td></tr>\n",
       "\t<tr><td>Shapiro-Wilk                                        </td><td><span style=white-space:pre-wrap>   x10   </span>   </td><td><span style=white-space:pre-wrap>   0.9221</span>   </td><td><span style=white-space:pre-wrap> &lt;0.001  </span></td><td><span style=white-space:pre-wrap>   NO    </span>   </td></tr>\n",
       "</tbody>\n",
       "</table>\n",
       "</dd>\n",
       "\t<dt>$Descriptives</dt>\n",
       "\t\t<dd><table>\n",
       "<thead><tr><th></th><th scope=col>n</th><th scope=col>Mean</th><th scope=col>Std.Dev</th><th scope=col>Median</th><th scope=col>Min</th><th scope=col>Max</th><th scope=col>25th</th><th scope=col>75th</th><th scope=col>Skew</th><th scope=col>Kurtosis</th></tr></thead>\n",
       "<tbody>\n",
       "\t<tr><th scope=row>x1</th><td>119       </td><td>4.554622  </td><td>1.710870  </td><td>5         </td><td>1         </td><td>7         </td><td>3.0       </td><td>6         </td><td>-0.1627576</td><td>-1.1674096</td></tr>\n",
       "\t<tr><th scope=row>x2</th><td>119       </td><td>4.739496  </td><td>1.440705  </td><td>5         </td><td>2         </td><td>7         </td><td>4.0       </td><td>6         </td><td>-0.3694907</td><td>-0.9798036</td></tr>\n",
       "\t<tr><th scope=row>x3</th><td>119       </td><td>4.705882  </td><td>1.520219  </td><td>5         </td><td>1         </td><td>7         </td><td>4.0       </td><td>6         </td><td>-0.2615478</td><td>-0.8855300</td></tr>\n",
       "\t<tr><th scope=row>x4</th><td>119       </td><td>4.638655  </td><td>1.582377  </td><td>5         </td><td>1         </td><td>7         </td><td>3.0       </td><td>6         </td><td>-0.4434717</td><td>-0.7920939</td></tr>\n",
       "\t<tr><th scope=row>x5</th><td>119       </td><td>4.663866  </td><td>1.519798  </td><td>5         </td><td>1         </td><td>7         </td><td>3.0       </td><td>6         </td><td>-0.3749610</td><td>-0.9065121</td></tr>\n",
       "\t<tr><th scope=row>x6</th><td>119       </td><td>4.798319  </td><td>1.521484  </td><td>5         </td><td>1         </td><td>7         </td><td>4.0       </td><td>6         </td><td>-0.3334305</td><td>-0.9074811</td></tr>\n",
       "\t<tr><th scope=row>x7</th><td>119       </td><td>4.722689  </td><td>1.550967  </td><td>5         </td><td>1         </td><td>7         </td><td>3.5       </td><td>6         </td><td>-0.4286750</td><td>-0.8067804</td></tr>\n",
       "\t<tr><th scope=row>x8</th><td>119       </td><td>4.462185  </td><td>1.686386  </td><td>5         </td><td>1         </td><td>7         </td><td>3.0       </td><td>6         </td><td>-0.2033397</td><td>-1.0466313</td></tr>\n",
       "\t<tr><th scope=row>x9</th><td>119       </td><td>4.386555  </td><td>1.693003  </td><td>4         </td><td>1         </td><td>7         </td><td>3.0       </td><td>6         </td><td>-0.1750662</td><td>-1.0213243</td></tr>\n",
       "\t<tr><th scope=row>x10</th><td>119       </td><td>4.352941  </td><td>1.629122  </td><td>5         </td><td>1         </td><td>7         </td><td>3.0       </td><td>6         </td><td>-0.2814830</td><td>-1.0571467</td></tr>\n",
       "</tbody>\n",
       "</table>\n",
       "</dd>\n",
       "</dl>\n"
      ],
      "text/latex": [
       "\\begin{description}\n",
       "\\item[\\$multivariateNormality] \\begin{tabular}{r|llll}\n",
       " Test & Statistic & p value & Result\\\\\n",
       "\\hline\n",
       "\t Mardia Skewness      & 313.408233975817     & 3.52261343098014e-05 & NO                  \\\\\n",
       "\t Mardia Kurtosis      & 2.90890928383008     & 0.00362692085494132  & NO                  \\\\\n",
       "\t MVN                  & NA                   & NA                   & NO                  \\\\\n",
       "\\end{tabular}\n",
       "\n",
       "\\item[\\$univariateNormality] \\begin{tabular}{r|lllll}\n",
       " Test & Variable & Statistic & p value & Normality\\\\\n",
       "\\hline\n",
       "\t Shapiro-Wilk &    x1        &    0.9231    &  <0.001      &    NO       \\\\\n",
       "\t Shapiro-Wilk &    x2        &    0.9037    &  <0.001      &    NO       \\\\\n",
       "\t Shapiro-Wilk &    x3        &    0.9329    &  <0.001      &    NO       \\\\\n",
       "\t Shapiro-Wilk &    x4        &    0.9198    &  <0.001      &    NO       \\\\\n",
       "\t Shapiro-Wilk &    x5        &    0.9194    &  <0.001      &    NO       \\\\\n",
       "\t Shapiro-Wilk &    x6        &    0.9239    &  <0.001      &    NO       \\\\\n",
       "\t Shapiro-Wilk &    x7        &    0.9210    &  <0.001      &    NO       \\\\\n",
       "\t Shapiro-Wilk &    x8        &    0.9304    &  <0.001      &    NO       \\\\\n",
       "\t Shapiro-Wilk &    x9        &    0.9338    &  <0.001      &    NO       \\\\\n",
       "\t Shapiro-Wilk &    x10       &    0.9221    &  <0.001      &    NO       \\\\\n",
       "\\end{tabular}\n",
       "\n",
       "\\item[\\$Descriptives] \\begin{tabular}{r|llllllllll}\n",
       "  & n & Mean & Std.Dev & Median & Min & Max & 25th & 75th & Skew & Kurtosis\\\\\n",
       "\\hline\n",
       "\tx1 & 119        & 4.554622   & 1.710870   & 5          & 1          & 7          & 3.0        & 6          & -0.1627576 & -1.1674096\\\\\n",
       "\tx2 & 119        & 4.739496   & 1.440705   & 5          & 2          & 7          & 4.0        & 6          & -0.3694907 & -0.9798036\\\\\n",
       "\tx3 & 119        & 4.705882   & 1.520219   & 5          & 1          & 7          & 4.0        & 6          & -0.2615478 & -0.8855300\\\\\n",
       "\tx4 & 119        & 4.638655   & 1.582377   & 5          & 1          & 7          & 3.0        & 6          & -0.4434717 & -0.7920939\\\\\n",
       "\tx5 & 119        & 4.663866   & 1.519798   & 5          & 1          & 7          & 3.0        & 6          & -0.3749610 & -0.9065121\\\\\n",
       "\tx6 & 119        & 4.798319   & 1.521484   & 5          & 1          & 7          & 4.0        & 6          & -0.3334305 & -0.9074811\\\\\n",
       "\tx7 & 119        & 4.722689   & 1.550967   & 5          & 1          & 7          & 3.5        & 6          & -0.4286750 & -0.8067804\\\\\n",
       "\tx8 & 119        & 4.462185   & 1.686386   & 5          & 1          & 7          & 3.0        & 6          & -0.2033397 & -1.0466313\\\\\n",
       "\tx9 & 119        & 4.386555   & 1.693003   & 4          & 1          & 7          & 3.0        & 6          & -0.1750662 & -1.0213243\\\\\n",
       "\tx10 & 119        & 4.352941   & 1.629122   & 5          & 1          & 7          & 3.0        & 6          & -0.2814830 & -1.0571467\\\\\n",
       "\\end{tabular}\n",
       "\n",
       "\\end{description}\n"
      ],
      "text/markdown": [
       "$multivariateNormality\n",
       ":   \n",
       "| Test | Statistic | p value | Result |\n",
       "|---|---|---|---|\n",
       "| Mardia Skewness      | 313.408233975817     | 3.52261343098014e-05 | NO                   |\n",
       "| Mardia Kurtosis      | 2.90890928383008     | 0.00362692085494132  | NO                   |\n",
       "| MVN                  | NA                   | NA                   | NO                   |\n",
       "\n",
       "\n",
       "$univariateNormality\n",
       ":   \n",
       "| Test | Variable | Statistic | p value | Normality |\n",
       "|---|---|---|---|---|\n",
       "| Shapiro-Wilk |    x1        |    0.9231    |  <0.001      |    NO        |\n",
       "| Shapiro-Wilk |    x2        |    0.9037    |  <0.001      |    NO        |\n",
       "| Shapiro-Wilk |    x3        |    0.9329    |  <0.001      |    NO        |\n",
       "| Shapiro-Wilk |    x4        |    0.9198    |  <0.001      |    NO        |\n",
       "| Shapiro-Wilk |    x5        |    0.9194    |  <0.001      |    NO        |\n",
       "| Shapiro-Wilk |    x6        |    0.9239    |  <0.001      |    NO        |\n",
       "| Shapiro-Wilk |    x7        |    0.9210    |  <0.001      |    NO        |\n",
       "| Shapiro-Wilk |    x8        |    0.9304    |  <0.001      |    NO        |\n",
       "| Shapiro-Wilk |    x9        |    0.9338    |  <0.001      |    NO        |\n",
       "| Shapiro-Wilk |    x10       |    0.9221    |  <0.001      |    NO        |\n",
       "\n",
       "\n",
       "$Descriptives\n",
       ":   \n",
       "| <!--/--> | n | Mean | Std.Dev | Median | Min | Max | 25th | 75th | Skew | Kurtosis |\n",
       "|---|---|---|---|---|---|---|---|---|---|---|\n",
       "| x1 | 119        | 4.554622   | 1.710870   | 5          | 1          | 7          | 3.0        | 6          | -0.1627576 | -1.1674096 |\n",
       "| x2 | 119        | 4.739496   | 1.440705   | 5          | 2          | 7          | 4.0        | 6          | -0.3694907 | -0.9798036 |\n",
       "| x3 | 119        | 4.705882   | 1.520219   | 5          | 1          | 7          | 4.0        | 6          | -0.2615478 | -0.8855300 |\n",
       "| x4 | 119        | 4.638655   | 1.582377   | 5          | 1          | 7          | 3.0        | 6          | -0.4434717 | -0.7920939 |\n",
       "| x5 | 119        | 4.663866   | 1.519798   | 5          | 1          | 7          | 3.0        | 6          | -0.3749610 | -0.9065121 |\n",
       "| x6 | 119        | 4.798319   | 1.521484   | 5          | 1          | 7          | 4.0        | 6          | -0.3334305 | -0.9074811 |\n",
       "| x7 | 119        | 4.722689   | 1.550967   | 5          | 1          | 7          | 3.5        | 6          | -0.4286750 | -0.8067804 |\n",
       "| x8 | 119        | 4.462185   | 1.686386   | 5          | 1          | 7          | 3.0        | 6          | -0.2033397 | -1.0466313 |\n",
       "| x9 | 119        | 4.386555   | 1.693003   | 4          | 1          | 7          | 3.0        | 6          | -0.1750662 | -1.0213243 |\n",
       "| x10 | 119        | 4.352941   | 1.629122   | 5          | 1          | 7          | 3.0        | 6          | -0.2814830 | -1.0571467 |\n",
       "\n",
       "\n",
       "\n",
       "\n"
      ],
      "text/plain": [
       "$multivariateNormality\n",
       "             Test        Statistic              p value Result\n",
       "1 Mardia Skewness 313.408233975817 3.52261343098014e-05     NO\n",
       "2 Mardia Kurtosis 2.90890928383008  0.00362692085494132     NO\n",
       "3             MVN             <NA>                 <NA>     NO\n",
       "\n",
       "$univariateNormality\n",
       "           Test  Variable Statistic   p value Normality\n",
       "1  Shapiro-Wilk    x1        0.9231  <0.001      NO    \n",
       "2  Shapiro-Wilk    x2        0.9037  <0.001      NO    \n",
       "3  Shapiro-Wilk    x3        0.9329  <0.001      NO    \n",
       "4  Shapiro-Wilk    x4        0.9198  <0.001      NO    \n",
       "5  Shapiro-Wilk    x5        0.9194  <0.001      NO    \n",
       "6  Shapiro-Wilk    x6        0.9239  <0.001      NO    \n",
       "7  Shapiro-Wilk    x7        0.9210  <0.001      NO    \n",
       "8  Shapiro-Wilk    x8        0.9304  <0.001      NO    \n",
       "9  Shapiro-Wilk    x9        0.9338  <0.001      NO    \n",
       "10 Shapiro-Wilk    x10       0.9221  <0.001      NO    \n",
       "\n",
       "$Descriptives\n",
       "      n     Mean  Std.Dev Median Min Max 25th 75th       Skew   Kurtosis\n",
       "x1  119 4.554622 1.710870      5   1   7  3.0    6 -0.1627576 -1.1674096\n",
       "x2  119 4.739496 1.440705      5   2   7  4.0    6 -0.3694907 -0.9798036\n",
       "x3  119 4.705882 1.520219      5   1   7  4.0    6 -0.2615478 -0.8855300\n",
       "x4  119 4.638655 1.582377      5   1   7  3.0    6 -0.4434717 -0.7920939\n",
       "x5  119 4.663866 1.519798      5   1   7  3.0    6 -0.3749610 -0.9065121\n",
       "x6  119 4.798319 1.521484      5   1   7  4.0    6 -0.3334305 -0.9074811\n",
       "x7  119 4.722689 1.550967      5   1   7  3.5    6 -0.4286750 -0.8067804\n",
       "x8  119 4.462185 1.686386      5   1   7  3.0    6 -0.2033397 -1.0466313\n",
       "x9  119 4.386555 1.693003      4   1   7  3.0    6 -0.1750662 -1.0213243\n",
       "x10 119 4.352941 1.629122      5   1   7  3.0    6 -0.2814830 -1.0571467\n"
      ]
     },
     "metadata": {},
     "output_type": "display_data"
    },
    {
     "data": {
      "image/png": "[encoded data removed]",
      "text/plain": [
       "Plot with title \"Normal Q-Q Plot (x10)\""
      ]
     },
     "metadata": {},
     "output_type": "display_data"
    }
   ],
   "source": [
    "result3 <- mvn(data = data.CFA, mvnTest = \"mardia\", univariatePlot = \"qqplot\")\n",
    "result3"
   ]
  },
  {
   "cell_type": "code",
   "execution_count": 43,
   "metadata": {},
   "outputs": [
    {
     "data": {
      "text/html": [
       "<dl>\n",
       "\t<dt>$multivariateNormality</dt>\n",
       "\t\t<dd><table>\n",
       "<thead><tr><th scope=col>Test</th><th scope=col>Statistic</th><th scope=col>p value</th><th scope=col>Result</th></tr></thead>\n",
       "<tbody>\n",
       "\t<tr><td>Mardia Skewness     </td><td>313.408233975817    </td><td>3.52261343098014e-05</td><td>NO                  </td></tr>\n",
       "\t<tr><td>Mardia Kurtosis     </td><td>2.90890928383008    </td><td>0.00362692085494132 </td><td>NO                  </td></tr>\n",
       "\t<tr><td>MVN                 </td><td>NA                  </td><td>NA                  </td><td>NO                  </td></tr>\n",
       "</tbody>\n",
       "</table>\n",
       "</dd>\n",
       "\t<dt>$univariateNormality</dt>\n",
       "\t\t<dd><table>\n",
       "<thead><tr><th scope=col>Test</th><th scope=col>Variable</th><th scope=col>Statistic</th><th scope=col>p value</th><th scope=col>Normality</th></tr></thead>\n",
       "<tbody>\n",
       "\t<tr><td>Shapiro-Wilk                                        </td><td><span style=white-space:pre-wrap>   x1    </span>   </td><td><span style=white-space:pre-wrap>   0.9231</span>   </td><td><span style=white-space:pre-wrap> &lt;0.001  </span></td><td><span style=white-space:pre-wrap>   NO    </span>   </td></tr>\n",
       "\t<tr><td>Shapiro-Wilk                                        </td><td><span style=white-space:pre-wrap>   x2    </span>   </td><td><span style=white-space:pre-wrap>   0.9037</span>   </td><td><span style=white-space:pre-wrap> &lt;0.001  </span></td><td><span style=white-space:pre-wrap>   NO    </span>   </td></tr>\n",
       "\t<tr><td>Shapiro-Wilk                                        </td><td><span style=white-space:pre-wrap>   x3    </span>   </td><td><span style=white-space:pre-wrap>   0.9329</span>   </td><td><span style=white-space:pre-wrap> &lt;0.001  </span></td><td><span style=white-space:pre-wrap>   NO    </span>   </td></tr>\n",
       "\t<tr><td>Shapiro-Wilk                                        </td><td><span style=white-space:pre-wrap>   x4    </span>   </td><td><span style=white-space:pre-wrap>   0.9198</span>   </td><td><span style=white-space:pre-wrap> &lt;0.001  </span></td><td><span style=white-space:pre-wrap>   NO    </span>   </td></tr>\n",
       "\t<tr><td>Shapiro-Wilk                                        </td><td><span style=white-space:pre-wrap>   x5    </span>   </td><td><span style=white-space:pre-wrap>   0.9194</span>   </td><td><span style=white-space:pre-wrap> &lt;0.001  </span></td><td><span style=white-space:pre-wrap>   NO    </span>   </td></tr>\n",
       "\t<tr><td>Shapiro-Wilk                                        </td><td><span style=white-space:pre-wrap>   x6    </span>   </td><td><span style=white-space:pre-wrap>   0.9239</span>   </td><td><span style=white-space:pre-wrap> &lt;0.001  </span></td><td><span style=white-space:pre-wrap>   NO    </span>   </td></tr>\n",
       "\t<tr><td>Shapiro-Wilk                                        </td><td><span style=white-space:pre-wrap>   x7    </span>   </td><td><span style=white-space:pre-wrap>   0.9210</span>   </td><td><span style=white-space:pre-wrap> &lt;0.001  </span></td><td><span style=white-space:pre-wrap>   NO    </span>   </td></tr>\n",
       "\t<tr><td>Shapiro-Wilk                                        </td><td><span style=white-space:pre-wrap>   x8    </span>   </td><td><span style=white-space:pre-wrap>   0.9304</span>   </td><td><span style=white-space:pre-wrap> &lt;0.001  </span></td><td><span style=white-space:pre-wrap>   NO    </span>   </td></tr>\n",
       "\t<tr><td>Shapiro-Wilk                                        </td><td><span style=white-space:pre-wrap>   x9    </span>   </td><td><span style=white-space:pre-wrap>   0.9338</span>   </td><td><span style=white-space:pre-wrap> &lt;0.001  </span></td><td><span style=white-space:pre-wrap>   NO    </span>   </td></tr>\n",
       "\t<tr><td>Shapiro-Wilk                                        </td><td><span style=white-space:pre-wrap>   x10   </span>   </td><td><span style=white-space:pre-wrap>   0.9221</span>   </td><td><span style=white-space:pre-wrap> &lt;0.001  </span></td><td><span style=white-space:pre-wrap>   NO    </span>   </td></tr>\n",
       "</tbody>\n",
       "</table>\n",
       "</dd>\n",
       "\t<dt>$Descriptives</dt>\n",
       "\t\t<dd><table>\n",
       "<thead><tr><th></th><th scope=col>n</th><th scope=col>Mean</th><th scope=col>Std.Dev</th><th scope=col>Median</th><th scope=col>Min</th><th scope=col>Max</th><th scope=col>25th</th><th scope=col>75th</th><th scope=col>Skew</th><th scope=col>Kurtosis</th></tr></thead>\n",
       "<tbody>\n",
       "\t<tr><th scope=row>x1</th><td>119       </td><td>4.554622  </td><td>1.710870  </td><td>5         </td><td>1         </td><td>7         </td><td>3.0       </td><td>6         </td><td>-0.1627576</td><td>-1.1674096</td></tr>\n",
       "\t<tr><th scope=row>x2</th><td>119       </td><td>4.739496  </td><td>1.440705  </td><td>5         </td><td>2         </td><td>7         </td><td>4.0       </td><td>6         </td><td>-0.3694907</td><td>-0.9798036</td></tr>\n",
       "\t<tr><th scope=row>x3</th><td>119       </td><td>4.705882  </td><td>1.520219  </td><td>5         </td><td>1         </td><td>7         </td><td>4.0       </td><td>6         </td><td>-0.2615478</td><td>-0.8855300</td></tr>\n",
       "\t<tr><th scope=row>x4</th><td>119       </td><td>4.638655  </td><td>1.582377  </td><td>5         </td><td>1         </td><td>7         </td><td>3.0       </td><td>6         </td><td>-0.4434717</td><td>-0.7920939</td></tr>\n",
       "\t<tr><th scope=row>x5</th><td>119       </td><td>4.663866  </td><td>1.519798  </td><td>5         </td><td>1         </td><td>7         </td><td>3.0       </td><td>6         </td><td>-0.3749610</td><td>-0.9065121</td></tr>\n",
       "\t<tr><th scope=row>x6</th><td>119       </td><td>4.798319  </td><td>1.521484  </td><td>5         </td><td>1         </td><td>7         </td><td>4.0       </td><td>6         </td><td>-0.3334305</td><td>-0.9074811</td></tr>\n",
       "\t<tr><th scope=row>x7</th><td>119       </td><td>4.722689  </td><td>1.550967  </td><td>5         </td><td>1         </td><td>7         </td><td>3.5       </td><td>6         </td><td>-0.4286750</td><td>-0.8067804</td></tr>\n",
       "\t<tr><th scope=row>x8</th><td>119       </td><td>4.462185  </td><td>1.686386  </td><td>5         </td><td>1         </td><td>7         </td><td>3.0       </td><td>6         </td><td>-0.2033397</td><td>-1.0466313</td></tr>\n",
       "\t<tr><th scope=row>x9</th><td>119       </td><td>4.386555  </td><td>1.693003  </td><td>4         </td><td>1         </td><td>7         </td><td>3.0       </td><td>6         </td><td>-0.1750662</td><td>-1.0213243</td></tr>\n",
       "\t<tr><th scope=row>x10</th><td>119       </td><td>4.352941  </td><td>1.629122  </td><td>5         </td><td>1         </td><td>7         </td><td>3.0       </td><td>6         </td><td>-0.2814830</td><td>-1.0571467</td></tr>\n",
       "</tbody>\n",
       "</table>\n",
       "</dd>\n",
       "</dl>\n"
      ],
      "text/latex": [
       "\\begin{description}\n",
       "\\item[\\$multivariateNormality] \\begin{tabular}{r|llll}\n",
       " Test & Statistic & p value & Result\\\\\n",
       "\\hline\n",
       "\t Mardia Skewness      & 313.408233975817     & 3.52261343098014e-05 & NO                  \\\\\n",
       "\t Mardia Kurtosis      & 2.90890928383008     & 0.00362692085494132  & NO                  \\\\\n",
       "\t MVN                  & NA                   & NA                   & NO                  \\\\\n",
       "\\end{tabular}\n",
       "\n",
       "\\item[\\$univariateNormality] \\begin{tabular}{r|lllll}\n",
       " Test & Variable & Statistic & p value & Normality\\\\\n",
       "\\hline\n",
       "\t Shapiro-Wilk &    x1        &    0.9231    &  <0.001      &    NO       \\\\\n",
       "\t Shapiro-Wilk &    x2        &    0.9037    &  <0.001      &    NO       \\\\\n",
       "\t Shapiro-Wilk &    x3        &    0.9329    &  <0.001      &    NO       \\\\\n",
       "\t Shapiro-Wilk &    x4        &    0.9198    &  <0.001      &    NO       \\\\\n",
       "\t Shapiro-Wilk &    x5        &    0.9194    &  <0.001      &    NO       \\\\\n",
       "\t Shapiro-Wilk &    x6        &    0.9239    &  <0.001      &    NO       \\\\\n",
       "\t Shapiro-Wilk &    x7        &    0.9210    &  <0.001      &    NO       \\\\\n",
       "\t Shapiro-Wilk &    x8        &    0.9304    &  <0.001      &    NO       \\\\\n",
       "\t Shapiro-Wilk &    x9        &    0.9338    &  <0.001      &    NO       \\\\\n",
       "\t Shapiro-Wilk &    x10       &    0.9221    &  <0.001      &    NO       \\\\\n",
       "\\end{tabular}\n",
       "\n",
       "\\item[\\$Descriptives] \\begin{tabular}{r|llllllllll}\n",
       "  & n & Mean & Std.Dev & Median & Min & Max & 25th & 75th & Skew & Kurtosis\\\\\n",
       "\\hline\n",
       "\tx1 & 119        & 4.554622   & 1.710870   & 5          & 1          & 7          & 3.0        & 6          & -0.1627576 & -1.1674096\\\\\n",
       "\tx2 & 119        & 4.739496   & 1.440705   & 5          & 2          & 7          & 4.0        & 6          & -0.3694907 & -0.9798036\\\\\n",
       "\tx3 & 119        & 4.705882   & 1.520219   & 5          & 1          & 7          & 4.0        & 6          & -0.2615478 & -0.8855300\\\\\n",
       "\tx4 & 119        & 4.638655   & 1.582377   & 5          & 1          & 7          & 3.0        & 6          & -0.4434717 & -0.7920939\\\\\n",
       "\tx5 & 119        & 4.663866   & 1.519798   & 5          & 1          & 7          & 3.0        & 6          & -0.3749610 & -0.9065121\\\\\n",
       "\tx6 & 119        & 4.798319   & 1.521484   & 5          & 1          & 7          & 4.0        & 6          & -0.3334305 & -0.9074811\\\\\n",
       "\tx7 & 119        & 4.722689   & 1.550967   & 5          & 1          & 7          & 3.5        & 6          & -0.4286750 & -0.8067804\\\\\n",
       "\tx8 & 119        & 4.462185   & 1.686386   & 5          & 1          & 7          & 3.0        & 6          & -0.2033397 & -1.0466313\\\\\n",
       "\tx9 & 119        & 4.386555   & 1.693003   & 4          & 1          & 7          & 3.0        & 6          & -0.1750662 & -1.0213243\\\\\n",
       "\tx10 & 119        & 4.352941   & 1.629122   & 5          & 1          & 7          & 3.0        & 6          & -0.2814830 & -1.0571467\\\\\n",
       "\\end{tabular}\n",
       "\n",
       "\\end{description}\n"
      ],
      "text/markdown": [
       "$multivariateNormality\n",
       ":   \n",
       "| Test | Statistic | p value | Result |\n",
       "|---|---|---|---|\n",
       "| Mardia Skewness      | 313.408233975817     | 3.52261343098014e-05 | NO                   |\n",
       "| Mardia Kurtosis      | 2.90890928383008     | 0.00362692085494132  | NO                   |\n",
       "| MVN                  | NA                   | NA                   | NO                   |\n",
       "\n",
       "\n",
       "$univariateNormality\n",
       ":   \n",
       "| Test | Variable | Statistic | p value | Normality |\n",
       "|---|---|---|---|---|\n",
       "| Shapiro-Wilk |    x1        |    0.9231    |  <0.001      |    NO        |\n",
       "| Shapiro-Wilk |    x2        |    0.9037    |  <0.001      |    NO        |\n",
       "| Shapiro-Wilk |    x3        |    0.9329    |  <0.001      |    NO        |\n",
       "| Shapiro-Wilk |    x4        |    0.9198    |  <0.001      |    NO        |\n",
       "| Shapiro-Wilk |    x5        |    0.9194    |  <0.001      |    NO        |\n",
       "| Shapiro-Wilk |    x6        |    0.9239    |  <0.001      |    NO        |\n",
       "| Shapiro-Wilk |    x7        |    0.9210    |  <0.001      |    NO        |\n",
       "| Shapiro-Wilk |    x8        |    0.9304    |  <0.001      |    NO        |\n",
       "| Shapiro-Wilk |    x9        |    0.9338    |  <0.001      |    NO        |\n",
       "| Shapiro-Wilk |    x10       |    0.9221    |  <0.001      |    NO        |\n",
       "\n",
       "\n",
       "$Descriptives\n",
       ":   \n",
       "| <!--/--> | n | Mean | Std.Dev | Median | Min | Max | 25th | 75th | Skew | Kurtosis |\n",
       "|---|---|---|---|---|---|---|---|---|---|---|\n",
       "| x1 | 119        | 4.554622   | 1.710870   | 5          | 1          | 7          | 3.0        | 6          | -0.1627576 | -1.1674096 |\n",
       "| x2 | 119        | 4.739496   | 1.440705   | 5          | 2          | 7          | 4.0        | 6          | -0.3694907 | -0.9798036 |\n",
       "| x3 | 119        | 4.705882   | 1.520219   | 5          | 1          | 7          | 4.0        | 6          | -0.2615478 | -0.8855300 |\n",
       "| x4 | 119        | 4.638655   | 1.582377   | 5          | 1          | 7          | 3.0        | 6          | -0.4434717 | -0.7920939 |\n",
       "| x5 | 119        | 4.663866   | 1.519798   | 5          | 1          | 7          | 3.0        | 6          | -0.3749610 | -0.9065121 |\n",
       "| x6 | 119        | 4.798319   | 1.521484   | 5          | 1          | 7          | 4.0        | 6          | -0.3334305 | -0.9074811 |\n",
       "| x7 | 119        | 4.722689   | 1.550967   | 5          | 1          | 7          | 3.5        | 6          | -0.4286750 | -0.8067804 |\n",
       "| x8 | 119        | 4.462185   | 1.686386   | 5          | 1          | 7          | 3.0        | 6          | -0.2033397 | -1.0466313 |\n",
       "| x9 | 119        | 4.386555   | 1.693003   | 4          | 1          | 7          | 3.0        | 6          | -0.1750662 | -1.0213243 |\n",
       "| x10 | 119        | 4.352941   | 1.629122   | 5          | 1          | 7          | 3.0        | 6          | -0.2814830 | -1.0571467 |\n",
       "\n",
       "\n",
       "\n",
       "\n"
      ],
      "text/plain": [
       "$multivariateNormality\n",
       "             Test        Statistic              p value Result\n",
       "1 Mardia Skewness 313.408233975817 3.52261343098014e-05     NO\n",
       "2 Mardia Kurtosis 2.90890928383008  0.00362692085494132     NO\n",
       "3             MVN             <NA>                 <NA>     NO\n",
       "\n",
       "$univariateNormality\n",
       "           Test  Variable Statistic   p value Normality\n",
       "1  Shapiro-Wilk    x1        0.9231  <0.001      NO    \n",
       "2  Shapiro-Wilk    x2        0.9037  <0.001      NO    \n",
       "3  Shapiro-Wilk    x3        0.9329  <0.001      NO    \n",
       "4  Shapiro-Wilk    x4        0.9198  <0.001      NO    \n",
       "5  Shapiro-Wilk    x5        0.9194  <0.001      NO    \n",
       "6  Shapiro-Wilk    x6        0.9239  <0.001      NO    \n",
       "7  Shapiro-Wilk    x7        0.9210  <0.001      NO    \n",
       "8  Shapiro-Wilk    x8        0.9304  <0.001      NO    \n",
       "9  Shapiro-Wilk    x9        0.9338  <0.001      NO    \n",
       "10 Shapiro-Wilk    x10       0.9221  <0.001      NO    \n",
       "\n",
       "$Descriptives\n",
       "      n     Mean  Std.Dev Median Min Max 25th 75th       Skew   Kurtosis\n",
       "x1  119 4.554622 1.710870      5   1   7  3.0    6 -0.1627576 -1.1674096\n",
       "x2  119 4.739496 1.440705      5   2   7  4.0    6 -0.3694907 -0.9798036\n",
       "x3  119 4.705882 1.520219      5   1   7  4.0    6 -0.2615478 -0.8855300\n",
       "x4  119 4.638655 1.582377      5   1   7  3.0    6 -0.4434717 -0.7920939\n",
       "x5  119 4.663866 1.519798      5   1   7  3.0    6 -0.3749610 -0.9065121\n",
       "x6  119 4.798319 1.521484      5   1   7  4.0    6 -0.3334305 -0.9074811\n",
       "x7  119 4.722689 1.550967      5   1   7  3.5    6 -0.4286750 -0.8067804\n",
       "x8  119 4.462185 1.686386      5   1   7  3.0    6 -0.2033397 -1.0466313\n",
       "x9  119 4.386555 1.693003      4   1   7  3.0    6 -0.1750662 -1.0213243\n",
       "x10 119 4.352941 1.629122      5   1   7  3.0    6 -0.2814830 -1.0571467\n"
      ]
     },
     "metadata": {},
     "output_type": "display_data"
    },
    {
     "data": {
      "image/png": "[encoded data removed]",
      "text/plain": [
       "Plot with title \"\""
      ]
     },
     "metadata": {},
     "output_type": "display_data"
    }
   ],
   "source": [
    "result4 <- mvn(data.CFA, mvnTest = \"mardia\", univariatePlot = \"histogram\")\n",
    "result4"
   ]
  },
  {
   "cell_type": "markdown",
   "metadata": {},
   "source": [
    "The covariance matrix has become singular during the iterations of the MCD algorithm.\n",
    "Pada contoh kasus diatas diketahui matrik varian kovarian singular, diharapkan dalam suatu kasus CFA-SEM matrik varian kovarian adalah non singular. Contoh kasus diatas menyimpulkan data tidak berdistribusi normal multivariat, dalam suatu penelitian diharapkan asumsi tersebut terpenuhi.\n"
   ]
  },
  {
   "cell_type": "code",
   "execution_count": 51,
   "metadata": {},
   "outputs": [],
   "source": [
    "# Second Order CFA"
   ]
  },
  {
   "cell_type": "markdown",
   "metadata": {},
   "source": [
    "Contoh Kasus : Second Order CFA -- > \n",
    "Dari model konseptual dibawah (Path Diagram), maka hipotesa yang diangkat adalah sebagai berikut :\n",
    "\n",
    "H1\t:\tKualitas layanan berkontribusi terhadap kepuasan nasabah\n",
    "\n",
    "H2\t:\tPenanganan komplain berkontribusi terhadap kepuasan nasabah\n",
    "\n",
    "H3\t:\tCitra berkontribusi terhadap kepuasan nasabah\n",
    "\n",
    "atau dengan kata lain bahwa kepuasan nasabah direpresentasikan oleh kualitas layanan, Penanganan komplain dan Citra\n",
    "![image](https://user-images.githubusercontent.com/36166387/79943396-fe042e80-8492-11ea-8480-352734aebb8f.png)"
   ]
  },
  {
   "cell_type": "markdown",
   "metadata": {},
   "source": [
    "Data dapat diunduh pada link dibawah ini,Silakan dibuat latihan sesuai konseptual diatas (Second Order CFA)\n",
    "url = \"https://bit.ly/2wOCoc1\""
   ]
  }
 ],
 "metadata": {
  "kernelspec": {
   "display_name": "R",
   "language": "R",
   "name": "ir"
  },
  "language_info": {
   "codemirror_mode": "r",
   "file_extension": ".r",
   "mimetype": "text/x-r-source",
   "name": "R",
   "pygments_lexer": "r",
   "version": "3.6.2"
  }
 },
 "nbformat": 4,
 "nbformat_minor": 4
}
