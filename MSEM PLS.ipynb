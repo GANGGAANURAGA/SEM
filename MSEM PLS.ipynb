{
 "cells": [
  {
   "attachments": {},
   "cell_type": "markdown",
   "metadata": {},
   "source": [
    "Moderating Structural Equation Modeling / MSEM dengan pendekatan PLS dapat dikerjakan dengan beberapa metode, diantaranya adalah dengan menggunakan i) Product Indicator Approach, ii) a Two-Stage Path Modeling Approach, iii) a Two-Stage Regression Approach, iv) a Categorical Variable Approach. Konsep dalam MSEM yaitu menguji variabel laten (M) yang berperan sebagai variabel moderating.\n",
    "![image](https://user-images.githubusercontent.com/36166387/85215148-b3256b00-b39e-11ea-953b-420bc6f6422d.png)"
   ]
  },
  {
   "attachments": {},
   "cell_type": "markdown",
   "metadata": {},
   "source": [
    "### MSEM PLS - Product Indicator Approach\n",
    "Konsep metode ini dengan membentuk variabel laten baru \"Interaksi\", dimana indikator dari variabel laten interaksi adalah hasil perkalian antara indikator variabel laten eksogen dengan indikator variabel laten yang diduga sebagai moderator. Pada kasus dibawah ini variabel laten image diduga sebagai variabel moderator, yaitu variabel laten yang dapat memperlemah atau memperkuat pengaruh variabel laten satisfaction ke variabel laten loyalty. Berikut konseptual path diagramnya :\n",
    "![image](https://user-images.githubusercontent.com/36166387/85215160-d5b78400-b39e-11ea-98fa-d08b116289a2.png)"
   ]
  },
  {
   "cell_type": "code",
   "execution_count": 1,
   "metadata": {},
   "outputs": [],
   "source": [
    "library(\"plspm\")"
   ]
  },
  {
   "cell_type": "code",
   "execution_count": 2,
   "metadata": {},
   "outputs": [
    {
     "data": {
      "text/html": [
       "<table>\n",
       "<caption>A data.frame: 6 × 28</caption>\n",
       "<thead>\n",
       "\t<tr><th></th><th scope=col>imag1</th><th scope=col>imag2</th><th scope=col>imag3</th><th scope=col>imag4</th><th scope=col>imag5</th><th scope=col>expe1</th><th scope=col>expe2</th><th scope=col>expe3</th><th scope=col>expe4</th><th scope=col>expe5</th><th scope=col>...</th><th scope=col>val4</th><th scope=col>sat1</th><th scope=col>sat2</th><th scope=col>sat3</th><th scope=col>sat4</th><th scope=col>loy1</th><th scope=col>loy2</th><th scope=col>loy3</th><th scope=col>loy4</th><th scope=col>gender</th></tr>\n",
       "\t<tr><th></th><th scope=col>&lt;int&gt;</th><th scope=col>&lt;int&gt;</th><th scope=col>&lt;int&gt;</th><th scope=col>&lt;int&gt;</th><th scope=col>&lt;int&gt;</th><th scope=col>&lt;int&gt;</th><th scope=col>&lt;int&gt;</th><th scope=col>&lt;int&gt;</th><th scope=col>&lt;int&gt;</th><th scope=col>&lt;int&gt;</th><th scope=col>...</th><th scope=col>&lt;int&gt;</th><th scope=col>&lt;int&gt;</th><th scope=col>&lt;int&gt;</th><th scope=col>&lt;int&gt;</th><th scope=col>&lt;int&gt;</th><th scope=col>&lt;int&gt;</th><th scope=col>&lt;int&gt;</th><th scope=col>&lt;int&gt;</th><th scope=col>&lt;int&gt;</th><th scope=col>&lt;fct&gt;</th></tr>\n",
       "</thead>\n",
       "<tbody>\n",
       "\t<tr><th scope=row>1</th><td> 8</td><td> 8</td><td> 9</td><td> 5</td><td>6</td><td> 9</td><td>9</td><td> 5</td><td> 8</td><td> 9</td><td>...</td><td>6</td><td>6</td><td>7</td><td>6</td><td>7</td><td>9</td><td>9</td><td>6</td><td>6</td><td>male  </td></tr>\n",
       "\t<tr><th scope=row>2</th><td> 9</td><td> 9</td><td>10</td><td> 9</td><td>7</td><td> 9</td><td>8</td><td>10</td><td> 8</td><td> 9</td><td>...</td><td>8</td><td>8</td><td>7</td><td>8</td><td>7</td><td>8</td><td>9</td><td>8</td><td>8</td><td>female</td></tr>\n",
       "\t<tr><th scope=row>3</th><td> 9</td><td> 8</td><td> 8</td><td> 8</td><td>8</td><td> 8</td><td>8</td><td> 8</td><td> 9</td><td> 9</td><td>...</td><td>8</td><td>9</td><td>8</td><td>8</td><td>8</td><td>9</td><td>8</td><td>9</td><td>9</td><td>female</td></tr>\n",
       "\t<tr><th scope=row>4</th><td> 8</td><td> 9</td><td> 8</td><td> 9</td><td>7</td><td>10</td><td>6</td><td> 3</td><td>10</td><td>10</td><td>...</td><td>4</td><td>7</td><td>7</td><td>7</td><td>6</td><td>6</td><td>6</td><td>5</td><td>5</td><td>male  </td></tr>\n",
       "\t<tr><th scope=row>5</th><td>10</td><td>10</td><td> 8</td><td>10</td><td>8</td><td> 7</td><td>9</td><td> 8</td><td> 9</td><td> 8</td><td>...</td><td>8</td><td>8</td><td>8</td><td>8</td><td>7</td><td>8</td><td>9</td><td>9</td><td>9</td><td>female</td></tr>\n",
       "\t<tr><th scope=row>6</th><td> 7</td><td> 8</td><td> 8</td><td> 8</td><td>8</td><td> 8</td><td>8</td><td> 8</td><td> 9</td><td>10</td><td>...</td><td>5</td><td>7</td><td>6</td><td>6</td><td>7</td><td>7</td><td>8</td><td>8</td><td>7</td><td>female</td></tr>\n",
       "</tbody>\n",
       "</table>\n"
      ],
      "text/latex": [
       "A data.frame: 6 × 28\n",
       "\\begin{tabular}{r|lllllllllllllllllllll}\n",
       "  & imag1 & imag2 & imag3 & imag4 & imag5 & expe1 & expe2 & expe3 & expe4 & expe5 & ... & val4 & sat1 & sat2 & sat3 & sat4 & loy1 & loy2 & loy3 & loy4 & gender\\\\\n",
       "  & <int> & <int> & <int> & <int> & <int> & <int> & <int> & <int> & <int> & <int> & ... & <int> & <int> & <int> & <int> & <int> & <int> & <int> & <int> & <int> & <fct>\\\\\n",
       "\\hline\n",
       "\t1 &  8 &  8 &  9 &  5 & 6 &  9 & 9 &  5 &  8 &  9 & ... & 6 & 6 & 7 & 6 & 7 & 9 & 9 & 6 & 6 & male  \\\\\n",
       "\t2 &  9 &  9 & 10 &  9 & 7 &  9 & 8 & 10 &  8 &  9 & ... & 8 & 8 & 7 & 8 & 7 & 8 & 9 & 8 & 8 & female\\\\\n",
       "\t3 &  9 &  8 &  8 &  8 & 8 &  8 & 8 &  8 &  9 &  9 & ... & 8 & 9 & 8 & 8 & 8 & 9 & 8 & 9 & 9 & female\\\\\n",
       "\t4 &  8 &  9 &  8 &  9 & 7 & 10 & 6 &  3 & 10 & 10 & ... & 4 & 7 & 7 & 7 & 6 & 6 & 6 & 5 & 5 & male  \\\\\n",
       "\t5 & 10 & 10 &  8 & 10 & 8 &  7 & 9 &  8 &  9 &  8 & ... & 8 & 8 & 8 & 8 & 7 & 8 & 9 & 9 & 9 & female\\\\\n",
       "\t6 &  7 &  8 &  8 &  8 & 8 &  8 & 8 &  8 &  9 & 10 & ... & 5 & 7 & 6 & 6 & 7 & 7 & 8 & 8 & 7 & female\\\\\n",
       "\\end{tabular}\n"
      ],
      "text/markdown": [
       "\n",
       "A data.frame: 6 × 28\n",
       "\n",
       "| <!--/--> | imag1 &lt;int&gt; | imag2 &lt;int&gt; | imag3 &lt;int&gt; | imag4 &lt;int&gt; | imag5 &lt;int&gt; | expe1 &lt;int&gt; | expe2 &lt;int&gt; | expe3 &lt;int&gt; | expe4 &lt;int&gt; | expe5 &lt;int&gt; | ... ... | val4 &lt;int&gt; | sat1 &lt;int&gt; | sat2 &lt;int&gt; | sat3 &lt;int&gt; | sat4 &lt;int&gt; | loy1 &lt;int&gt; | loy2 &lt;int&gt; | loy3 &lt;int&gt; | loy4 &lt;int&gt; | gender &lt;fct&gt; |\n",
       "|---|---|---|---|---|---|---|---|---|---|---|---|---|---|---|---|---|---|---|---|---|---|\n",
       "| 1 |  8 |  8 |  9 |  5 | 6 |  9 | 9 |  5 |  8 |  9 | ... | 6 | 6 | 7 | 6 | 7 | 9 | 9 | 6 | 6 | male   |\n",
       "| 2 |  9 |  9 | 10 |  9 | 7 |  9 | 8 | 10 |  8 |  9 | ... | 8 | 8 | 7 | 8 | 7 | 8 | 9 | 8 | 8 | female |\n",
       "| 3 |  9 |  8 |  8 |  8 | 8 |  8 | 8 |  8 |  9 |  9 | ... | 8 | 9 | 8 | 8 | 8 | 9 | 8 | 9 | 9 | female |\n",
       "| 4 |  8 |  9 |  8 |  9 | 7 | 10 | 6 |  3 | 10 | 10 | ... | 4 | 7 | 7 | 7 | 6 | 6 | 6 | 5 | 5 | male   |\n",
       "| 5 | 10 | 10 |  8 | 10 | 8 |  7 | 9 |  8 |  9 |  8 | ... | 8 | 8 | 8 | 8 | 7 | 8 | 9 | 9 | 9 | female |\n",
       "| 6 |  7 |  8 |  8 |  8 | 8 |  8 | 8 |  8 |  9 | 10 | ... | 5 | 7 | 6 | 6 | 7 | 7 | 8 | 8 | 7 | female |\n",
       "\n"
      ],
      "text/plain": [
       "  imag1 imag2 imag3 imag4 imag5 expe1 expe2 expe3 expe4 expe5 ... val4 sat1\n",
       "1  8     8     9     5    6      9    9      5     8     9    ... 6    6   \n",
       "2  9     9    10     9    7      9    8     10     8     9    ... 8    8   \n",
       "3  9     8     8     8    8      8    8      8     9     9    ... 8    9   \n",
       "4  8     9     8     9    7     10    6      3    10    10    ... 4    7   \n",
       "5 10    10     8    10    8      7    9      8     9     8    ... 8    8   \n",
       "6  7     8     8     8    8      8    8      8     9    10    ... 5    7   \n",
       "  sat2 sat3 sat4 loy1 loy2 loy3 loy4 gender\n",
       "1 7    6    7    9    9    6    6    male  \n",
       "2 7    8    7    8    9    8    8    female\n",
       "3 8    8    8    9    8    9    9    female\n",
       "4 7    7    6    6    6    5    5    male  \n",
       "5 8    8    7    8    9    9    9    female\n",
       "6 6    6    7    7    8    8    7    female"
      ]
     },
     "metadata": {},
     "output_type": "display_data"
    },
    {
     "data": {
      "text/html": [
       "<style>\n",
       ".list-inline {list-style: none; margin:0; padding: 0}\n",
       ".list-inline>li {display: inline-block}\n",
       ".list-inline>li:not(:last-child)::after {content: \"\\00b7\"; padding: 0 .5ex}\n",
       "</style>\n",
       "<ol class=list-inline><li>250</li><li>28</li></ol>\n"
      ],
      "text/latex": [
       "\\begin{enumerate*}\n",
       "\\item 250\n",
       "\\item 28\n",
       "\\end{enumerate*}\n"
      ],
      "text/markdown": [
       "1. 250\n",
       "2. 28\n",
       "\n",
       "\n"
      ],
      "text/plain": [
       "[1] 250  28"
      ]
     },
     "metadata": {},
     "output_type": "display_data"
    }
   ],
   "source": [
    "data(satisfaction)\n",
    "head(satisfaction)\n",
    "dim(satisfaction) # data terdiri dari n = 250 dengan 28 indikator "
   ]
  },
  {
   "cell_type": "markdown",
   "metadata": {},
   "source": [
    "Terdapat 5 indikator untuk variabel laten image, yang diduga sebagai mederator. Kemudian juga diketahui terdapat 4 indikator satisfaction, maka untuk langkah selanjutnya adalah membuat indikator dari variabel laten interakasi. Indikator variabel laten interaksi didapatkan dengan mengalikan indikator dari variabel laten image dengan indikator dari variabel laten satisfaction. Sesuai dengan konseptual path diagram / diagram jalur diatas, dalam kasus ini akan digunakan indikator imag1-imag3 dan sat1-sat3."
   ]
  },
  {
   "cell_type": "code",
   "execution_count": 3,
   "metadata": {},
   "outputs": [
    {
     "data": {
      "text/html": [
       "28"
      ],
      "text/latex": [
       "28"
      ],
      "text/markdown": [
       "28"
      ],
      "text/plain": [
       "[1] 28"
      ]
     },
     "metadata": {},
     "output_type": "display_data"
    }
   ],
   "source": [
    "# membuat indikator interaksi\n",
    "satisfaction1 = satisfaction\n",
    "ncol(satisfaction1) #cek struktur kolom dari dataset awal"
   ]
  },
  {
   "cell_type": "code",
   "execution_count": 4,
   "metadata": {},
   "outputs": [],
   "source": [
    "# membangkitkan data indikator interaksi\n",
    "satisfaction1$inter1 = satisfaction$imag1 * satisfaction$sat1\n",
    "satisfaction1$inter2 = satisfaction$imag1 * satisfaction$sat2\n",
    "satisfaction1$inter3 = satisfaction$imag1 * satisfaction$sat3\n",
    "satisfaction1$inter4 = satisfaction$imag2 * satisfaction$sat1\n",
    "satisfaction1$inter5 = satisfaction$imag2 * satisfaction$sat2\n",
    "satisfaction1$inter6 = satisfaction$imag2 * satisfaction$sat3\n",
    "satisfaction1$inter7 = satisfaction$imag3 * satisfaction$sat1\n",
    "satisfaction1$inter8 = satisfaction$imag3 * satisfaction$sat2\n",
    "satisfaction1$inter9 = satisfaction$imag3 * satisfaction$sat3"
   ]
  },
  {
   "cell_type": "code",
   "execution_count": 6,
   "metadata": {},
   "outputs": [
    {
     "data": {
      "text/html": [
       "37"
      ],
      "text/latex": [
       "37"
      ],
      "text/markdown": [
       "37"
      ],
      "text/plain": [
       "[1] 37"
      ]
     },
     "metadata": {},
     "output_type": "display_data"
    }
   ],
   "source": [
    "ncol(satisfaction1) # cek update data baru, struktur data kolom bertambah 9 mejadi 37 kolom"
   ]
  },
  {
   "cell_type": "code",
   "execution_count": 7,
   "metadata": {},
   "outputs": [],
   "source": [
    "# Membentuk path matrik, menunjukkan pola pengaruh antar variabel laten\n",
    "r1 = c(0, 0, 0, 0)\n",
    "r2 = c(0, 0, 0, 0)\n",
    "r3 = c(0, 0, 0, 0)\n",
    "r4 = c(1, 1, 1, 0)\n",
    "path = rbind(r1,r2,r3,r4) #setting matrik berdasarkan ordo baris\n",
    "# penamaan matrik baris dan kolom\n",
    "rownames(path) = c(\"Image\", \"Inter\", \"Satisfaction\", \"Loyalty\")\n",
    "colnames(path) = c(\"Image\", \"Inter\", \"Satisfaction\", \"Loyalty\")\n",
    "# menentukan blok indikator yang digunakan dalam outer model\n",
    "blok_indikator = list(1:3, 29:37, 20:22, 24:26)\n",
    "# tipe reflektif\n",
    "mode_indikator = rep(\"A\", 4)\n",
    "# running pls dengan bootstrap 200\n",
    "msempls1 = plspm(satisfaction1, path, blok_indikator, mode_indikator, boot.val = TRUE, br = 200)"
   ]
  },
  {
   "cell_type": "code",
   "execution_count": 8,
   "metadata": {},
   "outputs": [
    {
     "data": {
      "text/html": [
       "<table>\n",
       "<caption>A matrix: 4 × 4 of type dbl</caption>\n",
       "<thead>\n",
       "\t<tr><th></th><th scope=col>Image</th><th scope=col>Inter</th><th scope=col>Satisfaction</th><th scope=col>Loyalty</th></tr>\n",
       "</thead>\n",
       "<tbody>\n",
       "\t<tr><th scope=row>Image</th><td>0.000000</td><td> 0.00000000</td><td>0.0000000</td><td>0</td></tr>\n",
       "\t<tr><th scope=row>Inter</th><td>0.000000</td><td> 0.00000000</td><td>0.0000000</td><td>0</td></tr>\n",
       "\t<tr><th scope=row>Satisfaction</th><td>0.000000</td><td> 0.00000000</td><td>0.0000000</td><td>0</td></tr>\n",
       "\t<tr><th scope=row>Loyalty</th><td>0.299946</td><td>-0.04576237</td><td>0.5225669</td><td>0</td></tr>\n",
       "</tbody>\n",
       "</table>\n"
      ],
      "text/latex": [
       "A matrix: 4 × 4 of type dbl\n",
       "\\begin{tabular}{r|llll}\n",
       "  & Image & Inter & Satisfaction & Loyalty\\\\\n",
       "\\hline\n",
       "\tImage & 0.000000 &  0.00000000 & 0.0000000 & 0\\\\\n",
       "\tInter & 0.000000 &  0.00000000 & 0.0000000 & 0\\\\\n",
       "\tSatisfaction & 0.000000 &  0.00000000 & 0.0000000 & 0\\\\\n",
       "\tLoyalty & 0.299946 & -0.04576237 & 0.5225669 & 0\\\\\n",
       "\\end{tabular}\n"
      ],
      "text/markdown": [
       "\n",
       "A matrix: 4 × 4 of type dbl\n",
       "\n",
       "| <!--/--> | Image | Inter | Satisfaction | Loyalty |\n",
       "|---|---|---|---|---|\n",
       "| Image | 0.000000 |  0.00000000 | 0.0000000 | 0 |\n",
       "| Inter | 0.000000 |  0.00000000 | 0.0000000 | 0 |\n",
       "| Satisfaction | 0.000000 |  0.00000000 | 0.0000000 | 0 |\n",
       "| Loyalty | 0.299946 | -0.04576237 | 0.5225669 | 0 |\n",
       "\n"
      ],
      "text/plain": [
       "             Image    Inter       Satisfaction Loyalty\n",
       "Image        0.000000  0.00000000 0.0000000    0      \n",
       "Inter        0.000000  0.00000000 0.0000000    0      \n",
       "Satisfaction 0.000000  0.00000000 0.0000000    0      \n",
       "Loyalty      0.299946 -0.04576237 0.5225669    0      "
      ]
     },
     "metadata": {},
     "output_type": "display_data"
    }
   ],
   "source": [
    "# cek path coeficient / koefisien jalur, menunjukkan pengaruh antar variabel laten\n",
    "msempls1$path_coefs"
   ]
  },
  {
   "cell_type": "code",
   "execution_count": 10,
   "metadata": {},
   "outputs": [],
   "source": [
    "# hasil diatas menunjukkan koefisisen jallur yang bertanda negatif, kemudian akan kita cek tingkat signifikansinya dengan br 200"
   ]
  },
  {
   "cell_type": "code",
   "execution_count": 9,
   "metadata": {},
   "outputs": [
    {
     "data": {
      "image/png": "[encoded data removed]",
      "text/plain": [
       "Plot with title \"\""
      ]
     },
     "metadata": {
      "image/png": {
       "height": 420,
       "width": 420
      },
      "text/plain": {
       "height": 420,
       "width": 420
      }
     },
     "output_type": "display_data"
    }
   ],
   "source": [
    "plot(msempls1)"
   ]
  },
  {
   "cell_type": "code",
   "execution_count": 11,
   "metadata": {},
   "outputs": [
    {
     "data": {
      "text/html": [
       "<table>\n",
       "<caption>A data.frame: 3 × 5</caption>\n",
       "<thead>\n",
       "\t<tr><th></th><th scope=col>Original</th><th scope=col>Mean.Boot</th><th scope=col>Std.Error</th><th scope=col>perc.025</th><th scope=col>perc.975</th></tr>\n",
       "\t<tr><th></th><th scope=col>&lt;dbl&gt;</th><th scope=col>&lt;dbl&gt;</th><th scope=col>&lt;dbl&gt;</th><th scope=col>&lt;dbl&gt;</th><th scope=col>&lt;dbl&gt;</th></tr>\n",
       "</thead>\n",
       "<tbody>\n",
       "\t<tr><th scope=row>Image -&gt; Loyalty</th><td> 0.29994601</td><td> 0.32581347</td><td>0.1273985</td><td> 0.1168312</td><td>0.5628287</td></tr>\n",
       "\t<tr><th scope=row>Inter -&gt; Loyalty</th><td>-0.04576237</td><td>-0.08895286</td><td>0.2134899</td><td>-0.5379880</td><td>0.3035503</td></tr>\n",
       "\t<tr><th scope=row>Satisfaction -&gt; Loyalty</th><td> 0.52256693</td><td> 0.54456715</td><td>0.1421310</td><td> 0.2505289</td><td>0.7972997</td></tr>\n",
       "</tbody>\n",
       "</table>\n"
      ],
      "text/latex": [
       "A data.frame: 3 × 5\n",
       "\\begin{tabular}{r|lllll}\n",
       "  & Original & Mean.Boot & Std.Error & perc.025 & perc.975\\\\\n",
       "  & <dbl> & <dbl> & <dbl> & <dbl> & <dbl>\\\\\n",
       "\\hline\n",
       "\tImage -> Loyalty &  0.29994601 &  0.32581347 & 0.1273985 &  0.1168312 & 0.5628287\\\\\n",
       "\tInter -> Loyalty & -0.04576237 & -0.08895286 & 0.2134899 & -0.5379880 & 0.3035503\\\\\n",
       "\tSatisfaction -> Loyalty &  0.52256693 &  0.54456715 & 0.1421310 &  0.2505289 & 0.7972997\\\\\n",
       "\\end{tabular}\n"
      ],
      "text/markdown": [
       "\n",
       "A data.frame: 3 × 5\n",
       "\n",
       "| <!--/--> | Original &lt;dbl&gt; | Mean.Boot &lt;dbl&gt; | Std.Error &lt;dbl&gt; | perc.025 &lt;dbl&gt; | perc.975 &lt;dbl&gt; |\n",
       "|---|---|---|---|---|---|\n",
       "| Image -&gt; Loyalty |  0.29994601 |  0.32581347 | 0.1273985 |  0.1168312 | 0.5628287 |\n",
       "| Inter -&gt; Loyalty | -0.04576237 | -0.08895286 | 0.2134899 | -0.5379880 | 0.3035503 |\n",
       "| Satisfaction -&gt; Loyalty |  0.52256693 |  0.54456715 | 0.1421310 |  0.2505289 | 0.7972997 |\n",
       "\n"
      ],
      "text/plain": [
       "                        Original    Mean.Boot   Std.Error perc.025   perc.975 \n",
       "Image -> Loyalty         0.29994601  0.32581347 0.1273985  0.1168312 0.5628287\n",
       "Inter -> Loyalty        -0.04576237 -0.08895286 0.2134899 -0.5379880 0.3035503\n",
       "Satisfaction -> Loyalty  0.52256693  0.54456715 0.1421310  0.2505289 0.7972997"
      ]
     },
     "metadata": {},
     "output_type": "display_data"
    }
   ],
   "source": [
    "msempls1$boot$paths # signifikansi koefisien jalur pengaruh antar variabel laten"
   ]
  },
  {
   "cell_type": "markdown",
   "metadata": {},
   "source": [
    "Hasil diatas menunjukkan bahwa pada selang interval 95% didapatkan pengaruh interaksi / Inter terhadap Loyalty melewati nilai 0. Sehingga disimpulkan Image bukan merupakan variabel moderator yang mempengaruhi pengaruh variabel laten Satifaction terhadap Loyalty."
   ]
  },
  {
   "attachments": {},
   "cell_type": "markdown",
   "metadata": {},
   "source": [
    "### MSEM PLS - Two-Stage Path Modeling Approach\n",
    "Konsep moderating dalam pendekatan ini adalah dengan mencari nilai skor faktor SEM PLS terlebih dahulu, setelah itu dengan melakukan perkalian skor faktor dari variabel laten yang berperan sebagai moderator dengan variabel laten eksogen. Berikut adalah konseptual path diagram / diagram jalurnya.\n",
    "![image](https://user-images.githubusercontent.com/36166387/85215172-03043200-b39f-11ea-9335-930e227d7715.png)"
   ]
  },
  {
   "attachments": {},
   "cell_type": "markdown",
   "metadata": {},
   "source": [
    "![image](https://user-images.githubusercontent.com/36166387/85215179-216a2d80-b39f-11ea-820f-8455ac538d21.png)"
   ]
  },
  {
   "cell_type": "code",
   "execution_count": 26,
   "metadata": {},
   "outputs": [],
   "source": [
    "# langkah pertama : lakukan SEM PLS dan kemudian mendapatkan nilai skor faktor dari masing-masing variabel laten\n",
    "\n",
    "# Membentuk path matrik, menunjukkan pola pengaruh antar variabel laten\n",
    "f1 = c(0, 0, 0)\n",
    "f2 = c(0, 0, 0)\n",
    "f3 = c(1, 1, 0)\n",
    "path1 = rbind(f1, f2, f3) #setting matrik berdasarkan ordo baris\n",
    "# penamaan matrik baris\n",
    "rownames(path1) = c(\"Image\", \"Satisfaction\", \"Loyalty\")\n",
    "\n",
    "# menentukan blok indikator yang digunakan dalam outer model\n",
    "blok_indikator1 = list(1:3, 20:22, 24:26)\n",
    "\n",
    "mode_indikator1 = rep(\"A\", 3)\n",
    "# running pls dengan bootstrap dafault\n",
    "msempls1 = plspm(satisfaction, path1, blok_indikator1, mode_indikator1, boot.val = TRUE)\n"
   ]
  },
  {
   "cell_type": "code",
   "execution_count": 27,
   "metadata": {},
   "outputs": [
    {
     "data": {
      "text/html": [
       "<table>\n",
       "<caption>A data.frame: 5 × 4</caption>\n",
       "<thead>\n",
       "\t<tr><th></th><th scope=col>Image</th><th scope=col>Satisfaction</th><th scope=col>Loyalty</th><th scope=col>Inter</th></tr>\n",
       "\t<tr><th></th><th scope=col>&lt;dbl&gt;</th><th scope=col>&lt;dbl&gt;</th><th scope=col>&lt;dbl&gt;</th><th scope=col>&lt;dbl&gt;</th></tr>\n",
       "</thead>\n",
       "<tbody>\n",
       "\t<tr><th scope=row>1</th><td>0.3362603</td><td>-0.34526150</td><td> 0.4094146</td><td>-0.116097737</td></tr>\n",
       "\t<tr><th scope=row>2</th><td>0.9700349</td><td> 0.39696853</td><td> 0.5685805</td><td> 0.385073343</td></tr>\n",
       "\t<tr><th scope=row>3</th><td>0.2747367</td><td> 0.79595562</td><td> 0.7570823</td><td> 0.218678231</td></tr>\n",
       "\t<tr><th scope=row>4</th><td>0.3184179</td><td> 0.02585351</td><td>-0.6876517</td><td> 0.008232222</td></tr>\n",
       "\t<tr><th scope=row>5</th><td>0.8906690</td><td> 0.58824907</td><td> 0.7321784</td><td> 0.523935196</td></tr>\n",
       "</tbody>\n",
       "</table>\n"
      ],
      "text/latex": [
       "A data.frame: 5 × 4\n",
       "\\begin{tabular}{r|llll}\n",
       "  & Image & Satisfaction & Loyalty & Inter\\\\\n",
       "  & <dbl> & <dbl> & <dbl> & <dbl>\\\\\n",
       "\\hline\n",
       "\t1 & 0.3362603 & -0.34526150 &  0.4094146 & -0.116097737\\\\\n",
       "\t2 & 0.9700349 &  0.39696853 &  0.5685805 &  0.385073343\\\\\n",
       "\t3 & 0.2747367 &  0.79595562 &  0.7570823 &  0.218678231\\\\\n",
       "\t4 & 0.3184179 &  0.02585351 & -0.6876517 &  0.008232222\\\\\n",
       "\t5 & 0.8906690 &  0.58824907 &  0.7321784 &  0.523935196\\\\\n",
       "\\end{tabular}\n"
      ],
      "text/markdown": [
       "\n",
       "A data.frame: 5 × 4\n",
       "\n",
       "| <!--/--> | Image &lt;dbl&gt; | Satisfaction &lt;dbl&gt; | Loyalty &lt;dbl&gt; | Inter &lt;dbl&gt; |\n",
       "|---|---|---|---|---|\n",
       "| 1 | 0.3362603 | -0.34526150 |  0.4094146 | -0.116097737 |\n",
       "| 2 | 0.9700349 |  0.39696853 |  0.5685805 |  0.385073343 |\n",
       "| 3 | 0.2747367 |  0.79595562 |  0.7570823 |  0.218678231 |\n",
       "| 4 | 0.3184179 |  0.02585351 | -0.6876517 |  0.008232222 |\n",
       "| 5 | 0.8906690 |  0.58824907 |  0.7321784 |  0.523935196 |\n",
       "\n"
      ],
      "text/plain": [
       "  Image     Satisfaction Loyalty    Inter       \n",
       "1 0.3362603 -0.34526150   0.4094146 -0.116097737\n",
       "2 0.9700349  0.39696853   0.5685805  0.385073343\n",
       "3 0.2747367  0.79595562   0.7570823  0.218678231\n",
       "4 0.3184179  0.02585351  -0.6876517  0.008232222\n",
       "5 0.8906690  0.58824907   0.7321784  0.523935196"
      ]
     },
     "metadata": {},
     "output_type": "display_data"
    }
   ],
   "source": [
    "# Mendapatkan nilai skor faktor\n",
    "Skor = as.data.frame(msempls1$scores)\n",
    "\n",
    "# Membentuk indikator dan variabel laten interaksi berdasarkan nilai skor faktor diatas\n",
    "Skor$Inter = Skor$Image * Skor$Satisfaction\n",
    "head(Skor, n = 5)"
   ]
  },
  {
   "cell_type": "code",
   "execution_count": 28,
   "metadata": {},
   "outputs": [],
   "source": [
    "# Langkah kedua : membentuk MSEM PLS\n",
    "path2 = matrix(c(0, 0, 0, 0, 0, 0, 0, 0, 0, 0, 0, 0, 1, 1, 1, 0),\n",
    "              nrow = 4, ncol = 4, byrow = TRUE)\n",
    "rownames(path2) = c(\"Image\", \"Inter\", \"Satisfaction\", \"Loyalty\")\n",
    "colnames(path2) = c(\"Image\", \"Inter\", \"Satisfaction\", \"Loyalty\")\n",
    "\n",
    "# menentukan blok indikator yang digunakan dalam outer model\n",
    "blok_indikator2 = list(1, 4, 2, 3)\n",
    "\n",
    "mode_indikator2 = rep(\"A\", 4)\n",
    "\n",
    "# running pls dengan bootstrap br = 200\n",
    "msempls2 = plspm(Skor, path2, blok_indikator2, mode_indikator2, boot.val = TRUE,\n",
    "                br = 200)"
   ]
  },
  {
   "cell_type": "code",
   "execution_count": 29,
   "metadata": {},
   "outputs": [
    {
     "data": {
      "text/html": [
       "<table>\n",
       "<caption>A data.frame: 3 × 5</caption>\n",
       "<thead>\n",
       "\t<tr><th></th><th scope=col>Original</th><th scope=col>Mean.Boot</th><th scope=col>Std.Error</th><th scope=col>perc.025</th><th scope=col>perc.975</th></tr>\n",
       "\t<tr><th></th><th scope=col>&lt;dbl&gt;</th><th scope=col>&lt;dbl&gt;</th><th scope=col>&lt;dbl&gt;</th><th scope=col>&lt;dbl&gt;</th><th scope=col>&lt;dbl&gt;</th></tr>\n",
       "</thead>\n",
       "<tbody>\n",
       "\t<tr><th scope=row>Image -&gt; Loyalty</th><td> 0.2769</td><td> 0.2721</td><td>0.0597</td><td> 0.1687</td><td>0.3948</td></tr>\n",
       "\t<tr><th scope=row>Inter -&gt; Loyalty</th><td>-0.0005</td><td>-0.0016</td><td>0.0482</td><td>-0.0929</td><td>0.0875</td></tr>\n",
       "\t<tr><th scope=row>Satisfaction -&gt; Loyalty</th><td> 0.4957</td><td> 0.5013</td><td>0.0697</td><td> 0.3648</td><td>0.6359</td></tr>\n",
       "</tbody>\n",
       "</table>\n"
      ],
      "text/latex": [
       "A data.frame: 3 × 5\n",
       "\\begin{tabular}{r|lllll}\n",
       "  & Original & Mean.Boot & Std.Error & perc.025 & perc.975\\\\\n",
       "  & <dbl> & <dbl> & <dbl> & <dbl> & <dbl>\\\\\n",
       "\\hline\n",
       "\tImage -> Loyalty &  0.2769 &  0.2721 & 0.0597 &  0.1687 & 0.3948\\\\\n",
       "\tInter -> Loyalty & -0.0005 & -0.0016 & 0.0482 & -0.0929 & 0.0875\\\\\n",
       "\tSatisfaction -> Loyalty &  0.4957 &  0.5013 & 0.0697 &  0.3648 & 0.6359\\\\\n",
       "\\end{tabular}\n"
      ],
      "text/markdown": [
       "\n",
       "A data.frame: 3 × 5\n",
       "\n",
       "| <!--/--> | Original &lt;dbl&gt; | Mean.Boot &lt;dbl&gt; | Std.Error &lt;dbl&gt; | perc.025 &lt;dbl&gt; | perc.975 &lt;dbl&gt; |\n",
       "|---|---|---|---|---|---|\n",
       "| Image -&gt; Loyalty |  0.2769 |  0.2721 | 0.0597 |  0.1687 | 0.3948 |\n",
       "| Inter -&gt; Loyalty | -0.0005 | -0.0016 | 0.0482 | -0.0929 | 0.0875 |\n",
       "| Satisfaction -&gt; Loyalty |  0.4957 |  0.5013 | 0.0697 |  0.3648 | 0.6359 |\n",
       "\n"
      ],
      "text/plain": [
       "                        Original Mean.Boot Std.Error perc.025 perc.975\n",
       "Image -> Loyalty         0.2769   0.2721   0.0597     0.1687  0.3948  \n",
       "Inter -> Loyalty        -0.0005  -0.0016   0.0482    -0.0929  0.0875  \n",
       "Satisfaction -> Loyalty  0.4957   0.5013   0.0697     0.3648  0.6359  "
      ]
     },
     "metadata": {},
     "output_type": "display_data"
    }
   ],
   "source": [
    "# cek signifikansi pada bootstrap\n",
    "round(msempls2$boot$paths, 4)"
   ]
  },
  {
   "cell_type": "code",
   "execution_count": 30,
   "metadata": {},
   "outputs": [
    {
     "data": {
      "image/png": "[encoded data removed]",
      "text/plain": [
       "Plot with title \"\""
      ]
     },
     "metadata": {
      "image/png": {
       "height": 420,
       "width": 420
      },
      "text/plain": {
       "height": 420,
       "width": 420
      }
     },
     "output_type": "display_data"
    }
   ],
   "source": [
    "plot(msempls2)"
   ]
  },
  {
   "cell_type": "markdown",
   "metadata": {},
   "source": [
    "Hasil diatas menunjukkan bahwa pada selang interval 95% didapatkan pengaruh interaksi / Inter terhadap Loyalty melewati nilai 0. Sehingga disimpulkan Image bukan merupakan variabel moderator yang mempengaruhi pengaruh variabel laten Satifaction terhadap Loyalty."
   ]
  },
  {
   "cell_type": "markdown",
   "metadata": {},
   "source": [
    "### MSEM PLS - Two-Stage Regression Approach\n",
    "Konsep dari metode ini yaitu melakukan analisis regresi linier berganda dengan data yang didapatkan dari SEM PLS."
   ]
  },
  {
   "attachments": {},
   "cell_type": "markdown",
   "metadata": {},
   "source": [
    "![image](https://user-images.githubusercontent.com/36166387/85215195-4e1e4500-b39f-11ea-8228-e192af94793c.png)"
   ]
  },
  {
   "cell_type": "code",
   "execution_count": 31,
   "metadata": {},
   "outputs": [],
   "source": [
    "# Langkah pertama yaitu melakukan analisis SEM PLS, tujuannya untuk mendapatkan nilai skor faktor\n",
    "# Membentuk path matrik, menunjukkan pola pengaruh antar variabel laten\n",
    "f1 = c(0, 0, 0)\n",
    "f2 = c(0, 0, 0)\n",
    "f3 = c(1, 1, 0)\n",
    "regpath = rbind(f1, f2, f3) #setting matrik berdasarkan ordo baris\n",
    "# penamaan matrik baris\n",
    "rownames(regpath) = c(\"Image\", \"Satisfaction\", \"Loyalty\")\n",
    "\n",
    "# menentukan blok indikator yang digunakan dalam outer model\n",
    "regblok_indikator = list(1:3, 20:22, 24:26)\n",
    "\n",
    "regmode_indikator = rep(\"A\", 3)\n",
    "# running pls dengan bootstrap dafault\n",
    "regmsempls = plspm(satisfaction, regpath, regblok_indikator, regmode_indikator, boot.val = TRUE)"
   ]
  },
  {
   "cell_type": "code",
   "execution_count": 32,
   "metadata": {},
   "outputs": [],
   "source": [
    "# Langkah kedua melakukan analisis regresi berdasarkan data skor faktor hasil dari SEM PLS\n",
    "regskor = as.data.frame(regmsempls$scores)"
   ]
  },
  {
   "cell_type": "code",
   "execution_count": 33,
   "metadata": {},
   "outputs": [
    {
     "data": {
      "text/html": [
       "<table>\n",
       "<caption>A data.frame: 5 × 4</caption>\n",
       "<thead>\n",
       "\t<tr><th></th><th scope=col>Image</th><th scope=col>Satisfaction</th><th scope=col>Loyalty</th><th scope=col>Inter</th></tr>\n",
       "\t<tr><th></th><th scope=col>&lt;dbl&gt;</th><th scope=col>&lt;dbl&gt;</th><th scope=col>&lt;dbl&gt;</th><th scope=col>&lt;dbl&gt;</th></tr>\n",
       "</thead>\n",
       "<tbody>\n",
       "\t<tr><th scope=row>1</th><td>0.3362603</td><td>-0.34526150</td><td> 0.4094146</td><td>-0.116097737</td></tr>\n",
       "\t<tr><th scope=row>2</th><td>0.9700349</td><td> 0.39696853</td><td> 0.5685805</td><td> 0.385073343</td></tr>\n",
       "\t<tr><th scope=row>3</th><td>0.2747367</td><td> 0.79595562</td><td> 0.7570823</td><td> 0.218678231</td></tr>\n",
       "\t<tr><th scope=row>4</th><td>0.3184179</td><td> 0.02585351</td><td>-0.6876517</td><td> 0.008232222</td></tr>\n",
       "\t<tr><th scope=row>5</th><td>0.8906690</td><td> 0.58824907</td><td> 0.7321784</td><td> 0.523935196</td></tr>\n",
       "</tbody>\n",
       "</table>\n"
      ],
      "text/latex": [
       "A data.frame: 5 × 4\n",
       "\\begin{tabular}{r|llll}\n",
       "  & Image & Satisfaction & Loyalty & Inter\\\\\n",
       "  & <dbl> & <dbl> & <dbl> & <dbl>\\\\\n",
       "\\hline\n",
       "\t1 & 0.3362603 & -0.34526150 &  0.4094146 & -0.116097737\\\\\n",
       "\t2 & 0.9700349 &  0.39696853 &  0.5685805 &  0.385073343\\\\\n",
       "\t3 & 0.2747367 &  0.79595562 &  0.7570823 &  0.218678231\\\\\n",
       "\t4 & 0.3184179 &  0.02585351 & -0.6876517 &  0.008232222\\\\\n",
       "\t5 & 0.8906690 &  0.58824907 &  0.7321784 &  0.523935196\\\\\n",
       "\\end{tabular}\n"
      ],
      "text/markdown": [
       "\n",
       "A data.frame: 5 × 4\n",
       "\n",
       "| <!--/--> | Image &lt;dbl&gt; | Satisfaction &lt;dbl&gt; | Loyalty &lt;dbl&gt; | Inter &lt;dbl&gt; |\n",
       "|---|---|---|---|---|\n",
       "| 1 | 0.3362603 | -0.34526150 |  0.4094146 | -0.116097737 |\n",
       "| 2 | 0.9700349 |  0.39696853 |  0.5685805 |  0.385073343 |\n",
       "| 3 | 0.2747367 |  0.79595562 |  0.7570823 |  0.218678231 |\n",
       "| 4 | 0.3184179 |  0.02585351 | -0.6876517 |  0.008232222 |\n",
       "| 5 | 0.8906690 |  0.58824907 |  0.7321784 |  0.523935196 |\n",
       "\n"
      ],
      "text/plain": [
       "  Image     Satisfaction Loyalty    Inter       \n",
       "1 0.3362603 -0.34526150   0.4094146 -0.116097737\n",
       "2 0.9700349  0.39696853   0.5685805  0.385073343\n",
       "3 0.2747367  0.79595562   0.7570823  0.218678231\n",
       "4 0.3184179  0.02585351  -0.6876517  0.008232222\n",
       "5 0.8906690  0.58824907   0.7321784  0.523935196"
      ]
     },
     "metadata": {},
     "output_type": "display_data"
    }
   ],
   "source": [
    "# membangun indikator interaksi\n",
    "regskor$Inter = regskor$Image * regskor$Satisfaction\n",
    "head(regskor, n = 5)"
   ]
  },
  {
   "cell_type": "code",
   "execution_count": 39,
   "metadata": {},
   "outputs": [
    {
     "data": {
      "text/plain": [
       "\n",
       "Call:\n",
       "lm(formula = Loyalty ~ Image + Inter + Satisfaction - 1, data = regskor)\n",
       "\n",
       "Residuals:\n",
       "    Min      1Q  Median      3Q     Max \n",
       "-3.2835 -0.3932  0.0821  0.4275  2.6245 \n",
       "\n",
       "Coefficients:\n",
       "               Estimate Std. Error t value Pr(>|t|)    \n",
       "Image         0.2769506  0.0582104   4.758 3.33e-06 ***\n",
       "Inter        -0.0002456  0.0299314  -0.008    0.993    \n",
       "Satisfaction  0.4957667  0.0599154   8.274 8.09e-15 ***\n",
       "---\n",
       "Signif. codes:  0 '***' 0.001 '**' 0.01 '*' 0.05 '.' 0.1 ' ' 1\n",
       "\n",
       "Residual standard error: 0.7177 on 247 degrees of freedom\n",
       "Multiple R-squared:  0.4911,\tAdjusted R-squared:  0.485 \n",
       "F-statistic: 79.46 on 3 and 247 DF,  p-value: < 2.2e-16\n"
      ]
     },
     "metadata": {},
     "output_type": "display_data"
    }
   ],
   "source": [
    "# melakukan analisis regresi\n",
    "reg = lm(Loyalty ~ Image + Inter + Satisfaction - 1, data = regskor)\n",
    "summary(reg)"
   ]
  },
  {
   "cell_type": "code",
   "execution_count": 40,
   "metadata": {},
   "outputs": [],
   "source": [
    "# plot path diagram / diagram jalur\n",
    "c1 = c(0, 0, 0, 0)\n",
    "c2 = c(0, 0, 0, 0)\n",
    "c3 = c(0, 0, 0, 0)\n",
    "c4 = c(reg$coefficients, 0)\n",
    "reg_path = rbind(c1, c2, c3, c4)\n",
    "rownames(reg_path) = c(\"Image\", \"Inter\", \"Satisfaction\", \"Loyalty\")\n",
    "colnames(reg_path) = c(\"Image\", \"Inter\", \"Satisfaction\", \"Loyalty\")"
   ]
  },
  {
   "cell_type": "code",
   "execution_count": 41,
   "metadata": {},
   "outputs": [
    {
     "data": {
      "image/png": "[encoded data removed]",
      "text/plain": [
       "Plot with title \"\""
      ]
     },
     "metadata": {
      "image/png": {
       "height": 420,
       "width": 420
      },
      "text/plain": {
       "height": 420,
       "width": 420
      }
     },
     "output_type": "display_data"
    }
   ],
   "source": [
    "innerplot(reg_path, show.values = TRUE)"
   ]
  },
  {
   "cell_type": "markdown",
   "metadata": {},
   "source": [
    "Hasil diatas menunjukkan bahwa  pengaruh interaksi / Inter terhadap Loyalty tidak signifikan (0.993 > alpha = 0,05). Sehingga disimpulkan Image bukan merupakan variabel moderator yang mempengaruhi pengaruh variabel Satifaction terhadap Loyalty."
   ]
  },
  {
   "cell_type": "markdown",
   "metadata": {},
   "source": [
    "### MSEM PLS - Categorical Variable Approach ?\n"
   ]
  },
  {
   "cell_type": "code",
   "execution_count": null,
   "metadata": {},
   "outputs": [],
   "source": []
  }
 ],
 "metadata": {
  "kernelspec": {
   "display_name": "R",
   "language": "R",
   "name": "ir"
  },
  "language_info": {
   "codemirror_mode": "r",
   "file_extension": ".r",
   "mimetype": "text/x-r-source",
   "name": "R",
   "pygments_lexer": "r",
   "version": "3.6.2"
  }
 },
 "nbformat": 4,
 "nbformat_minor": 4
}
