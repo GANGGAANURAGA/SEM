{
 "cells": [
  {
   "cell_type": "code",
   "execution_count": 20,
   "metadata": {},
   "outputs": [],
   "source": [
    "update.packages(\"lavaan\")\n",
    "library(\"lavaan\")"
   ]
  },
  {
   "cell_type": "code",
   "execution_count": 21,
   "metadata": {},
   "outputs": [
    {
     "data": {
      "text/html": [
       "<table>\n",
       "<caption>A data.frame: 6 × 10</caption>\n",
       "<thead>\n",
       "\t<tr><th></th><th scope=col>x1</th><th scope=col>x2</th><th scope=col>x3</th><th scope=col>x4</th><th scope=col>x5</th><th scope=col>x6</th><th scope=col>x7</th><th scope=col>x8</th><th scope=col>x9</th><th scope=col>x10</th></tr>\n",
       "\t<tr><th></th><th scope=col>&lt;int&gt;</th><th scope=col>&lt;int&gt;</th><th scope=col>&lt;int&gt;</th><th scope=col>&lt;int&gt;</th><th scope=col>&lt;int&gt;</th><th scope=col>&lt;int&gt;</th><th scope=col>&lt;int&gt;</th><th scope=col>&lt;int&gt;</th><th scope=col>&lt;int&gt;</th><th scope=col>&lt;int&gt;</th></tr>\n",
       "</thead>\n",
       "<tbody>\n",
       "\t<tr><th scope=row>1</th><td>6</td><td>6</td><td>6</td><td>5</td><td>6</td><td>6</td><td>6</td><td>6</td><td>5</td><td>6</td></tr>\n",
       "\t<tr><th scope=row>2</th><td>7</td><td>6</td><td>6</td><td>6</td><td>4</td><td>4</td><td>4</td><td>5</td><td>4</td><td>5</td></tr>\n",
       "\t<tr><th scope=row>3</th><td>4</td><td>6</td><td>5</td><td>5</td><td>5</td><td>5</td><td>5</td><td>4</td><td>5</td><td>6</td></tr>\n",
       "\t<tr><th scope=row>4</th><td>6</td><td>5</td><td>5</td><td>6</td><td>4</td><td>4</td><td>4</td><td>4</td><td>4</td><td>5</td></tr>\n",
       "\t<tr><th scope=row>5</th><td>3</td><td>5</td><td>4</td><td>5</td><td>5</td><td>3</td><td>3</td><td>3</td><td>2</td><td>3</td></tr>\n",
       "\t<tr><th scope=row>6</th><td>6</td><td>6</td><td>6</td><td>6</td><td>5</td><td>5</td><td>5</td><td>6</td><td>6</td><td>6</td></tr>\n",
       "</tbody>\n",
       "</table>\n"
      ],
      "text/latex": [
       "A data.frame: 6 × 10\n",
       "\\begin{tabular}{r|llllllllll}\n",
       "  & x1 & x2 & x3 & x4 & x5 & x6 & x7 & x8 & x9 & x10\\\\\n",
       "  & <int> & <int> & <int> & <int> & <int> & <int> & <int> & <int> & <int> & <int>\\\\\n",
       "\\hline\n",
       "\t1 & 6 & 6 & 6 & 5 & 6 & 6 & 6 & 6 & 5 & 6\\\\\n",
       "\t2 & 7 & 6 & 6 & 6 & 4 & 4 & 4 & 5 & 4 & 5\\\\\n",
       "\t3 & 4 & 6 & 5 & 5 & 5 & 5 & 5 & 4 & 5 & 6\\\\\n",
       "\t4 & 6 & 5 & 5 & 6 & 4 & 4 & 4 & 4 & 4 & 5\\\\\n",
       "\t5 & 3 & 5 & 4 & 5 & 5 & 3 & 3 & 3 & 2 & 3\\\\\n",
       "\t6 & 6 & 6 & 6 & 6 & 5 & 5 & 5 & 6 & 6 & 6\\\\\n",
       "\\end{tabular}\n"
      ],
      "text/markdown": [
       "\n",
       "A data.frame: 6 × 10\n",
       "\n",
       "| <!--/--> | x1 &lt;int&gt; | x2 &lt;int&gt; | x3 &lt;int&gt; | x4 &lt;int&gt; | x5 &lt;int&gt; | x6 &lt;int&gt; | x7 &lt;int&gt; | x8 &lt;int&gt; | x9 &lt;int&gt; | x10 &lt;int&gt; |\n",
       "|---|---|---|---|---|---|---|---|---|---|---|\n",
       "| 1 | 6 | 6 | 6 | 5 | 6 | 6 | 6 | 6 | 5 | 6 |\n",
       "| 2 | 7 | 6 | 6 | 6 | 4 | 4 | 4 | 5 | 4 | 5 |\n",
       "| 3 | 4 | 6 | 5 | 5 | 5 | 5 | 5 | 4 | 5 | 6 |\n",
       "| 4 | 6 | 5 | 5 | 6 | 4 | 4 | 4 | 4 | 4 | 5 |\n",
       "| 5 | 3 | 5 | 4 | 5 | 5 | 3 | 3 | 3 | 2 | 3 |\n",
       "| 6 | 6 | 6 | 6 | 6 | 5 | 5 | 5 | 6 | 6 | 6 |\n",
       "\n"
      ],
      "text/plain": [
       "  x1 x2 x3 x4 x5 x6 x7 x8 x9 x10\n",
       "1 6  6  6  5  6  6  6  6  5  6  \n",
       "2 7  6  6  6  4  4  4  5  4  5  \n",
       "3 4  6  5  5  5  5  5  4  5  6  \n",
       "4 6  5  5  6  4  4  4  4  4  5  \n",
       "5 3  5  4  5  5  3  3  3  2  3  \n",
       "6 6  6  6  6  5  5  5  6  6  6  "
      ]
     },
     "metadata": {},
     "output_type": "display_data"
    },
    {
     "data": {
      "text/html": [
       "<style>\n",
       ".list-inline {list-style: none; margin:0; padding: 0}\n",
       ".list-inline>li {display: inline-block}\n",
       ".list-inline>li:not(:last-child)::after {content: \"\\00b7\"; padding: 0 .5ex}\n",
       "</style>\n",
       "<ol class=list-inline><li>'x1'</li><li>'x2'</li><li>'x3'</li><li>'x4'</li><li>'x5'</li><li>'x6'</li><li>'x7'</li><li>'x8'</li><li>'x9'</li><li>'x10'</li></ol>\n"
      ],
      "text/latex": [
       "\\begin{enumerate*}\n",
       "\\item 'x1'\n",
       "\\item 'x2'\n",
       "\\item 'x3'\n",
       "\\item 'x4'\n",
       "\\item 'x5'\n",
       "\\item 'x6'\n",
       "\\item 'x7'\n",
       "\\item 'x8'\n",
       "\\item 'x9'\n",
       "\\item 'x10'\n",
       "\\end{enumerate*}\n"
      ],
      "text/markdown": [
       "1. 'x1'\n",
       "2. 'x2'\n",
       "3. 'x3'\n",
       "4. 'x4'\n",
       "5. 'x5'\n",
       "6. 'x6'\n",
       "7. 'x7'\n",
       "8. 'x8'\n",
       "9. 'x9'\n",
       "10. 'x10'\n",
       "\n",
       "\n"
      ],
      "text/plain": [
       " [1] \"x1\"  \"x2\"  \"x3\"  \"x4\"  \"x5\"  \"x6\"  \"x7\"  \"x8\"  \"x9\"  \"x10\""
      ]
     },
     "metadata": {},
     "output_type": "display_data"
    }
   ],
   "source": [
    "data.CFA = read.delim(\"cfa.txt\")\n",
    "data.CFA = data.CFA[,1:10]\n",
    "head(data.CFA)\n",
    "names(data.CFA)"
   ]
  },
  {
   "attachments": {},
   "cell_type": "markdown",
   "metadata": {},
   "source": [
    "Hipotesa yang diangkat adalah sebagai berikut :\n",
    "\n",
    "H1 : Kualitas layanan berkontribusi terhadap kepuasan nasabah\n",
    "\n",
    "H2 : Penanganan komplain berkontribusi terhadap kepuasan nasabah\n",
    "\n",
    "H3 : Citra berkontribusi terhadap kepuasan nasabah\n",
    "\n",
    "atau dengan kata lain bahwa kepuasan nasabah direpresentasikan oleh kualitas layanan, Penanganan komplain dan Citra\n",
    "![image](https://user-images.githubusercontent.com/36166387/79945752-b7b1ce00-8498-11ea-96d4-772842a211fe.png)"
   ]
  },
  {
   "cell_type": "code",
   "execution_count": 22,
   "metadata": {},
   "outputs": [
    {
     "name": "stdout",
     "output_type": "stream",
     "text": [
      "lavaan 0.6-5 ended normally after 31 iterations\n",
      "\n",
      "  Estimator                                         ML\n",
      "  Optimization method                           NLMINB\n",
      "  Number of free parameters                         23\n",
      "                                                      \n",
      "  Number of observations                           119\n",
      "                                                      \n",
      "Model Test User Model:\n",
      "                                                      \n",
      "  Test statistic                                37.350\n",
      "  Degrees of freedom                                32\n",
      "  P-value (Chi-square)                           0.237\n",
      "\n",
      "Model Test Baseline Model:\n",
      "\n",
      "  Test statistic                              1271.573\n",
      "  Degrees of freedom                                45\n",
      "  P-value                                        0.000\n",
      "\n",
      "User Model versus Baseline Model:\n",
      "\n",
      "  Comparative Fit Index (CFI)                    0.996\n",
      "  Tucker-Lewis Index (TLI)                       0.994\n",
      "\n",
      "Loglikelihood and Information Criteria:\n",
      "\n",
      "  Loglikelihood user model (H0)              -1613.113\n",
      "  Loglikelihood unrestricted model (H1)      -1594.438\n",
      "                                                      \n",
      "  Akaike (AIC)                                3272.225\n",
      "  Bayesian (BIC)                              3336.145\n",
      "  Sample-size adjusted Bayesian (BIC)         3263.433\n",
      "\n",
      "Root Mean Square Error of Approximation:\n",
      "\n",
      "  RMSEA                                          0.037\n",
      "  90 Percent confidence interval - lower         0.000\n",
      "  90 Percent confidence interval - upper         0.081\n",
      "  P-value RMSEA <= 0.05                          0.636\n",
      "\n",
      "Standardized Root Mean Square Residual:\n",
      "\n",
      "  SRMR                                           0.026\n",
      "\n",
      "Parameter Estimates:\n",
      "\n",
      "  Information                                 Expected\n",
      "  Information saturated (h1) model          Structured\n",
      "  Standard errors                             Standard\n",
      "\n",
      "Latent Variables:\n",
      "                         Estimate  Std.Err  z-value  P(>|z|)   Std.lv  Std.all\n",
      "  Kepuasannasabah =~                                                          \n",
      "    Kualitas_laynn          1.000                               0.937    0.937\n",
      "    Penangnn_kmpln          1.072    0.114    9.442    0.000    0.943    0.943\n",
      "    citra                   1.173    0.125    9.361    0.000    0.923    0.923\n",
      "  Kualitas_layanan =~                                                         \n",
      "    x1                      1.000                               1.305    0.766\n",
      "    x2                      1.022    0.090   11.381    0.000    1.333    0.929\n",
      "    x3                      1.081    0.095   11.418    0.000    1.410    0.932\n",
      "    x4                      1.054    0.100   10.513    0.000    1.376    0.873\n",
      "  Penanganan_komplain =~                                                      \n",
      "    x5                      1.000                               1.390    0.918\n",
      "    x6                      0.948    0.065   14.499    0.000    1.317    0.870\n",
      "    x7                      1.009    0.062   16.162    0.000    1.402    0.908\n",
      "  citra =~                                                                    \n",
      "    x8                      1.000                               1.554    0.925\n",
      "    x9                      0.936    0.066   14.262    0.000    1.454    0.862\n",
      "    x10                     0.916    0.062   14.862    0.000    1.423    0.877\n",
      "\n",
      "Variances:\n",
      "                   Estimate  Std.Err  z-value  P(>|z|)   Std.lv  Std.all\n",
      "   .x1                1.200    0.167    7.191    0.000    1.200    0.413\n",
      "   .x2                0.281    0.053    5.286    0.000    0.281    0.137\n",
      "   .x3                0.303    0.058    5.193    0.000    0.303    0.132\n",
      "   .x4                0.591    0.091    6.512    0.000    0.591    0.238\n",
      "   .x5                0.359    0.070    5.152    0.000    0.359    0.157\n",
      "   .x6                0.560    0.089    6.262    0.000    0.560    0.244\n",
      "   .x7                0.419    0.076    5.476    0.000    0.419    0.176\n",
      "   .x8                0.405    0.088    4.599    0.000    0.405    0.144\n",
      "   .x9                0.728    0.117    6.206    0.000    0.728    0.256\n",
      "   .x10               0.606    0.102    5.961    0.000    0.606    0.230\n",
      "    Kepuasannasabh    1.495    0.328    4.566    0.000    1.000    1.000\n",
      "   .Kualitas_laynn    0.207    0.074    2.793    0.005    0.122    0.122\n",
      "   .Penangnn_kmpln    0.213    0.080    2.664    0.008    0.111    0.111\n",
      "   .citra             0.357    0.108    3.301    0.001    0.148    0.148\n",
      "\n",
      "R-Square:\n",
      "                   Estimate\n",
      "    x1                0.587\n",
      "    x2                0.863\n",
      "    x3                0.868\n",
      "    x4                0.762\n",
      "    x5                0.843\n",
      "    x6                0.756\n",
      "    x7                0.824\n",
      "    x8                0.856\n",
      "    x9                0.744\n",
      "    x10               0.770\n",
      "    Kualitas_laynn    0.878\n",
      "    Penangnn_kmpln    0.889\n",
      "    citra             0.852\n",
      "\n",
      "Modification Indices:\n",
      "\n",
      "                    lhs op rhs    mi    epc sepc.lv sepc.all sepc.nox\n",
      "28      Kepuasannasabah =~  x1 3.071  0.681   0.833    0.489    0.489\n",
      "29      Kepuasannasabah =~  x2 0.003 -0.015  -0.018   -0.013   -0.013\n",
      "30      Kepuasannasabah =~  x3 1.494 -0.335  -0.409   -0.270   -0.270\n",
      "31      Kepuasannasabah =~  x4 0.024  0.047   0.057    0.036    0.036\n",
      "32      Kepuasannasabah =~  x5 2.762 -0.618  -0.756   -0.499   -0.499\n",
      "33      Kepuasannasabah =~  x6 4.045  0.718   0.878    0.579    0.579\n",
      "34      Kepuasannasabah =~  x7 0.105 -0.121  -0.148   -0.096   -0.096\n",
      "35      Kepuasannasabah =~  x8 0.092  0.105   0.128    0.076    0.076\n",
      "36      Kepuasannasabah =~  x9 0.066 -0.083  -0.101   -0.060   -0.060\n",
      "37      Kepuasannasabah =~ x10 0.002 -0.014  -0.018   -0.011   -0.011\n",
      "38     Kualitas_layanan =~  x5 0.273 -0.091  -0.118   -0.078   -0.078\n",
      "39     Kualitas_layanan =~  x6 0.422  0.113   0.148    0.098    0.098\n",
      "40     Kualitas_layanan =~  x7 0.009 -0.016  -0.021   -0.014   -0.014\n",
      "41     Kualitas_layanan =~  x8 0.006  0.014   0.018    0.011    0.011\n",
      "42     Kualitas_layanan =~  x9 0.306  0.102   0.133    0.079    0.079\n",
      "43     Kualitas_layanan =~ x10 0.382 -0.109  -0.143   -0.088   -0.088\n",
      "44  Penanganan_komplain =~  x1 0.466  0.139   0.194    0.114    0.114\n",
      "45  Penanganan_komplain =~  x2 0.001  0.005   0.007    0.005    0.005\n",
      "46  Penanganan_komplain =~  x3 0.054 -0.032  -0.045   -0.030   -0.030\n",
      "47  Penanganan_komplain =~  x4 0.075 -0.043  -0.060   -0.038   -0.038\n",
      "48  Penanganan_komplain =~  x8 0.166  0.076   0.105    0.063    0.063\n",
      "49  Penanganan_komplain =~  x9 0.907 -0.174  -0.242   -0.143   -0.143\n",
      "50  Penanganan_komplain =~ x10 0.265  0.090   0.125    0.077    0.077\n",
      "51                citra =~  x1 6.392  0.422   0.656    0.385    0.385\n",
      "52                citra =~  x2 0.023 -0.016  -0.025   -0.017   -0.017\n",
      "53                citra =~  x3 3.814 -0.218  -0.339   -0.224   -0.224\n",
      "54                citra =~  x4 0.403  0.081   0.126    0.080    0.080\n",
      "55                citra =~  x5 4.557 -0.291  -0.453   -0.299   -0.299\n",
      "56                citra =~  x6 7.603  0.384   0.596    0.394    0.394\n",
      "57                citra =~  x7 0.188 -0.060  -0.094   -0.061   -0.061\n",
      "58                   x1 ~~  x2 1.457 -0.085  -0.085   -0.146   -0.146\n",
      "59                   x1 ~~  x3 0.272 -0.038  -0.038   -0.064   -0.064\n",
      "60                   x1 ~~  x4 0.082  0.026   0.026    0.030    0.030\n",
      "61                   x1 ~~  x5 0.183 -0.032  -0.032   -0.049   -0.049\n",
      "62                   x1 ~~  x6 0.940  0.083   0.083    0.101    0.101\n",
      "63                   x1 ~~  x7 0.870 -0.073  -0.073   -0.103   -0.103\n",
      "64                   x1 ~~  x8 3.153  0.147   0.147    0.211    0.211\n",
      "65                   x1 ~~  x9 2.448  0.153   0.153    0.163    0.163\n",
      "66                   x1 ~~ x10 0.767 -0.079  -0.079   -0.093   -0.093\n",
      "67                   x2 ~~  x3 2.047  0.081   0.081    0.279    0.279\n",
      "68                   x2 ~~  x4 0.242 -0.028  -0.028   -0.070   -0.070\n",
      "69                   x2 ~~  x5 0.090  0.013   0.013    0.040    0.040\n",
      "70                   x2 ~~  x6 0.059  0.012   0.012    0.029    0.029\n",
      "71                   x2 ~~  x7 0.172 -0.018  -0.018   -0.053   -0.053\n",
      "72                   x2 ~~  x8 0.276  0.025   0.025    0.073    0.073\n",
      "73                   x2 ~~  x9 0.472  0.037   0.037    0.083    0.083\n",
      "74                   x2 ~~ x10 2.118 -0.074  -0.074   -0.179   -0.179\n",
      "75                   x3 ~~  x4 0.029  0.010   0.010    0.024    0.024\n",
      "76                   x3 ~~  x5 0.089  0.013   0.013    0.040    0.040\n",
      "77                   x3 ~~  x6 1.597 -0.063  -0.063   -0.154   -0.154\n",
      "78                   x3 ~~  x7 2.114  0.067   0.067    0.188    0.188\n",
      "79                   x3 ~~  x8 0.877 -0.046  -0.046   -0.131   -0.131\n",
      "80                   x3 ~~  x9 0.066 -0.015  -0.015   -0.031   -0.031\n",
      "81                   x3 ~~ x10 0.402 -0.034  -0.034   -0.078   -0.078\n",
      "82                   x4 ~~  x5 0.009 -0.005  -0.005   -0.011   -0.011\n",
      "83                   x4 ~~  x6 0.009  0.006   0.006    0.010    0.010\n",
      "84                   x4 ~~  x7 0.357 -0.035  -0.035   -0.069   -0.069\n",
      "85                   x4 ~~  x8 0.712 -0.052  -0.052   -0.105   -0.105\n",
      "86                   x4 ~~  x9 0.151 -0.028  -0.028   -0.043   -0.043\n",
      "87                   x4 ~~ x10 5.119  0.151   0.151    0.252    0.252\n",
      "88                   x5 ~~  x6 0.105 -0.023  -0.023   -0.050   -0.050\n",
      "89                   x5 ~~  x7 4.045  0.152   0.152    0.392    0.392\n",
      "90                   x5 ~~  x8 0.036 -0.010  -0.010   -0.027   -0.027\n",
      "91                   x5 ~~  x9 3.472 -0.116  -0.116   -0.227   -0.227\n",
      "92                   x5 ~~ x10 0.022  0.009   0.009    0.018    0.018\n",
      "93                   x6 ~~  x7 2.762 -0.118  -0.118   -0.243   -0.243\n",
      "94                   x6 ~~  x8 4.696  0.132   0.132    0.277    0.277\n",
      "95                   x6 ~~  x9 1.124  0.076   0.076    0.118    0.118\n",
      "96                   x6 ~~ x10 0.822 -0.060  -0.060   -0.103   -0.103\n",
      "97                   x7 ~~  x8 1.852 -0.077  -0.077   -0.186   -0.186\n",
      "98                   x7 ~~  x9 0.092 -0.020  -0.020   -0.036   -0.036\n",
      "99                   x7 ~~ x10 2.259  0.092   0.092    0.182    0.182\n",
      "100                  x8 ~~  x9 0.002 -0.005  -0.005   -0.008   -0.008\n",
      "101                  x8 ~~ x10 0.066 -0.025  -0.025   -0.050   -0.050\n",
      "102                  x9 ~~ x10 0.092  0.027   0.027    0.041    0.041\n"
     ]
    }
   ],
   "source": [
    "SecondCFA = 'Kepuasan nasabah =~ Kualitas_layanan + Penanganan_komplain + citra\n",
    "        Kualitas_layanan =~ x1 + x2 + x3 + x4 \n",
    "        Penanganan_komplain =~ x5 + x6 + x7  \n",
    "        citra =~ x8 + x9 + x10\n",
    "        '\n",
    "# fit the model\n",
    "fit.CFA = lavaan(SecondCFA, data=data.CFA, auto.var=TRUE, auto.fix.first=TRUE, auto.cov.lv.x=TRUE)\n",
    "summary(fit.CFA, standardized=TRUE, fit.measures=TRUE, rsq=TRUE, modindices=TRUE)"
   ]
  },
  {
   "cell_type": "code",
   "execution_count": 23,
   "metadata": {},
   "outputs": [],
   "source": [
    "#reliabilitas\n",
    "update.packages(\"semTools\")\n",
    "library(\"semTools\")"
   ]
  },
  {
   "cell_type": "code",
   "execution_count": 24,
   "metadata": {},
   "outputs": [
    {
     "data": {
      "text/html": [
       "<table>\n",
       "<caption>A matrix: 5 × 3 of type dbl</caption>\n",
       "<thead>\n",
       "\t<tr><th></th><th scope=col>Kualitas_layanan</th><th scope=col>Penanganan_komplain</th><th scope=col>citra</th></tr>\n",
       "</thead>\n",
       "<tbody>\n",
       "\t<tr><th scope=row>alpha</th><td>0.92</td><td>0.92</td><td>0.92</td></tr>\n",
       "\t<tr><th scope=row>omega</th><td>0.93</td><td>0.93</td><td>0.92</td></tr>\n",
       "\t<tr><th scope=row>omega2</th><td>0.93</td><td>0.93</td><td>0.92</td></tr>\n",
       "\t<tr><th scope=row>omega3</th><td>0.93</td><td>0.93</td><td>0.92</td></tr>\n",
       "\t<tr><th scope=row>avevar</th><td>0.76</td><td>0.81</td><td>0.79</td></tr>\n",
       "</tbody>\n",
       "</table>\n"
      ],
      "text/latex": [
       "A matrix: 5 × 3 of type dbl\n",
       "\\begin{tabular}{r|lll}\n",
       "  & Kualitas\\_layanan & Penanganan\\_komplain & citra\\\\\n",
       "\\hline\n",
       "\talpha & 0.92 & 0.92 & 0.92\\\\\n",
       "\tomega & 0.93 & 0.93 & 0.92\\\\\n",
       "\tomega2 & 0.93 & 0.93 & 0.92\\\\\n",
       "\tomega3 & 0.93 & 0.93 & 0.92\\\\\n",
       "\tavevar & 0.76 & 0.81 & 0.79\\\\\n",
       "\\end{tabular}\n"
      ],
      "text/markdown": [
       "\n",
       "A matrix: 5 × 3 of type dbl\n",
       "\n",
       "| <!--/--> | Kualitas_layanan | Penanganan_komplain | citra |\n",
       "|---|---|---|---|\n",
       "| alpha | 0.92 | 0.92 | 0.92 |\n",
       "| omega | 0.93 | 0.93 | 0.92 |\n",
       "| omega2 | 0.93 | 0.93 | 0.92 |\n",
       "| omega3 | 0.93 | 0.93 | 0.92 |\n",
       "| avevar | 0.76 | 0.81 | 0.79 |\n",
       "\n"
      ],
      "text/plain": [
       "       Kualitas_layanan Penanganan_komplain citra\n",
       "alpha  0.92             0.92                0.92 \n",
       "omega  0.93             0.93                0.92 \n",
       "omega2 0.93             0.93                0.92 \n",
       "omega3 0.93             0.93                0.92 \n",
       "avevar 0.76             0.81                0.79 "
      ]
     },
     "metadata": {},
     "output_type": "display_data"
    }
   ],
   "source": [
    "reliability(fit.CFA)"
   ]
  },
  {
   "cell_type": "code",
   "execution_count": 9,
   "metadata": {},
   "outputs": [
    {
     "name": "stderr",
     "output_type": "stream",
     "text": [
      "Dev mode: OFF\n",
      "\n"
     ]
    }
   ],
   "source": [
    "# Diagram Jalur / Path Diagram\n",
    "library(\"devtools\")\n",
    "dev_mode()"
   ]
  },
  {
   "cell_type": "code",
   "execution_count": 10,
   "metadata": {},
   "outputs": [
    {
     "name": "stderr",
     "output_type": "stream",
     "text": [
      "Registered S3 methods overwritten by 'huge':\n",
      "  method    from   \n",
      "  plot.sim  BDgraph\n",
      "  print.sim BDgraph\n",
      "\n"
     ]
    },
    {
     "data": {
      "image/png": "[encoded data removed]",
      "text/plain": [
       "plot without title"
      ]
     },
     "metadata": {
      "image/png": {
       "height": 420,
       "width": 420
      },
      "text/plain": {
       "height": 420,
       "width": 420
      }
     },
     "output_type": "display_data"
    }
   ],
   "source": [
    "library(semPlot)\n",
    "semPaths(fit.CFA,whatLabels=\"est.std\",style=\"lisrel\",residuals=TRUE, edge.label.cex=1, layout = \"tree\", rotation = 2, what = \"std\")"
   ]
  },
  {
   "cell_type": "code",
   "execution_count": null,
   "metadata": {},
   "outputs": [],
   "source": [
    "#help(\"semPaths\")"
   ]
  },
  {
   "attachments": {},
   "cell_type": "markdown",
   "metadata": {},
   "source": [
    "#### 1. Uji normal multivariat\n",
    "    \n",
    "    H0 : Data mengikuti sebaran distribusi normal multivariat.\n",
    "    \n",
    "    H1 : Data tidak mengikuti sebaran distribusi normal multivariat.\n",
    "\n",
    "    Pada kasus sebelumnya menyimpulkan data tidak berdistribusi normal multivariat, dalam suatu penelitian diharapkan    asumsi tersebut terpenuhi.\n",
    "    \n",
    "#### 2. Identifikasi Model\n",
    "\n",
    "    2.1  Model Unidentified (df < 0) : Model memiliki estimasi tidak unik dan estimasi hanya dapat dilakukan jika nilai              satu/beberapa parameter telah ditetapkan (predefined) terlebih dahulu. \n",
    "\n",
    "    2.2  Model Just-Identified (df = 0) : Model memiliki derajat bebas nol, hasil estimasi unik dan tepat, tidak ada                kemungkinan menolak model.\n",
    "\n",
    "    2.3  Model Overidentified (df > 0) : memungkinkan model untuk dapat ditolak, **model dengan kondisi seperti ini adalah            model yang diinginkan**.\n",
    "    \n",
    "    Perhitungan df = Jumlah Observasi - Jumlah Parameter yang diestimasi, jumlah observasi = [K *(K+1)]/2 dimana nilai K adalah banyaknya indikator baik indikator pada variabel laten eksogen maupun endogen, maka jumlah observasi = (10(10+1)) / 2 = 55. Jumlah parameter yang dienstimasi = jumlah parameter loading faktor + error pada indikator + parameter antar variabel laten, sehingga jumlah parameter yang diestimasi = 10 + 10 + 3 = 23. Maka df = 55 -23 = 32. Jika dilihat dari output R maka dapat diketahui sebagai berikut : \n",
    "![image](https://user-images.githubusercontent.com/36166387/79945809-d57f3300-8498-11ea-81b6-5d0388e08452.png)\n"
   ]
  },
  {
   "cell_type": "markdown",
   "metadata": {},
   "source": [
    "**3. Pengujian Hipotesis pada model pengukuran / measurement model**\n",
    "\n",
    "   Hipotesis :\n",
    "\n",
    "   H0 : $\\lambda_{jk}$ = 0\n",
    "\n",
    "   H1 : $\\lambda_{jk}$ ≠ 0\n",
    "\n",
    "   Statistik Uji :\tt = $\\lambda_{jk}$ / se($\\lambda_{jk}$) \n",
    "\n",
    "    Hasil diatas menunjukkan bahwa estimasi nilai loading (lihat output : Std.all) pada masing-masing variabel laten adalah valid karena memiliki nilai loading faktor terstandarisasi (Std.all) diatas 0,5, dan dikatakan signifikan karena nilai P(>|z|) masing-masing indikator < alpha = 0,05. Maka dapat disimpulkan bahwa masing-masing indikator valid dan signifikan dalam merepresentasikan variabel latennya. \n",
    "\n",
    "    **Catatan : Yang diperhatikan adalah pengaruh variabel laten terhadap indikatornya. Apakah indikator valid dan signifikan dalam membentuk variabel laten.**"
   ]
  },
  {
   "cell_type": "markdown",
   "metadata": {},
   "source": [
    "#### 4. Reliabilitas : \n",
    "    Berdasarkan pada nilai alpha (output reliabilitas) didapatkan nilai reliabilitas > 0,7  sehingga dapat disimpulkan semua variabel laten memiliki reliabilitas yang baik."
   ]
  },
  {
   "cell_type": "markdown",
   "metadata": {},
   "source": [
    "#### 5. Pengaruh antar variabel laten / model struktural : \n",
    "\n",
    "    Berdasarkan output dapat diketahui bahwa variabel laten yang memiliki kontribusi terbesar dalam merepresentasikan variabel laten kepuasan nasabah adalah penanganan komplain dengan nilai $R^2$ sebesar 0.889, kemudian diikuti dengan variabel laten kualitas layanan dengan nilai $R^2$ sebesar 0.878 dan citra/image dengan nilai $R^2$ sebesar 0.852. "
   ]
  },
  {
   "cell_type": "code",
   "execution_count": null,
   "metadata": {},
   "outputs": [],
   "source": [
    "#help(\"fitMeasures\")"
   ]
  },
  {
   "cell_type": "code",
   "execution_count": 19,
   "metadata": {},
   "outputs": [
    {
     "data": {
      "text/html": [
       "<style>\n",
       ".dl-inline {width: auto; margin:0; padding: 0}\n",
       ".dl-inline>dt, .dl-inline>dd {float: none; width: auto; display: inline-block}\n",
       ".dl-inline>dt::after {content: \":\\0020\"; padding-right: .5ex}\n",
       ".dl-inline>dt:not(:first-of-type) {padding-left: .5ex}\n",
       "</style><dl class=dl-inline><dt>chisq</dt><dd>37.3495149179297</dd><dt>df</dt><dd>32</dd><dt>pvalue</dt><dd>0.236673654279335</dd><dt>cfi</dt><dd>0.995638650656197</dd><dt>rmsea</dt><dd>0.0374807896100452</dd><dt>tli</dt><dd>0.993866852485277</dd><dt>gfi</dt><dd>0.940056902816022</dd></dl>\n"
      ],
      "text/latex": [
       "\\begin{description*}\n",
       "\\item[chisq] 37.3495149179297\n",
       "\\item[df] 32\n",
       "\\item[pvalue] 0.236673654279335\n",
       "\\item[cfi] 0.995638650656197\n",
       "\\item[rmsea] 0.0374807896100452\n",
       "\\item[tli] 0.993866852485277\n",
       "\\item[gfi] 0.940056902816022\n",
       "\\end{description*}\n"
      ],
      "text/markdown": [
       "chisq\n",
       ":   37.3495149179297df\n",
       ":   32pvalue\n",
       ":   0.236673654279335cfi\n",
       ":   0.995638650656197rmsea\n",
       ":   0.0374807896100452tli\n",
       ":   0.993866852485277gfi\n",
       ":   0.940056902816022\n",
       "\n"
      ],
      "text/plain": [
       " chisq     df pvalue    cfi  rmsea    tli    gfi \n",
       "37.350 32.000  0.237  0.996  0.037  0.994  0.940 "
      ]
     },
     "metadata": {},
     "output_type": "display_data"
    }
   ],
   "source": [
    "# Uji Kesesuaian model\n",
    "fitMeasures(fit.CFA, c(\"chisq\", \"df\", \"pvalue\", \"cfi\", \"rmsea\", \"tli\", \"gfi\"))"
   ]
  },
  {
   "cell_type": "markdown",
   "metadata": {},
   "source": [
    "**6. Uji Kesesuaian model**\n",
    "\n",
    "H0 : $\\sum$ = $\\sum(\\theta)$  (matriks varian-kovarian populasi/observasi sama dengan matriks varian-kovarian model    yang diestimasi)\n",
    "    \n",
    "H1 : $\\sum$ ≠ $\\sum(\\theta)$ (matriks varian-kovarian populasi/observasi tidak sama dengan matriks varian-kovarian model yang diestimasi).\n",
    "    \n",
    "    Pengujian Goodness of fit atau kebaikan model berdasarkan nilai CFI diketahui sebesar 0,996 dan TLI sebesar 0.994, nilai probabilitas sebesar 0,237 dan RMSEA = 0.037 < 0,08 sehingga dapat dikatakan bahwa model baik karena lebih dari nilai cut off 0,95. Pada output R anda juga dapat menggunakan kriteria RMSEA atau Probabilitas "
   ]
  },
  {
   "cell_type": "markdown",
   "metadata": {},
   "source": [
    "**7. Modification Index**\n",
    "\n",
    "\tMenurut Joreskog (1993, dalam Brown 2006, hal.123) merekomendasikan bahwa model yang dimodifikasi dimulai dengan bebas mengestimasi parameter tertentu atau parameter konstrain yang memiliki nilai modification index paling tinggi. Jika pada kenyataannya tidak ada parameter yang memiliki modification index tertinggi, maka pertimbangkanlah untuk memilih parameter yang memiliki modification index terbesar kedua.\n",
    "    \n",
    "    Modifikasi indeks digunakan untuk meningkatkan ukuran kebaikan suatu model / goodness of fit, akan tetapi pada saat dilakukan modifikasi disarankan memperhatikan konseptual teori yang membentuk pengaruh antar dalam variabel laten."
   ]
  }
 ],
 "metadata": {
  "kernelspec": {
   "display_name": "R",
   "language": "R",
   "name": "ir"
  },
  "language_info": {
   "codemirror_mode": "r",
   "file_extension": ".r",
   "mimetype": "text/x-r-source",
   "name": "R",
   "pygments_lexer": "r",
   "version": "3.6.2"
  }
 },
 "nbformat": 4,
 "nbformat_minor": 4
}
